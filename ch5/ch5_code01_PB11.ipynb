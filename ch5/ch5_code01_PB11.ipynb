{
  "nbformat": 4,
  "nbformat_minor": 0,
  "metadata": {
    "colab": {
      "name": "ch5_code01-PB11.ipynb",
      "provenance": [],
      "collapsed_sections": [],
      "include_colab_link": true
    },
    "kernelspec": {
      "display_name": "Python 3",
      "language": "python",
      "name": "python3"
    },
    "language_info": {
      "codemirror_mode": {
        "name": "ipython",
        "version": 3
      },
      "file_extension": ".py",
      "mimetype": "text/x-python",
      "name": "python",
      "nbconvert_exporter": "python",
      "pygments_lexer": "ipython3",
      "version": "3.7.5"
    }
  },
  "cells": [
    {
      "cell_type": "markdown",
      "metadata": {
        "id": "view-in-github",
        "colab_type": "text"
      },
      "source": [
        "<a href=\"https://colab.research.google.com/github/jungsh210/PB11/blob/main/ch5/ch5_code01_PB11.ipynb\" target=\"_parent\"><img src=\"https://colab.research.google.com/assets/colab-badge.svg\" alt=\"Open In Colab\"/></a>"
      ]
    },
    {
      "cell_type": "markdown",
      "metadata": {
        "id": "H4jNE-BMAK3f"
      },
      "source": [
        "# ch5_code01.ipynb\n",
        "## 5장 파이썬 날개달기\n",
        "## PB11\n",
        "### 클래스, 모듈, 패키지\n",
        "---\n",
        "- 클래스\n",
        "   - 클래스는 왜 필요한가?\n",
        "   - 클래스와 객체\n",
        "   - 사칙연산 클래스 만들기\n",
        "     - 클래스를 어떻게 만들지 먼저 구상하기\n",
        "     - 클래스 구조 만들기\n",
        "     - 객체에 숫자 지정할 수 있게 만들기\n",
        "     - 더하기 기능 만들기\n",
        "     - 곱하기, 빼기, 나누기 기능 만들기\n",
        "   - 생성자 (Constructor)\n",
        "   - 클래스의 상속\n",
        "   - 메서드 오버라이딩\n",
        "   - 클래스 변수"
      ]
    },
    {
      "cell_type": "markdown",
      "metadata": {
        "id": "8qQMHmlh3RlK"
      },
      "source": [
        "# 클래스란 무엇인가?"
      ]
    },
    {
      "cell_type": "code",
      "metadata": {
        "id": "hXPcvn1CtW6z",
        "colab": {
          "base_uri": "https://localhost:8080/"
        },
        "outputId": "d7b1db29-40b8-456d-b182-c6fb862f3642"
      },
      "source": [
        "# ch5_01_class.py\n",
        "#\n",
        "print(\"클래스란 무엇인가?\")\n",
        "#######################################\n",
        "# 클래스(class)\n",
        "#######################################"
      ],
      "execution_count": null,
      "outputs": [
        {
          "output_type": "stream",
          "text": [
            "클래스란 무엇인가?\n"
          ],
          "name": "stdout"
        }
      ]
    },
    {
      "cell_type": "code",
      "metadata": {
        "id": "arlvxjyidwAU",
        "colab": {
          "base_uri": "https://localhost:8080/"
        },
        "outputId": "7b41b8b8-25e7-40b9-fd94-c096e333d6e0"
      },
      "source": [
        "print(\"클래스는 왜 필요한가?\")\n",
        "\n",
        "print(\"-->\", \"지정된 기능을 수행하는 변수와 함수의 모음\")\n",
        "print(\"-->\", \"인스턴스, 즉 객체를 생성하여 기능을 이용\")\n",
        "print(\"-->\", \"코딩을 객체화\")"
      ],
      "execution_count": null,
      "outputs": [
        {
          "output_type": "stream",
          "text": [
            "클래스는 왜 필요한가?\n",
            "--> 지정된 기능을 수행하는 변수와 함수의 모음\n",
            "--> 인스턴스, 즉 객체를 생성하여 기능을 이용\n",
            "--> 코딩을 객체화\n"
          ],
          "name": "stdout"
        }
      ]
    },
    {
      "cell_type": "markdown",
      "metadata": {
        "id": "D0Oi0fcS_yCv"
      },
      "source": [
        "### [예] 이전에 계산한 결괏값을 기억하고 있는 계산기"
      ]
    },
    {
      "cell_type": "code",
      "metadata": {
        "colab": {
          "base_uri": "https://localhost:8080/"
        },
        "id": "RtkHL4bG_bZB",
        "outputId": "7a439f50-f7ce-4ce7-cc41-712443f70ab5"
      },
      "source": [
        " # [예] 이전에 계산한 결괏값을 기억하고 있는 계산기\n",
        "# \n",
        "result = 0\n",
        "\n",
        "def add(num):           # 매개변수 num을 가지고 있는 add() 함수를 정의합니다.\n",
        "    global result       # global 변수 ---> 최근에 계산한 결과값을 저장합니다.(되도록이면 쓰지 않는게 좋음)\n",
        "    result += num       # result(최근값)값에 num 값이 더해집니다. \n",
        "    return result       # global변수 result값을 반환해줍니다.\n",
        "\n",
        "\n",
        "# 이전에 계산한 결괏값을 기억\n",
        "print(add(3))      # add(3) --> 처음 result값은 0이기 때문에 0+3 이므로 3이 출력됩니다.\n",
        "print(add(4))      # result가 global 변수이기 때문에 최근 계산한 결과값인 3을 유지해서 add(4)는 3+4 이므로 7이 출력됩니다."
      ],
      "execution_count": null,
      "outputs": [
        {
          "output_type": "stream",
          "text": [
            "3\n",
            "7\n"
          ],
          "name": "stdout"
        }
      ]
    },
    {
      "cell_type": "code",
      "metadata": {
        "colab": {
          "base_uri": "https://localhost:8080/"
        },
        "id": "MjSYbOUUaQkk",
        "outputId": "654a9139-3147-4405-eebc-906ce77922d4"
      },
      "source": [
        "result      # result에는 제일 최근 저장된 계산된 값인 7이 들어있는 것을 확인할 수 있습니다."
      ],
      "execution_count": null,
      "outputs": [
        {
          "output_type": "execute_result",
          "data": {
            "text/plain": [
              "7"
            ]
          },
          "metadata": {
            "tags": []
          },
          "execution_count": 3
        }
      ]
    },
    {
      "cell_type": "markdown",
      "metadata": {
        "id": "MtleCWnNY5v2"
      },
      "source": [
        "### 2대의 계산기가 필요한 상황이 발생하면?"
      ]
    },
    {
      "cell_type": "code",
      "metadata": {
        "colab": {
          "base_uri": "https://localhost:8080/"
        },
        "id": "PcL4X2lfYN_Q",
        "outputId": "78a95372-5fba-44f9-aca1-bfb77d217b22"
      },
      "source": [
        "# 2대의 계산기가 필요한 상황이 발생하면?\n",
        "\n",
        "# 두 개의 global 변수 result1 과 result2를 초기화 시킵니다.\n",
        "result1 = 0\n",
        "result2 = 0\n",
        "\n",
        "def add1(num):            # 매개변수 num을 가지고 있는 add1() 함수를 정의합니다.\n",
        "    global result1        # result1에 최근 계산한 결과값을 저장합니다.\n",
        "    result1 += num        # result1에 num 값이 더해집니다. \n",
        "    return result1        # global 변수 result1 값을 반환해줍니다.\n",
        "\n",
        "\n",
        "def add2(num):            # 매개변수 num을 가지고 있는 add2() 함수를 정의합니다.\n",
        "    global result2        # result2에 최근 계산한 결과값을 저장합니다.\n",
        "    result2 += num        # result2에 num 값이 더해집니다.\n",
        "    return result2        # global 변수 result2 값을 반환해 줍니다.\n",
        "\n",
        "\n",
        "\n",
        "print(add1(3))            # add1(3) --> 처음 result1 값은 0이기 때문에 0+3 이므로 3이 출력됩니다\n",
        "print(add1(4))            # result1이 global 변수이기 때문에 최근 계산한 결과값인 3을 유지해서 add1(4)는 3+4 이므로 7이 출력됩니다.\n",
        "\n",
        "print(add2(3))            # add2(3) --> 처음 result2 값은 0이기 때문에 0+3 이므로 3이 출력됩니다\n",
        "print(add2(7))            # result2가 global 변수이기 때문에 최근 계산한 결과값인 3을 유지해서 add2(7)는 3+7 이므로 10이 출력됩니다."
      ],
      "execution_count": null,
      "outputs": [
        {
          "output_type": "stream",
          "text": [
            "3\n",
            "7\n",
            "3\n",
            "10\n"
          ],
          "name": "stdout"
        }
      ]
    },
    {
      "cell_type": "code",
      "metadata": {
        "colab": {
          "base_uri": "https://localhost:8080/"
        },
        "id": "2KyAJPmxvGzD",
        "outputId": "89d85018-5b08-4e31-c644-588c25e8063f"
      },
      "source": [
        "result1, result2     # result1 , result2 를 출력하면 (7,10)이 출력되는 것을 확인할 수 있습니다."
      ],
      "execution_count": null,
      "outputs": [
        {
          "output_type": "execute_result",
          "data": {
            "text/plain": [
              "(7, 10)"
            ]
          },
          "metadata": {
            "tags": []
          },
          "execution_count": 5
        }
      ]
    },
    {
      "cell_type": "code",
      "metadata": {
        "colab": {
          "base_uri": "https://localhost:8080/"
        },
        "id": "SsfgjxyeZAbK",
        "outputId": "062d5f6a-e209-42d9-8cf2-495fd7a31b32"
      },
      "source": [
        "print(\"계산기 1의 결괏값이 계산기 2에 아무 영향을 끼치지 않음을 확인할 수 있다.\")\n",
        "print(\"하지만 계산기가 3개, 5개, 10개로 점점 더 많이 필요해진다면 어떻게 해야 할까? 그때마다 전역 변수와 함수를 추가할 것인가?\")\n",
        "print(\"-->\", \"클래스를 사용하면 간단하게 해결이 됩니다.\")"
      ],
      "execution_count": null,
      "outputs": [
        {
          "output_type": "stream",
          "text": [
            "계산기 1의 결괏값이 계산기 2에 아무 영향을 끼치지 않음을 확인할 수 있다.\n",
            "하지만 계산기가 3개, 5개, 10개로 점점 더 많이 필요해진다면 어떻게 해야 할까? 그때마다 전역 변수와 함수를 추가할 것인가?\n",
            "--> 클래스를 사용하면 간단하게 해결이 됩니다.\n"
          ],
          "name": "stdout"
        }
      ]
    },
    {
      "cell_type": "markdown",
      "metadata": {
        "id": "_uqgkYw8varw"
      },
      "source": [
        "### 클래스를 설계"
      ]
    },
    {
      "cell_type": "code",
      "metadata": {
        "id": "qptdWLgdutHp",
        "colab": {
          "base_uri": "https://localhost:8080/"
        },
        "outputId": "7c60c78d-2109-42da-8900-4e768bc34380"
      },
      "source": [
        "#######################################\n",
        "print(\"클래스를 사용하면 간단하게 해결\")\n",
        "#######################################\n",
        "\n",
        "# class Calculator     \n",
        "class Calculator:          # 클래스의 이름은 영어 알파벳 대문자로 시작해야 합니다.\n",
        "    def __init__(self):    # __init__() 함수: 클래스를 초기화시키는 함수입니다.   --> 클래스가 잘 작동할 수 있게 해주는 역할을 합니다. \n",
        "        self.result = 0    # self : 클래스 자기 자신을 가리킵니다.  # 클래스가 한번 초기화될 때마다 __init__() 함수가 실행이 되면서 클래스 안에 있는 객체변수 result를 0으로 초기화 시킵니다.\n",
        "\n",
        "    # 추가되는 함수에는 반드시 객체 자신을 가르키는 self 변수가 첫 번째 인수로 들어갑니다.\n",
        "    def add(self, num):             # 첫 번째 인수가 self 변수이고, 매개변수가 num인 add() 함수를 정의합니다.\n",
        "        self.result += num          # 현재 객체의 result 변수에 num 값을 더해줍니다.\n",
        "        return self.result          # 현재 객체에 들어있는 result 값을 반환해줍니다.\n",
        "    \n",
        "    # def sub(self, num):\n",
        "    #     self.result -= num\n",
        "    #     return self.result"
      ],
      "execution_count": 3,
      "outputs": [
        {
          "output_type": "stream",
          "text": [
            "클래스를 사용하면 간단하게 해결\n"
          ],
          "name": "stdout"
        }
      ]
    },
    {
      "cell_type": "code",
      "metadata": {
        "colab": {
          "base_uri": "https://localhost:8080/"
        },
        "id": "jJM0dGxMhRN9",
        "outputId": "2a2c66c2-7cd0-4406-95c9-366295da4176"
      },
      "source": [
        "# cal1은 add1의 기능을 하고, cal2는 add2의 기능을 한다고 볼 수 있습니다.\n",
        "\n",
        "cal1 = Calculator()     # Calculator 클래스의 객체 cal1을 만들어 줍니다.  # self는 객체 자신이기 때문에 넣을 필요가 없습니다.\n",
        "cal2 = Calculator()     # Calculator 클래스의 객체 cal2를 만들어 줍니다. \n",
        "\n",
        "# global 변수를 사용했을 때와 똑같은 결과값이 나옵니다.\n",
        "\n",
        "print(cal1.add(3))      # cal1의 처음 result 값이 0이기 때문에 0+3 이므로 3이 출력됩니다. \n",
        "print(cal1.add(4))      # cal1의 result 값에 최근에 계산한 결과값인 3이 저장이 되어 있어서 3+4 이므로 7이 출력됩니다.\n",
        "\n",
        "print(cal2.add(3))      # cal2의 처음 result 값이 0이기 떄문에 0+3 이므로 3이 출력됩니다.\n",
        "print(cal2.add(7))      # cal2의 result 값에 최근에 계산한 결과값인 3이 저장이 되어 있어서 3+7 이므로 10이 출력됩니다."
      ],
      "execution_count": 2,
      "outputs": [
        {
          "output_type": "stream",
          "text": [
            "3\n",
            "7\n",
            "3\n",
            "10\n"
          ],
          "name": "stdout"
        }
      ]
    },
    {
      "cell_type": "code",
      "metadata": {
        "colab": {
          "base_uri": "https://localhost:8080/"
        },
        "id": "oRDVXfJClA4g",
        "outputId": "f1e2c8ce-3ae1-4008-f245-16bb5db93a15"
      },
      "source": [
        "cal3 = Calculator()\n",
        "cal3.add(10)     # cal3의 result 값에 num의 값인 10 말고는 들어있는 값이 없기 때문에 10이 출력됩니다."
      ],
      "execution_count": 4,
      "outputs": [
        {
          "output_type": "execute_result",
          "data": {
            "text/plain": [
              "10"
            ]
          },
          "metadata": {
            "tags": []
          },
          "execution_count": 4
        }
      ]
    },
    {
      "cell_type": "code",
      "metadata": {
        "colab": {
          "base_uri": "https://localhost:8080/"
        },
        "id": "Z_qbni7rlnOk",
        "outputId": "4be9036c-281c-4ced-8be7-ec906eac7573"
      },
      "source": [
        "cal3.add(40)     # cal3의 result 값에 최근에 계산한 결과값인 10이 저장이 되어 있어서 10+40 이므로 50이 출력됩니다."
      ],
      "execution_count": 5,
      "outputs": [
        {
          "output_type": "execute_result",
          "data": {
            "text/plain": [
              "50"
            ]
          },
          "metadata": {
            "tags": []
          },
          "execution_count": 5
        }
      ]
    },
    {
      "cell_type": "markdown",
      "metadata": {
        "id": "evDhIVHptVlg"
      },
      "source": [
        "### 뺄셈(sub)을 추가하고 클래스의 객체를 다시 만들어서 사용하기"
      ]
    },
    {
      "cell_type": "code",
      "metadata": {
        "id": "vPAFzLWDhCUz"
      },
      "source": [
        "# 뺄셈(sub)을 추가하고 클래스의 객체를 다시 만들어서 사용한다.\n",
        "\n",
        "# class Calculator     \n",
        "class Calculator:          # 클래스의 이름은 영어 알파벳 대문자로 시작해야 합니다.\n",
        "    def __init__(self):    # __init__() 함수: 클래스를 초기화시키는 함수입니다.   --> 클래스가 잘 작동할 수 있게 해주는 역할을 합니다. \n",
        "        self.result = 0    # self : 클래스 자기 자신을 가리킵니다.  # 클래스가 한번 초기화될 때마다 __init__() 함수가 실행이 되면서 클래스 안에 있는 객체변수 result를 0으로 초기화 시킵니다.\n",
        "\n",
        "    # 추가되는 함수에는 반드시 객체 자신을 가르키는 self 변수가 첫 번째 인수로 들어갑니다.\n",
        "    def add(self, num):             # 첫 번째 인수가 self 변수이고, 매개변수가 num인 add() 함수를 정의합니다.\n",
        "        self.result += num          # 현재 객체의 result 변수에 num 값을 더해줍니다.\n",
        "        return self.result          # 현재 객체에 들어있는 result 값을 반환해줍니다.\n",
        "    \n",
        "    def sub(self, num):             # 첫 번째 인수가 self 변수이고, 매개변수가 num인 sub() 함수를 정의합니다.\n",
        "        self.result -= num          # 현재 객체의 result 변수에 num 값을 빼줍니다.\n",
        "        return self.result          # 현재 객체에 들어있는 result 값을 반환해줍니다."
      ],
      "execution_count": 7,
      "outputs": []
    },
    {
      "cell_type": "code",
      "metadata": {
        "colab": {
          "base_uri": "https://localhost:8080/"
        },
        "id": "Gya99J0yt39h",
        "outputId": "e04fe600-ee13-4aa5-c43f-80c3b938d27d"
      },
      "source": [
        "cal = Calculator()\n",
        "\n",
        "cal.add(100)        # cal.add()에 처음 result 값이 0이기 때문에 0+100 이므로 result 값에는 100이 들어갑니다.\n",
        "cal.sub(50)         # 위에 cal.add() 에서 result 값에 100이 들어갔기 때문에 cal.sub(50)을 해주면 100-50 이므로 result값에는 50이 들어가므로 50이 출력됩니다."
      ],
      "execution_count": 8,
      "outputs": [
        {
          "output_type": "execute_result",
          "data": {
            "text/plain": [
              "50"
            ]
          },
          "metadata": {
            "tags": []
          },
          "execution_count": 8
        }
      ]
    },
    {
      "cell_type": "markdown",
      "metadata": {
        "id": "i-kTNLeju08r"
      },
      "source": [
        "### 클래스와 객체"
      ]
    },
    {
      "cell_type": "code",
      "metadata": {
        "colab": {
          "base_uri": "https://localhost:8080/"
        },
        "id": "8WZ2mxlZtT4j",
        "outputId": "e8336951-f8cb-4a46-e4db-5483b6032ab2"
      },
      "source": [
        "print(\"클래스와 객체\")\n",
        "print(\"--->\", \"클래스(class)란 똑같은 무엇인가를 계속해서 만들어 낼 수 있는 설계 도면\")\n",
        "print(\"--->\", \"객체(object)란 클래스로 만든 피조물(과자 틀을 사용해 만든 과자)\")\n",
        "print(\"-\", \"클래스(class) : 과자 틀\")\n",
        "print(\"-\", \"객체(object) : 과자 틀을 사용해 만든 과자\")\n",
        "print(\"**\", \"동일한 클래스로 만든 객체들은 서로 전혀 영향을 주지 않는다.\")"
      ],
      "execution_count": 14,
      "outputs": [
        {
          "output_type": "stream",
          "text": [
            "클래스와 객체\n",
            "---> 클래스(class)란 똑같은 무엇인가를 계속해서 만들어 낼 수 있는 설계 도면\n",
            "---> 객체(object)란 클래스로 만든 피조물(과자 틀을 사용해 만든 과자)\n",
            "- 클래스(class) : 과자 틀\n",
            "- 객체(object) : 과자 틀을 사용해 만든 과자\n",
            "** 동일한 클래스로 만든 객체들은 서로 전혀 영향을 주지 않는다.\n"
          ],
          "name": "stdout"
        }
      ]
    },
    {
      "cell_type": "markdown",
      "metadata": {
        "id": "MBBY-EZwvfBr"
      },
      "source": [
        "### 간단한 클래스와 객체"
      ]
    },
    {
      "cell_type": "code",
      "metadata": {
        "colab": {
          "base_uri": "https://localhost:8080/"
        },
        "id": "8UbtO0mVvSqI",
        "outputId": "adab2b04-d9f6-4cea-c17d-5a35cb747611"
      },
      "source": [
        "# 간단한 클래스와 객체 \n",
        "# 만들어진 클래스의 객체는 독립적입니다.\n",
        "\n",
        "class Cookie:       # 클래스의 이름은 Cookie 입니다.\n",
        "    pass            # pass : 아무런 기능이 없는 Cookie 클래스를 만들어 줍니다.\n",
        "\n",
        "a = Cookie()        # Cookie 클래스의 객체 a를 만들어 줍니다.\n",
        "b = Cookie()        # Cookie 클래스의 객체 b를 만들어 줍니다.\n",
        "id(a), id(b), id(a) == id(b)       # a와 b는 서로 다른 객체이므로 서로 다른 id를 가집니다."
      ],
      "execution_count": 12,
      "outputs": [
        {
          "output_type": "execute_result",
          "data": {
            "text/plain": [
              "(139731779829072, 139731779828752, False)"
            ]
          },
          "metadata": {
            "tags": []
          },
          "execution_count": 12
        }
      ]
    },
    {
      "cell_type": "markdown",
      "metadata": {
        "id": "IMwXKD5Uwwia"
      },
      "source": [
        "\n",
        "### 객체와 인스턴스의 차이\n",
        "####  a = Cookie() 이렇게 만든 a는 객체이다. \n",
        "- 그리고 a 객체는 Cookie의 인스턴스이다. \n",
        "- 즉 인스턴스라는 말은 특정 객체(a)가 \n",
        "> 어떤 클래스(Cookie)의 객체인지를 관계 위주로 설명할 때 사용한다"
      ]
    },
    {
      "cell_type": "code",
      "metadata": {
        "id": "SzXLb3izviRb"
      },
      "source": [
        "print(\"사칙연산 클래스 만들기\")\n",
        "#######################################\n",
        "# 사칙연산을 가능하게 하는 FourCal 클래스     \n",
        "# FourCal - Four : 네 가지 사칙연산 , Cal : Calculator 를 의미합니다.  # 두 단어를 합쳐서 클래스를 만들 때는 두 단어의 첫 글자를 대문다로 씁니다.\n",
        "# class FourCal\n",
        "\n",
        "# Usage:\n",
        "# a = FourCal()\n",
        "# a.setdata(4, 2)\n",
        "# a.add(), a.sub(), a.mul(), a.div()\n"
      ],
      "execution_count": null,
      "outputs": []
    },
    {
      "cell_type": "markdown",
      "metadata": {
        "id": "-SMgqo6txyec"
      },
      "source": [
        "### 1. FourCal 클래스 구조 만들기"
      ]
    },
    {
      "cell_type": "code",
      "metadata": {
        "colab": {
          "base_uri": "https://localhost:8080/"
        },
        "id": "lZWTEalixqTx",
        "outputId": "729ba9c0-d175-4d3e-96bc-7d031611d844"
      },
      "source": [
        "print(\"1. FourCal 클래스 구조 만들기\")\n",
        "\n",
        "class FourCal:      # 클래스의 이름은 FourCal입니다.\n",
        "    pass            # pass : 아무런 기능이 없는 Cookie 라는 클래스를 만들어 줍니다.\n",
        "\n",
        "\n",
        "# 객체 만들기\n",
        "a = FourCal()      # FourCal 클래스의 객체 a를 만들어 줍니다.\n",
        "type(a), id(a)     # a는 FourCal 클래스의 객체이기 때문에 type(a)를 출력하면 FourCal 클래스라는 것이 출력이 되고, id(a)를 하면 a의 메모리 주소가 출력이 됩니다. "
      ],
      "execution_count": 15,
      "outputs": [
        {
          "output_type": "stream",
          "text": [
            "1. FourCal 클래스 구조 만들기\n"
          ],
          "name": "stdout"
        },
        {
          "output_type": "execute_result",
          "data": {
            "text/plain": [
              "(__main__.FourCal, 139731779495824)"
            ]
          },
          "metadata": {
            "tags": []
          },
          "execution_count": 15
        }
      ]
    },
    {
      "cell_type": "markdown",
      "metadata": {
        "id": "b39VtMr3y3sX"
      },
      "source": [
        "### 2. 객체에 숫자 지정할 수 있게 만들기"
      ]
    },
    {
      "cell_type": "code",
      "metadata": {
        "colab": {
          "base_uri": "https://localhost:8080/"
        },
        "id": "2q5hOBwwx2F1",
        "outputId": "4872d897-93e7-4c1f-f1bb-ee805467bb5b"
      },
      "source": [
        "print(\"2. 객체에 숫자 지정할 수 있게 만들기\")\n",
        "# function setdata()  # method\n",
        "\n",
        "class FourCal:    # 클래스의 이름은 FourCal 입니다.\n",
        "   def setdata(self, first, second):      # 첫 번째 인수가 self이고, 매개변수가 first, second인 setdata() 함수를 정의합니다.. \n",
        "       self.first = first                 # first의 초기값을 설정해줍니다.\n",
        "       self.second = second               # second의 초기값을 설정해줍니다."
      ],
      "execution_count": 16,
      "outputs": [
        {
          "output_type": "stream",
          "text": [
            "2. 객체에 숫자 지정할 수 있게 만들기\n"
          ],
          "name": "stdout"
        }
      ]
    },
    {
      "cell_type": "code",
      "metadata": {
        "colab": {
          "base_uri": "https://localhost:8080/"
        },
        "id": "afjdMLwGzuhS",
        "outputId": "8c89211c-ea7a-4dc8-fdb7-bfa7a0b81a0c"
      },
      "source": [
        "a = FourCal()        # FourCal 클래스의 객체인 a를 만들어 줍니다.\n",
        "a.setdata(4, 2)      # a.setdata(4,2)  --> 4 : first 변수, 2 : second 변수\n",
        "\n",
        "# 객체 변수\n",
        "a.first   # self.first\n",
        "a.second  # self.second\n",
        "a.first, a.second"
      ],
      "execution_count": 18,
      "outputs": [
        {
          "output_type": "execute_result",
          "data": {
            "text/plain": [
              "(4, 2)"
            ]
          },
          "metadata": {
            "tags": []
          },
          "execution_count": 18
        }
      ]
    },
    {
      "cell_type": "markdown",
      "metadata": {
        "id": "09QUZy1I0pF_"
      },
      "source": [
        "### 객체를 이용하기"
      ]
    },
    {
      "cell_type": "code",
      "metadata": {
        "colab": {
          "base_uri": "https://localhost:8080/"
        },
        "id": "97O4iqZiz1Qw",
        "outputId": "1097bad7-dc1d-455b-96c6-d86805498231"
      },
      "source": [
        "# 객체를 이용하기\n",
        "a = FourCal()       # FourCal 클래스의 객체인 a를 만들어 줍니다.\n",
        "b = FourCal()       # FourCal 클래스의 객체인 b를 만들어 줍니다.\n",
        "\n",
        "print(a is b)       # a is b : a와 b는 같은가?? ---> 클래스의 객체들은 서로 독립적이기 때문에 다릅니다. 그렇기 때문에 False가 출력이 됩니다.\n",
        "\n",
        "type(a), id(a), type(b), id(b)      # a, b의 type은 FourCal 클래스라는 것이 출력이 되고, a 와 b의 메모리 주소는 다르게 출력이 됩니다."
      ],
      "execution_count": 19,
      "outputs": [
        {
          "output_type": "stream",
          "text": [
            "False\n"
          ],
          "name": "stdout"
        },
        {
          "output_type": "execute_result",
          "data": {
            "text/plain": [
              "(__main__.FourCal, 139731779879504, __main__.FourCal, 139731779880336)"
            ]
          },
          "metadata": {
            "tags": []
          },
          "execution_count": 19
        }
      ]
    },
    {
      "cell_type": "code",
      "metadata": {
        "colab": {
          "base_uri": "https://localhost:8080/"
        },
        "id": "5pPLxHNF0lG0",
        "outputId": "eb4a6f7a-e02e-4c28-b138-5d8fb33a0524"
      },
      "source": [
        "a.setdata(4, 2)      # a.setdata(4,2) ---> 4 :a의 first 변수, 2 : a의 second 변수 \n",
        "print(a.first)       # a.first를 출력하면 a의 first의 변수인 4가 출력이 됩니다.\n",
        "b.setdata(3, 7)      # b.setdata(3,7) ---> 3 : b의 first 변수, 7 : b의 second 변수\n",
        "print(b.first)       # b.first를 출력하면 b의 first의 변수인 3이 출력이 됩니다."
      ],
      "execution_count": 20,
      "outputs": [
        {
          "output_type": "stream",
          "text": [
            "4\n",
            "3\n"
          ],
          "name": "stdout"
        }
      ]
    },
    {
      "cell_type": "code",
      "metadata": {
        "colab": {
          "base_uri": "https://localhost:8080/"
        },
        "id": "uwx-qk8A1dpz",
        "outputId": "e6ec7be1-1015-4968-8513-1ff5f2af136a"
      },
      "source": [
        "print(a.first)  # what value?\n",
        "print(\"-->\", \"a 객체의 first 값은 b 객체의 first 값에 영향받지 않고 원래 값을 유지\")\n",
        "print(\"**\", \"클래스로 만든 객체의 객체변수는 다른 객체의 객체변수에 상관없이 독립적인 값을 유지\")\n",
        "\n",
        "id(a.first), id(b.first)"
      ],
      "execution_count": 22,
      "outputs": [
        {
          "output_type": "stream",
          "text": [
            "4\n",
            "--> a 객체의 first 값은 b 객체의 first 값에 영향받지 않고 원래 값을 유지\n",
            "** 클래스로 만든 객체의 객체변수는 다른 객체의 객체변수에 상관없이 독립적인 값을 유지\n"
          ],
          "name": "stdout"
        },
        {
          "output_type": "execute_result",
          "data": {
            "text/plain": [
              "(94082906245728, 94082906245696)"
            ]
          },
          "metadata": {
            "tags": []
          },
          "execution_count": 22
        }
      ]
    },
    {
      "cell_type": "markdown",
      "metadata": {
        "id": "aePyBk3g2Xbg"
      },
      "source": [
        "### 3. 더하기 기능 만들기"
      ]
    },
    {
      "cell_type": "code",
      "metadata": {
        "colab": {
          "base_uri": "https://localhost:8080/"
        },
        "id": "ebE5FgtN0cQe",
        "outputId": "a1176dea-6b53-46b5-97aa-940c3ff7293a"
      },
      "source": [
        "print(\"3. 더하기 기능 만들기\")\n",
        "# function add()  # method\n",
        "\n",
        "class FourCal:      # 클래스의 이름은 FourCal입니다. \n",
        "    def setdata(self, first, second):    # 첫 번째 인수가 self고, 매개변수가 first, second인 setdata() 함수를 정의합니다.\n",
        "        self.first = first\n",
        "        self.second = second\n",
        "\n",
        "    def add(self):                       \n",
        "        result = self.first + self.second          # result 값에는 first 변수와 second 변수의 값을 더한 값이 들어갑니다.\n",
        "        return result                              # 위에서 first 변수와 second 변수를 더해준 값인 result 값을 반환해줍니다."
      ],
      "execution_count": 24,
      "outputs": [
        {
          "output_type": "stream",
          "text": [
            "3. 더하기 기능 만들기\n"
          ],
          "name": "stdout"
        }
      ]
    },
    {
      "cell_type": "code",
      "metadata": {
        "colab": {
          "base_uri": "https://localhost:8080/"
        },
        "id": "9pozxkqw2aki",
        "outputId": "004d47e0-630b-439c-cd01-b256638735bf"
      },
      "source": [
        "a = FourCal()       # FourCal 클래스의 객체인 a를 만들어줍니다.\n",
        "a.setdata(4, 2)     # a.setdata(4,2) --> 4 : a의 first 변수, 2 : a의 second 변수\n",
        "a.add()             # a의 first 변수인 4와 a의 second 변수인 2를 더해준 값인 6이 출력됩니다."
      ],
      "execution_count": 25,
      "outputs": [
        {
          "output_type": "execute_result",
          "data": {
            "text/plain": [
              "6"
            ]
          },
          "metadata": {
            "tags": []
          },
          "execution_count": 25
        }
      ]
    },
    {
      "cell_type": "markdown",
      "metadata": {
        "id": "K1Wxx3R_3dC_"
      },
      "source": [
        "### 4. 곱하기, 빼기, 나누기 기능 추가"
      ]
    },
    {
      "cell_type": "code",
      "metadata": {
        "colab": {
          "base_uri": "https://localhost:8080/"
        },
        "id": "-xSrgwa83G0K",
        "outputId": "99bc2ba0-4907-4081-8474-bb978769ac0e"
      },
      "source": [
        "print(\"4. 곱하기, 빼기, 나누기 기능 추가\")\n",
        "# function sub(), mul(), div()\n",
        "\n",
        "class FourCal:          # 클래스의 이름은 FourCal입니다.\n",
        "      def setdata(self, first, second):        # 첫 번째 인수가 self고, 매개변수가 first, second인 setdata() 함수를 정의합니다.\n",
        "        self.first = first\n",
        "        self.second = second\n",
        "        \n",
        "      def add(self):\n",
        "        result = self.first + self.second     # result 값에는 first 변수와 second 변수의 값을 더한 값이 들어갑니다\n",
        "        return result                         # 위에서 first 변수와 second 변수를 더해준 값인 result 값을 반환해줍니다.\n",
        "\n",
        "      def sub(self):\n",
        "        result = self.first - self.second      # result 값에는 first 변수와 second 변수의 값을 뺀 값이 들어갑니다.\n",
        "        return result                          # 위에서 first 변수와 second 변수를 뺀 값인 result 값을 반환해줍니다.\n",
        "\n",
        "      def mul(self):\n",
        "        result = self.first * self.second      # result 값에는 first 변수와 second 변수의 값을 곱한 값이 들어갑니다.\n",
        "        return result                          # 위에서 first 변수와 second 변수를 곱한 값인 result 값을 반환해줍니다.\n",
        "\n",
        "      def div(self):\n",
        "        result = self.first / self.second      # result 값에는 first 변수와 second 변수의 값을 나눈 값이 들어갑니다.\n",
        "        return result                          # 위에서 first 변수와 second 변수를 나눈 값인 result 값을 반환해줍니다."
      ],
      "execution_count": 46,
      "outputs": [
        {
          "output_type": "stream",
          "text": [
            "4. 곱하기, 빼기, 나누기 기능 추가\n"
          ],
          "name": "stdout"
        }
      ]
    },
    {
      "cell_type": "code",
      "metadata": {
        "colab": {
          "base_uri": "https://localhost:8080/"
        },
        "id": "btBzDLBY3hRj",
        "outputId": "ddb7778d-23be-46fb-9d61-446941469919"
      },
      "source": [
        "a = FourCal()    # FourCal 클래스의 객체인 a를 만들어줍니다.\n",
        "b = FourCal()    # FourCal 클래스의 객체인 b를 만들어줍니다.\n",
        "\n",
        "a.setdata(4, 2)  # a.setdata(4,2) --> 4 : a의 first 변수, 2 : a의 second 변수\n",
        "b.setdata(3, 8)  # b.setdata(3,8) --> 3 : b의 first 변수, 8 : b의 second 변수\n",
        "\n",
        "print(a.add(), a.sub(), a.mul(), a.div())  \n",
        "\n",
        "# a.add() --> a의 first 변수인 4와 a의 second 변수인 2를 더해준 값인 6이 출력됩니다.\n",
        "# a.sub() --> a의 first 변수인 4와 a의 second 변수인 2를 뺀 값인 2가 출력됩니다.\n",
        "# a.mul() --> a의 first 변수인 4와 a의 second 변수인 2를 곱해준 값인 8이 출력됩니다.\n",
        "# a.div() --> a의 first 변수인 4와 a의 second 변수인 2를 나눈 값인 2.0이 출력됩니다.(2.0이 출력되는 이유는 파이썬에서는 실수의 나눗셈으로 실행이 되기 때문입니다.)\n",
        "\n",
        "print(b.add(), b.sub(), b.mul(), b.div())\n",
        "\n",
        "# b.add() --> b의 first 변수인 3과 b의 second 변수인 8를 더해준 값인 11이 출력됩니다.\n",
        "# b.sub() --> b의 first 변수인 3과 b의 second 변수인 8를 뺀 값인 -5가 출력됩니다.\n",
        "# b.mul() --> b의 first 변수인 3과 b의 second 변수인 8를 곱한 값인 24가 출력됩니다.\n",
        "# b.div() --> b의 first 변수인 3과 b의 second 변수인 8를 나눈 값인 0.375가 출력됩니다."
      ],
      "execution_count": 29,
      "outputs": [
        {
          "output_type": "stream",
          "text": [
            "6 2 8 2.0\n",
            "11 -5 24 0.375\n"
          ],
          "name": "stdout"
        }
      ]
    },
    {
      "cell_type": "markdown",
      "metadata": {
        "id": "m0Aj61bZ5xHb"
      },
      "source": [
        "### 생성자(Constructor)\n",
        "- 클래스에 \\_\\_init\\_\\_() 로 정의"
      ]
    },
    {
      "cell_type": "code",
      "metadata": {
        "colab": {
          "base_uri": "https://localhost:8080/",
          "height": 342
        },
        "id": "nA6Vy-n74PZS",
        "outputId": "250c112c-1f89-40d7-c2e9-b354a62af24b"
      },
      "source": [
        "print(\"생성자 (Constructor)\")\n",
        "#######################################\n",
        "#\n",
        "# __init__()\n",
        "#\n",
        "\n",
        "a = FourCal()   # FourCal의 객체 변수 a를 만들어 줍니다.\n",
        "a.add()         # setdata() 함수를 호출을 하지 않고 (=first와 second의 변수를 지정하지 않고) add() 함수를 호출합니다.\n",
        "\n",
        "# FourCal 클래스에는 first 변수가 존재하지 않기 때문에 오류가 납니다.     #  AttributeError"
      ],
      "execution_count": 30,
      "outputs": [
        {
          "output_type": "stream",
          "text": [
            "생성자 (Constructor)\n"
          ],
          "name": "stdout"
        },
        {
          "output_type": "error",
          "ename": "AttributeError",
          "evalue": "ignored",
          "traceback": [
            "\u001b[0;31m---------------------------------------------------------------------------\u001b[0m",
            "\u001b[0;31mAttributeError\u001b[0m                            Traceback (most recent call last)",
            "\u001b[0;32m<ipython-input-30-569ff8eb6aa6>\u001b[0m in \u001b[0;36m<module>\u001b[0;34m()\u001b[0m\n\u001b[1;32m      6\u001b[0m \u001b[0;34m\u001b[0m\u001b[0m\n\u001b[1;32m      7\u001b[0m \u001b[0ma\u001b[0m \u001b[0;34m=\u001b[0m \u001b[0mFourCal\u001b[0m\u001b[0;34m(\u001b[0m\u001b[0;34m)\u001b[0m   \u001b[0;31m# FourCal의 객체 변수 a를 만들어 줍니다.\u001b[0m\u001b[0;34m\u001b[0m\u001b[0;34m\u001b[0m\u001b[0m\n\u001b[0;32m----> 8\u001b[0;31m \u001b[0ma\u001b[0m\u001b[0;34m.\u001b[0m\u001b[0madd\u001b[0m\u001b[0;34m(\u001b[0m\u001b[0;34m)\u001b[0m         \u001b[0;31m# setdata() 함수를 호출을 하지 않고 (=first와 second의 변수를 지정하지 않고) add() 함수를 호출합니다. #  AttributeError\u001b[0m\u001b[0;34m\u001b[0m\u001b[0;34m\u001b[0m\u001b[0m\n\u001b[0m",
            "\u001b[0;32m<ipython-input-28-3625cb157655>\u001b[0m in \u001b[0;36madd\u001b[0;34m(self)\u001b[0m\n\u001b[1;32m      8\u001b[0m \u001b[0;34m\u001b[0m\u001b[0m\n\u001b[1;32m      9\u001b[0m     \u001b[0;32mdef\u001b[0m \u001b[0madd\u001b[0m\u001b[0;34m(\u001b[0m\u001b[0mself\u001b[0m\u001b[0;34m)\u001b[0m\u001b[0;34m:\u001b[0m\u001b[0;34m\u001b[0m\u001b[0;34m\u001b[0m\u001b[0m\n\u001b[0;32m---> 10\u001b[0;31m         \u001b[0mresult\u001b[0m \u001b[0;34m=\u001b[0m \u001b[0mself\u001b[0m\u001b[0;34m.\u001b[0m\u001b[0mfirst\u001b[0m \u001b[0;34m+\u001b[0m \u001b[0mself\u001b[0m\u001b[0;34m.\u001b[0m\u001b[0msecond\u001b[0m     \u001b[0;31m# result 값에는 first 변수와 second 변수의 값을 더한 값이 들어갑니다\u001b[0m\u001b[0;34m\u001b[0m\u001b[0;34m\u001b[0m\u001b[0m\n\u001b[0m\u001b[1;32m     11\u001b[0m         \u001b[0;32mreturn\u001b[0m \u001b[0mresult\u001b[0m                         \u001b[0;31m# 위에서 first 변수와 second 변수를 더해준 값인 result 값을 반환해줍니다.\u001b[0m\u001b[0;34m\u001b[0m\u001b[0;34m\u001b[0m\u001b[0m\n\u001b[1;32m     12\u001b[0m \u001b[0;34m\u001b[0m\u001b[0m\n",
            "\u001b[0;31mAttributeError\u001b[0m: 'FourCal' object has no attribute 'first'"
          ]
        }
      ]
    },
    {
      "cell_type": "code",
      "metadata": {
        "id": "1A-VjyjN9VqS"
      },
      "source": [
        "class FourCal:\n",
        "    def __init__(self, first, second):\n",
        "        self.first = first\n",
        "        self.second = second\n",
        "\n",
        "    def setdata(self, first, second):\n",
        "        self.first = first\n",
        "        self.second = second\n",
        "        \n",
        "    def add(self):\n",
        "        result = self.first + self.second\n",
        "        return result\n",
        "\n",
        "    def sub(self):\n",
        "        result = self.first - self.second\n",
        "        return result\n",
        "\n",
        "    def mul(self):\n",
        "        result = self.first * self.second\n",
        "        return result\n",
        "\n",
        "    def div(self):\n",
        "        result = self.first / self.second\n",
        "        return result "
      ],
      "execution_count": 57,
      "outputs": []
    },
    {
      "cell_type": "code",
      "metadata": {
        "colab": {
          "base_uri": "https://localhost:8080/",
          "height": 168
        },
        "id": "i4UnO4rj9W_M",
        "outputId": "74c192f6-6bad-434b-a634-4a54358e6778"
      },
      "source": [
        "a = FourCal()   \n",
        "\n",
        "# ForCal 클래스의 객체인 a 안에 first, second 변수가 없기 때문에 에러가 뜹니다.     # TypeError"
      ],
      "execution_count": 58,
      "outputs": [
        {
          "output_type": "error",
          "ename": "TypeError",
          "evalue": "ignored",
          "traceback": [
            "\u001b[0;31m---------------------------------------------------------------------------\u001b[0m",
            "\u001b[0;31mTypeError\u001b[0m                                 Traceback (most recent call last)",
            "\u001b[0;32m<ipython-input-58-7767bd0922fa>\u001b[0m in \u001b[0;36m<module>\u001b[0;34m()\u001b[0m\n\u001b[0;32m----> 1\u001b[0;31m \u001b[0ma\u001b[0m \u001b[0;34m=\u001b[0m \u001b[0mFourCal\u001b[0m\u001b[0;34m(\u001b[0m\u001b[0;34m)\u001b[0m   \u001b[0;31m# TypeError:\u001b[0m\u001b[0;34m\u001b[0m\u001b[0;34m\u001b[0m\u001b[0m\n\u001b[0m",
            "\u001b[0;31mTypeError\u001b[0m: __init__() missing 2 required positional arguments: 'first' and 'second'"
          ]
        }
      ]
    },
    {
      "cell_type": "code",
      "metadata": {
        "colab": {
          "base_uri": "https://localhost:8080/"
        },
        "id": "XdFPkiRf7Z4i",
        "outputId": "e5e647c3-df7e-48f6-9d77-ff3c32443d56"
      },
      "source": [
        "a = FourCal(4, 2)        # a = FourCal(4,2) --> 4 : a의 first 변수, 2 : a의 second 변수\n",
        "\n",
        "print(a.first, a.second)    # a.first : 4, a.second : 2 --> 4와 2가 출력됩니다.\n",
        "\n",
        "a.mul(), a.div()     # a의 first의 변수인 4와 a의 second의 변수인 2를 곱한 값인 8이 출력됩니다.  \n",
        "                     # a의 first의 변수인 4와 a의 second의 변수인 2를 나눈 값인 2.0이 출력됩니다.(2.0이 출력되는 이유는 파이썬에서는 실수의 나눗셈이 실행되기 때문입니다.)"
      ],
      "execution_count": 62,
      "outputs": [
        {
          "output_type": "stream",
          "text": [
            "4 2\n"
          ],
          "name": "stdout"
        },
        {
          "output_type": "execute_result",
          "data": {
            "text/plain": [
              "(8, 2.0)"
            ]
          },
          "metadata": {
            "tags": []
          },
          "execution_count": 62
        }
      ]
    },
    {
      "cell_type": "markdown",
      "metadata": {
        "id": "Ho2lZD_j_fFo"
      },
      "source": [
        "### 클래스의 상속\n",
        "- FourCal -> MoreFourCal"
      ]
    },
    {
      "cell_type": "code",
      "metadata": {
        "colab": {
          "base_uri": "https://localhost:8080/"
        },
        "id": "chrAjirk-NHM",
        "outputId": "d818a3d5-d6eb-4be8-a958-737d5d8d7742"
      },
      "source": [
        "print(\"클래스의 상속\")\n",
        "print(\"-->\", \"상속은 기존 클래스를 변경하지 않고 기능을 추가하거나 기존 기능을 변경하려고 할 때 사용합니다.\")\n",
        "\n",
        "print(\"만드는 방법-->\", \"class 클래스 이름(상속할 클래스 이름)\")\n",
        "# \n",
        "# 클래스 FourCal를 상속하는 \n",
        "# class MoreFourCal\n",
        "# FourCal 클래스에 a^b (a의 b제곱)을 구할 수 있는 기능을 추가\n",
        "#\n",
        "\n",
        "class MoreFourCal(FourCal):         # 클래스 이름은 MoreFourCal이고, 상속할 클래스 이름은 FourCal 입니다.\n",
        "    pass                            # pass : 아무런 기능이 없는 MoreFourCal 클래스를 만들어 줍니다.\n",
        "\n",
        "\n",
        "a = MoreFourCal(4, 2)               # MoreFourCal 객체인 a를 만들어줍니다.  \n",
        "                                    # a = MoreFourCal(4,2) --> a의 first변수 : 4, a의 second 변수 : 2\n",
        "a.add(), a.mul()                    # a.add() -> a의 first의 변수 4와 a의 second의 변수 2를 더한 값인 6이 출력됩니다.\n",
        "                                    # a.mul() -> a의 first의 변수 4와 a의 second의 변수 2를 곱한 값이 8이 출력됩니다."
      ],
      "execution_count": 65,
      "outputs": [
        {
          "output_type": "stream",
          "text": [
            "클래스의 상속\n",
            "--> 상속은 기존 클래스를 변경하지 않고 기능을 추가하거나 기존 기능을 변경하려고 할 때 사용합니다.\n",
            "만드는 방법--> class 클래스 이름(상속할 클래스 이름)\n"
          ],
          "name": "stdout"
        },
        {
          "output_type": "execute_result",
          "data": {
            "text/plain": [
              "(6, 8)"
            ]
          },
          "metadata": {
            "tags": []
          },
          "execution_count": 65
        }
      ]
    },
    {
      "cell_type": "markdown",
      "metadata": {
        "id": "K11z_5CACYqM"
      },
      "source": [
        "### MoreFourCal\n",
        "> 지수 계산 기능을 추가한 클래스"
      ]
    },
    {
      "cell_type": "code",
      "metadata": {
        "colab": {
          "base_uri": "https://localhost:8080/"
        },
        "id": "ivsT36JbBF6A",
        "outputId": "375e24bc-125b-4d88-e9ea-1425895bf819"
      },
      "source": [
        "class MoreFourCal(FourCal):                  # 클래스 이름은 MoreFourCal이고, 상속할 클래스 이름은 FourCal 입니다.\n",
        "    def pow(self):                           # pow() 함수를 정의합니다.\n",
        "        result = self.first ** self.second   # first 변수 ^ second 변수의 값을 result에 넣습니다.\n",
        "        return result                        # first 변수 ^ second 변수의 값을 넣은 result 값을 반환해줍니다.\n",
        "    \n",
        "\n",
        "a = MoreFourCal(4, 2)               # MoreFourCal 객체인 a를 만들어줍니다.  # 4 : a의 first의 변수, 2 : a의 second의 변수\n",
        "print(a.add(), a.mul())             # a.add() -> a의 first의 변수 4와 a의 second의 변수 2를 더한 값인 6이 출력됩니다.\n",
        "                                    # a.mul() -> a의 first의 변수 4와 a의 second의 변수 2를 곱한 값이 8이 출력됩니다.\n",
        "a.pow()          # a.pow() --> first**second 계산이기 때문에 4^2 이므로 16이 출력됩니다.\n",
        "\n",
        "# 상속은 MoreFourCal 클래스처럼 기존 클래스(FourCal)는 \n",
        "# 그대로 놔둔 채 클래스의 기능을 확장시킬 때 주로 사용."
      ],
      "execution_count": 67,
      "outputs": [
        {
          "output_type": "stream",
          "text": [
            "6 8\n"
          ],
          "name": "stdout"
        },
        {
          "output_type": "execute_result",
          "data": {
            "text/plain": [
              "16"
            ]
          },
          "metadata": {
            "tags": []
          },
          "execution_count": 67
        }
      ]
    },
    {
      "cell_type": "markdown",
      "metadata": {
        "id": "imfM9DoJEQ0u"
      },
      "source": [
        "### 메서드 오버라이딩(재정의)"
      ]
    },
    {
      "cell_type": "code",
      "metadata": {
        "colab": {
          "base_uri": "https://localhost:8080/",
          "height": 325
        },
        "id": "3WirbxRlAM7-",
        "outputId": "34c44214-62a7-4822-f6a9-364bd384abfc"
      },
      "source": [
        "print(\"메서드 오버라이딩\")\n",
        "# 기존의 함수(메소드)를 수정/보완하여 재정의\n",
        "#######################################\n",
        "# \n",
        "a = FourCal(4, 0)   # a = FourCal(4,0) -> 4 : a의 first 변수, 0 : a의 second 변수\n",
        "a.div()             # a.div() -> a의 first 변수와 a의 second 변수를 나눈 값이 출력됩니다.\n",
        "\n",
        "# 0으로 어떤 수를 나눌 수 없기 때문에 에러가 뜹니다.\n",
        "# ZeroDivisionError: division by zero"
      ],
      "execution_count": 68,
      "outputs": [
        {
          "output_type": "stream",
          "text": [
            "메서드 오버라이딩\n"
          ],
          "name": "stdout"
        },
        {
          "output_type": "error",
          "ename": "ZeroDivisionError",
          "evalue": "ignored",
          "traceback": [
            "\u001b[0;31m---------------------------------------------------------------------------\u001b[0m",
            "\u001b[0;31mZeroDivisionError\u001b[0m                         Traceback (most recent call last)",
            "\u001b[0;32m<ipython-input-68-3475dfec5868>\u001b[0m in \u001b[0;36m<module>\u001b[0;34m()\u001b[0m\n\u001b[1;32m      4\u001b[0m \u001b[0;31m#\u001b[0m\u001b[0;34m\u001b[0m\u001b[0;34m\u001b[0m\u001b[0;34m\u001b[0m\u001b[0m\n\u001b[1;32m      5\u001b[0m \u001b[0ma\u001b[0m \u001b[0;34m=\u001b[0m \u001b[0mFourCal\u001b[0m\u001b[0;34m(\u001b[0m\u001b[0;36m4\u001b[0m\u001b[0;34m,\u001b[0m \u001b[0;36m0\u001b[0m\u001b[0;34m)\u001b[0m\u001b[0;34m\u001b[0m\u001b[0;34m\u001b[0m\u001b[0m\n\u001b[0;32m----> 6\u001b[0;31m \u001b[0ma\u001b[0m\u001b[0;34m.\u001b[0m\u001b[0mdiv\u001b[0m\u001b[0;34m(\u001b[0m\u001b[0;34m)\u001b[0m  \u001b[0;31m# ZeroDivisionError:\u001b[0m\u001b[0;34m\u001b[0m\u001b[0;34m\u001b[0m\u001b[0m\n\u001b[0m",
            "\u001b[0;32m<ipython-input-57-3253d65d6ed7>\u001b[0m in \u001b[0;36mdiv\u001b[0;34m(self)\u001b[0m\n\u001b[1;32m     21\u001b[0m \u001b[0;34m\u001b[0m\u001b[0m\n\u001b[1;32m     22\u001b[0m     \u001b[0;32mdef\u001b[0m \u001b[0mdiv\u001b[0m\u001b[0;34m(\u001b[0m\u001b[0mself\u001b[0m\u001b[0;34m)\u001b[0m\u001b[0;34m:\u001b[0m\u001b[0;34m\u001b[0m\u001b[0;34m\u001b[0m\u001b[0m\n\u001b[0;32m---> 23\u001b[0;31m         \u001b[0mresult\u001b[0m \u001b[0;34m=\u001b[0m \u001b[0mself\u001b[0m\u001b[0;34m.\u001b[0m\u001b[0mfirst\u001b[0m \u001b[0;34m/\u001b[0m \u001b[0mself\u001b[0m\u001b[0;34m.\u001b[0m\u001b[0msecond\u001b[0m\u001b[0;34m\u001b[0m\u001b[0;34m\u001b[0m\u001b[0m\n\u001b[0m\u001b[1;32m     24\u001b[0m         \u001b[0;32mreturn\u001b[0m \u001b[0mresult\u001b[0m\u001b[0;34m\u001b[0m\u001b[0;34m\u001b[0m\u001b[0m\n",
            "\u001b[0;31mZeroDivisionError\u001b[0m: division by zero"
          ]
        }
      ]
    },
    {
      "cell_type": "code",
      "metadata": {
        "colab": {
          "base_uri": "https://localhost:8080/"
        },
        "id": "EIdIqBtcEYrW",
        "outputId": "fb73a873-e9b8-4754-f15b-05432dd9d12a"
      },
      "source": [
        "# 메서드 오버라이딩 (Overriding)\n",
        "class SafeFourCal(FourCal):           # 클래스 이름은 SafeFourCal이고, 상속할 클래스 이름은 FourCal 입니다.\n",
        "    def div(self):                    # div() 함수를 정의\n",
        "        if self.second == 0:          # 나누는 값이 0인 경우 0을 리턴하도록 수정    \n",
        "            print(\"분모는 0을 사용할 수 없다.\")     # 나누는 값이 0인 경우 '분모는 0을 사용할 수 없다.'\n",
        "            return 0                                # 분모가 0인 경우 0을 반환해줍니다.\n",
        "        else:       # 분모가 0이 아닌 경우\n",
        "            return self.first / self.second      # firsrt 변수와 second 변수를 나눈 값이 반환됩니다.     \n",
        "\n",
        "\n",
        "a = SafeFourCal(4, 0)       # SelfFourCal 객체인 a를 만들어줍니다.  # 4 : a의 first 변수, 0 : a의 second 변수\n",
        "\n",
        "a.div()  # 메서드 오버라이딩 사용    # 나누는 값이 0인 경우 '분모는 0을 사용할 수 없다.'와 0을 리턴해주고, 나누는 값이 0이 아닌 경우 first 변수와 second 변수를나눈 값이 반환됩니다."
      ],
      "execution_count": 69,
      "outputs": [
        {
          "output_type": "stream",
          "text": [
            "분모는 0을 사용할 수 없다.\n"
          ],
          "name": "stdout"
        },
        {
          "output_type": "execute_result",
          "data": {
            "text/plain": [
              "0"
            ]
          },
          "metadata": {
            "tags": []
          },
          "execution_count": 69
        }
      ]
    },
    {
      "cell_type": "code",
      "metadata": {
        "colab": {
          "base_uri": "https://localhost:8080/"
        },
        "id": "PRnDQZEfG45n",
        "outputId": "56767b47-353a-4169-9b64-ea83b2f88ae7"
      },
      "source": [
        "b = SafeFourCal(4,2)      # SelfFourCal 객체인 b를 만들어줍니다.  # 4 : a의 first 변수, 2 : b의 second 변수\n",
        "b.div()                   # 나누는 값이 0인 경우 '분모는 0을 사용할 수 없다.'와 0을 리턴해주고, 나누는 값이 0이 아닌 경우 first 변수와 second 변수를나눈 값이 반환됩니다."
      ],
      "execution_count": 71,
      "outputs": [
        {
          "output_type": "execute_result",
          "data": {
            "text/plain": [
              "2.0"
            ]
          },
          "metadata": {
            "tags": []
          },
          "execution_count": 71
        }
      ]
    },
    {
      "cell_type": "markdown",
      "metadata": {
        "id": "wa7kjunuHdQL"
      },
      "source": [
        "### 클래스 변수"
      ]
    },
    {
      "cell_type": "code",
      "metadata": {
        "colab": {
          "base_uri": "https://localhost:8080/"
        },
        "id": "tlR4JpX8FNo6",
        "outputId": "2980d5f0-1cad-42db-b94c-e28807e2deac"
      },
      "source": [
        "print(\"클래스 변수\")\n",
        "print(\"객체변수와 클래스변수의 차이?\")\n",
        "print(\"-\", \"객체변수   :   객체.변수\")\n",
        "print(\"-\", \"클래스변수 : 클래스.변수\")\n",
        "\n",
        "class Family:\n",
        "    lastname = \"김\"   # 클래스변수   #  클래스 변수: 클래스에 직접적으로 정의되는 변수입니다."
      ],
      "execution_count": 72,
      "outputs": [
        {
          "output_type": "stream",
          "text": [
            "클래스 변수\n",
            "객체변수와 클래스변수의 차이?\n",
            "- 객체변수   :   객체.변수\n",
            "- 클래스변수 : 클래스.변수\n"
          ],
          "name": "stdout"
        }
      ]
    },
    {
      "cell_type": "code",
      "metadata": {
        "colab": {
          "base_uri": "https://localhost:8080/",
          "height": 35
        },
        "id": "rGXJMPnHIAPA",
        "outputId": "35a66cb8-c327-4ce0-d38b-b0d0eb760f62"
      },
      "source": [
        "# 클래스이름.클래스 변수로 사용\n",
        "Family.lastname     # 객체를 통하지 않고 바로 접근이 가능합니다."
      ],
      "execution_count": 73,
      "outputs": [
        {
          "output_type": "execute_result",
          "data": {
            "application/vnd.google.colaboratory.intrinsic+json": {
              "type": "string"
            },
            "text/plain": [
              "'김'"
            ]
          },
          "metadata": {
            "tags": []
          },
          "execution_count": 73
        }
      ]
    },
    {
      "cell_type": "code",
      "metadata": {
        "colab": {
          "base_uri": "https://localhost:8080/"
        },
        "id": "qP3_j1kiIgT_",
        "outputId": "e03af7bb-84af-4d92-92b2-b99f6578d504"
      },
      "source": [
        "# 객체변수로 접근 \n",
        "a = Family()    # Family 객체인 a를 만들어줍니다.\n",
        "b = Family()    # Family 객체인 b를 만들어줍니다.\n",
        "\n",
        "# 객체변수 a,b는 서로 독립이지만 클래스 변수는 똑같기 때문에 메모리 주소가 같습니다.\n",
        "print(a.lastname)    \n",
        "print(b.lastname)\n",
        "id(a.lastname), id(b.lastname), id(a.lastname) == id(b.lastname) "
      ],
      "execution_count": 76,
      "outputs": [
        {
          "output_type": "stream",
          "text": [
            "김\n",
            "김\n"
          ],
          "name": "stdout"
        },
        {
          "output_type": "execute_result",
          "data": {
            "text/plain": [
              "(139731712198096, 139731712198096, True)"
            ]
          },
          "metadata": {
            "tags": []
          },
          "execution_count": 76
        }
      ]
    },
    {
      "cell_type": "code",
      "metadata": {
        "colab": {
          "base_uri": "https://localhost:8080/"
        },
        "id": "id7192_MINM6",
        "outputId": "ead229ef-a385-48e3-b6ff-479a55240479"
      },
      "source": [
        "# 클래스변수를 변경하면?\n",
        "Family.lastname = \"박\"\n",
        "\n",
        "# 클래스 변수를 변경해도 같은 주소를 공유합니다.\n",
        "\n",
        "print(a.lastname)\n",
        "print(b.lastname)\n",
        "id(a.lastname), id(b.lastname), id(Family.lastname)\n",
        "# 클래스 변수가 공유됨을 확인."
      ],
      "execution_count": 77,
      "outputs": [
        {
          "output_type": "stream",
          "text": [
            "박\n",
            "박\n"
          ],
          "name": "stdout"
        },
        {
          "output_type": "execute_result",
          "data": {
            "text/plain": [
              "(139731712107904, 139731712107904, 139731712107904)"
            ]
          },
          "metadata": {
            "tags": []
          },
          "execution_count": 77
        }
      ]
    },
    {
      "cell_type": "code",
      "metadata": {
        "colab": {
          "base_uri": "https://localhost:8080/"
        },
        "id": "qxMEonBiJpiu",
        "outputId": "0dcfe3a1-936d-485e-8240-de7785ae24c6"
      },
      "source": [
        "# 객체변수를 변경하면?\n",
        "# 변경된 해당 객체만 변경이 됩니다.\n",
        "# 변경된 객체 변수는 메모리 주소도 변경됩니다.\n",
        "\n",
        "a.lastname = \"이\"      # a.lastname을 '이'로 변경해줍니다.\n",
        "\n",
        "print(a.lastname, b.lastname, Family.lastname)    # a.lastname = '이', b.lastname = '박', Family.lastname = '박'이 출력됩니다.\n",
        "\n",
        "id(a.lastname), id(b.lastname), id(Family.lastname)    # 변경된 a.lastname의 메모리 주소와 변경되지 않은 b.lastname, Family.lastname 메모리 주소는 다릅니다.\n",
        "\n",
        "# 실무 프로그래밍에는 클래스 변수보다는 객체변수를 많이 사용."
      ],
      "execution_count": 79,
      "outputs": [
        {
          "output_type": "stream",
          "text": [
            "이 박 박\n"
          ],
          "name": "stdout"
        },
        {
          "output_type": "execute_result",
          "data": {
            "text/plain": [
              "(139731779860960, 139731712107904, 139731712107904)"
            ]
          },
          "metadata": {
            "tags": []
          },
          "execution_count": 79
        }
      ]
    },
    {
      "cell_type": "markdown",
      "metadata": {
        "id": "1Umd27C8LNqc"
      },
      "source": [
        "### 모듈(module)"
      ]
    },
    {
      "cell_type": "markdown",
      "metadata": {
        "id": "InFiozTjVOrv"
      },
      "source": [
        "- 모듈\n",
        "   - 모듈 만들기\n",
        "   - 모듈 불러오기\n",
        "   - if __name__ == \"__main__\": 의 의미\n",
        "   - 클래스나 변수 등을 포함한 모듈\n",
        "   - 다른 파일에서 모듈 불러오기"
      ]
    },
    {
      "cell_type": "code",
      "metadata": {
        "id": "-1H6FtDIVauP",
        "colab": {
          "base_uri": "https://localhost:8080/"
        },
        "outputId": "c81d4f6d-3939-483b-e828-b9c987e17c8c"
      },
      "source": [
        "# ch5_02_module.py\n",
        "#\n",
        "print(\"모듈이란 무엇인가?\")\n",
        "print(\"-->\", \"모듈이란 함수나 변수 또는 클래스를 모아 놓은 파이썬 파일\")"
      ],
      "execution_count": 80,
      "outputs": [
        {
          "output_type": "stream",
          "text": [
            "모듈이란 무엇인가?\n",
            "--> 모듈이란 함수나 변수 또는 클래스를 모아 놓은 파이썬 파일\n"
          ],
          "name": "stdout"
        }
      ]
    },
    {
      "cell_type": "markdown",
      "metadata": {
        "id": "a-2wUsmZL-lb"
      },
      "source": [
        "### 모듈 만들기"
      ]
    },
    {
      "cell_type": "code",
      "metadata": {
        "colab": {
          "base_uri": "https://localhost:8080/",
          "height": 52
        },
        "id": "1jHpdI1CLh53",
        "outputId": "1abae5b0-4050-4165-9ba7-cc815621c5d9"
      },
      "source": [
        "print(\"모듈 만들기\")\n",
        "#######################################\n",
        "# 간단한 모듈을 한번 만들어 보자.\n",
        "#######################################\n",
        "# \n",
        "\n",
        "# mod1.py를 현재 폴더에 저장\n",
        "'''\n",
        "# mod1.py\n",
        "def add(a, b):\n",
        "    return a + b\n",
        "def sub(a, b): \n",
        "    return a-b\n",
        "'''\n",
        "\n",
        "# 파이썬 확장자 .py로 만든 파이썬 파일은 모두 모듈이다."
      ],
      "execution_count": 81,
      "outputs": [
        {
          "output_type": "stream",
          "text": [
            "모듈 만들기\n"
          ],
          "name": "stdout"
        },
        {
          "output_type": "execute_result",
          "data": {
            "application/vnd.google.colaboratory.intrinsic+json": {
              "type": "string"
            },
            "text/plain": [
              "'\\n# mod1.py\\ndef add(a, b):\\n    return a + b\\ndef sub(a, b): \\n    return a-b\\n'"
            ]
          },
          "metadata": {
            "tags": []
          },
          "execution_count": 81
        }
      ]
    },
    {
      "cell_type": "markdown",
      "metadata": {
        "id": "gCvPl5xyM3cL"
      },
      "source": [
        "### 모듈 불러오기\n",
        "- import*.py"
      ]
    },
    {
      "cell_type": "code",
      "metadata": {
        "colab": {
          "base_uri": "https://localhost:8080/"
        },
        "id": "oUbs89SUMwJt",
        "outputId": "eda6995a-c20e-48fd-ec39-19cb2a072272"
      },
      "source": [
        "print(\"모듈 불러오기\")\n",
        "print(\"import 모듈명\")\n",
        "print(\">\", \"import는 이미 만들어 놓은 파이썬 모듈을 사용할 수 있게 해주는 명령어\")"
      ],
      "execution_count": 83,
      "outputs": [
        {
          "output_type": "stream",
          "text": [
            "모듈 불러오기\n",
            "import 모듈명\n",
            "> import는 이미 만들어 놓은 파이썬 모듈을 사용할 수 있게 해주는 명령어\n"
          ],
          "name": "stdout"
        }
      ]
    },
    {
      "cell_type": "code",
      "metadata": {
        "colab": {
          "base_uri": "https://localhost:8080/"
        },
        "id": "eSryyI8PNK3_",
        "outputId": "d7adc761-0253-4c00-e27d-7db6c526dfcd"
      },
      "source": [
        "# 현재 폴더에 있는 모듈, mod1.py를 연결하기.\n",
        "#\n",
        "import mod1      # 위에서 지정한 대로 add(a,b)는 a+b 값을 반환하고, sub(a,b)는 a-b 값을 반환해줍니다.\n",
        "\n",
        "print(mod1.add(3, 4))   # mod1.add(3, 4) -> add(3,4) : 3+4 값인 7이 출력이 됩니다.\n",
        "\n",
        "print(mod1.sub(7, 2))   # mod1.sub(7, 2) -> sub(7,2) : 7-2 값인 5가 출력이 됩니다."
      ],
      "execution_count": 85,
      "outputs": [
        {
          "output_type": "stream",
          "text": [
            "7\n",
            "5\n"
          ],
          "name": "stdout"
        }
      ]
    },
    {
      "cell_type": "code",
      "metadata": {
        "colab": {
          "base_uri": "https://localhost:8080/"
        },
        "id": "IxUEIARFNc9r",
        "outputId": "3ab865b8-2eee-46f0-f54d-e75adbb9df86"
      },
      "source": [
        "#######################################\n",
        "# 모듈 내부 함수 이용\n",
        "# from 모듈이름 import 모듈함수\n",
        "#######################################\n",
        "#\n",
        "from mod1 import add\n",
        "add(3, 4)"
      ],
      "execution_count": 86,
      "outputs": [
        {
          "output_type": "execute_result",
          "data": {
            "text/plain": [
              "7"
            ]
          },
          "metadata": {
            "tags": []
          },
          "execution_count": 86
        }
      ]
    },
    {
      "cell_type": "code",
      "metadata": {
        "colab": {
          "base_uri": "https://localhost:8080/"
        },
        "id": "ct70YQgDPSfJ",
        "outputId": "5cacee70-e836-4518-950d-9fc87f655ba6"
      },
      "source": [
        "from mod1 import *      # * : mod1 내부에 있는 기능을 모두 가져와서 사용 가능합니다.\n",
        "add(10,20),sub(10,20)   # add(10,20) --> 10과 20의 합를 출력합니다.\n",
        "                        # sub(10,20) --> 10과 20의 차를 출력합니다."
      ],
      "execution_count": 89,
      "outputs": [
        {
          "output_type": "execute_result",
          "data": {
            "text/plain": [
              "(30, -10)"
            ]
          },
          "metadata": {
            "tags": []
          },
          "execution_count": 89
        }
      ]
    },
    {
      "cell_type": "code",
      "metadata": {
        "colab": {
          "base_uri": "https://localhost:8080/"
        },
        "id": "M3epNLxWPQgT",
        "outputId": "e186b79a-7862-4187-8215-e19873e96ae8"
      },
      "source": [
        "# from 모듈이름 import *       \n",
        "# from mod1 import add, sub     \n",
        "from mod1 import *     # * : mod1 내부에 있는 기능을 모두 가져와서 사용 가능합니다.\n",
        "\n",
        "print(add(3, 4))       # add(3,4) --> 3과 4의 합를 출력합니다.\n",
        "sub(7, 3)              # sub(7,3) --> 7과 3의 차를 출력합니다."
      ],
      "execution_count": 92,
      "outputs": [
        {
          "output_type": "stream",
          "text": [
            "7\n"
          ],
          "name": "stdout"
        },
        {
          "output_type": "execute_result",
          "data": {
            "text/plain": [
              "4"
            ]
          },
          "metadata": {
            "tags": []
          },
          "execution_count": 92
        }
      ]
    },
    {
      "cell_type": "code",
      "metadata": {
        "id": "7K37ACwDQWPw"
      },
      "source": [
        "print(\"if __name__ == \"__main__\": 의 의미\")\n",
        "#######################################\n",
        "# import 모듈명\n",
        "# import는 이미 만들어 놓은 파이썬 모듈을 \n",
        "# 사용할 수 있게 해주는 명령어\n",
        "#######################################\n",
        "# \n",
        "\n",
        "# mod1.py 파일을 다음과 같이 변경해 보자.\n",
        "'''\n",
        "# mod1.py \n",
        "def add(a, b): \n",
        "    return a+b\n",
        "def sub(a, b): \n",
        "    return a-b\n",
        "print(add(1, 4))\n",
        "print(sub(4, 2))\n",
        "'''\n",
        "\n",
        "###################################\n",
        "# cmd에서 실행하시오.\n",
        "# python mod1.py\n",
        "###################################\n",
        "'''\n",
        "python mod1.py\n",
        "5\n",
        "2\n",
        "'''"
      ],
      "execution_count": null,
      "outputs": []
    },
    {
      "cell_type": "code",
      "metadata": {
        "colab": {
          "base_uri": "https://localhost:8080/"
        },
        "id": "vMH_mLACSmVk",
        "outputId": "a20cf7cb-ef1a-4b7d-f723-cd67105bd926"
      },
      "source": [
        "run mod1.py"
      ],
      "execution_count": 96,
      "outputs": [
        {
          "output_type": "stream",
          "text": [
            "5\n",
            "2\n"
          ],
          "name": "stdout"
        }
      ]
    },
    {
      "cell_type": "code",
      "metadata": {
        "colab": {
          "base_uri": "https://localhost:8080/"
        },
        "id": "okoslRqISg8F",
        "outputId": "758b9342-e55e-4f68-feae-6a7a83bd4856"
      },
      "source": [
        "import mod1\n",
        "# 5\n",
        "# 2\n",
        "print(__name__)"
      ],
      "execution_count": 97,
      "outputs": [
        {
          "output_type": "stream",
          "text": [
            "__main__\n"
          ],
          "name": "stdout"
        }
      ]
    },
    {
      "cell_type": "code",
      "metadata": {
        "id": "vcv7czIBSjwt"
      },
      "source": [
        "'''\n",
        "# mod2.py \n",
        "def add(a, b): \n",
        "    return a+b\n",
        "def sub(a, b): \n",
        "    return a-b\n",
        "if __name__ == \"__main__\":\n",
        "    print(add(1, 4))\n",
        "    print(sub(4, 2))\n",
        "'''\n",
        "\n",
        "import mod2\n",
        "print(__name__)\n",
        "# if __name__ == \"__main__\"을 사용하면 C:\\doit>python mod1.py처럼 \n",
        "# 직접 이 파일을 실행했을 때는 __name__ == \"__main__\"이 참이 되어 \n",
        "# if문 다음 문장이 수행된다. \n",
        "# 반대로 대화형 인터프리터나 다른 파일에서 이 모듈을 불러서 사용할 때는 \n",
        "# __name__ == \"__main__\"이 거짓이 되어 if문 다음 문장이 수행되지 않는다.\n",
        "#"
      ],
      "execution_count": null,
      "outputs": []
    },
    {
      "cell_type": "code",
      "metadata": {
        "colab": {
          "base_uri": "https://localhost:8080/"
        },
        "id": "Yv9HZ3hxS9yf",
        "outputId": "21dbfec7-1d07-4498-e450-8102cc231011"
      },
      "source": [
        "run mod2.py"
      ],
      "execution_count": 98,
      "outputs": [
        {
          "output_type": "stream",
          "text": [
            "5\n",
            "2\n"
          ],
          "name": "stdout"
        }
      ]
    },
    {
      "cell_type": "code",
      "metadata": {
        "colab": {
          "base_uri": "https://localhost:8080/"
        },
        "id": "J7coZZX-TJdS",
        "outputId": "7af425ce-dd3e-4f20-ca6a-3d89aa351118"
      },
      "source": [
        "!python mod2.py   # !python : 파이썬 실행기입니다."
      ],
      "execution_count": 99,
      "outputs": [
        {
          "output_type": "stream",
          "text": [
            "5\n",
            "2\n"
          ],
          "name": "stdout"
        }
      ]
    },
    {
      "cell_type": "code",
      "metadata": {
        "id": "Ga55xS55S9G9"
      },
      "source": [
        "print(\"클래스나 변수 등을 포함한 모듈\")\n",
        "#######################################\n",
        "# 클래스나 변수 등을 포함하는 모듈\n",
        "#######################################\n",
        "# \n",
        "'''\n",
        "# mod3.py \n",
        "PI = 3.141592\n",
        "class Math: \n",
        "    def solv(self, r): \n",
        "        return PI * (r ** 2) \n",
        "def add(a, b): \n",
        "    return a+b \n",
        "'''\n",
        "\n",
        "import mod3\n",
        "\n",
        "print(mod3.PI)\n",
        "\n",
        "a = mod3.Math()\n",
        "print(a.solv(2))\n",
        "\n",
        "print(mod3.add(mod3.PI, 4.4))\n",
        "\n",
        "print(\"다른 파일에서 모듈 불러오기\")\n",
        "#######################################\n",
        "# 다른 파이썬 파일에서 이전에 만들어 놓은 \n",
        "# 모듈을 불러와서 사용하는 방법\n",
        "#######################################\n",
        "# \n",
        "'''\n",
        "# modtest.py\n",
        "import mod2\n",
        "result = mod2.add(3, 4)\n",
        "print(result)\n",
        "'''\n",
        "###################################\n",
        "# cmd에서 실행하시오.\n",
        "# python modtest.py\n",
        "###################################\n",
        "# 참고: 현재 폴더로 경로 설정 (path)\n",
        "# import sys\n",
        "# sys.path.append(\"current_path\")\n",
        "# sys.path\n"
      ],
      "execution_count": null,
      "outputs": []
    },
    {
      "cell_type": "code",
      "metadata": {
        "colab": {
          "base_uri": "https://localhost:8080/"
        },
        "id": "4svpIpskRqTb",
        "outputId": "e3b3019e-a317-4504-8439-82875e72442e"
      },
      "source": [
        "run mod1.py"
      ],
      "execution_count": 94,
      "outputs": [
        {
          "output_type": "stream",
          "text": [
            "5\n",
            "2\n"
          ],
          "name": "stdout"
        }
      ]
    },
    {
      "cell_type": "code",
      "metadata": {
        "id": "U4mDdNQtRoYS"
      },
      "source": [
        "import mod1\n",
        "# 5\n",
        "# 2\n",
        "print(__name__)\n",
        "\n",
        "'''\n",
        "# mod2.py \n",
        "def add(a, b): \n",
        "    return a+b\n",
        "def sub(a, b): \n",
        "    return a-b\n",
        "if __name__ == \"__main__\":\n",
        "    print(add(1, 4))\n",
        "    print(sub(4, 2))\n",
        "'''\n",
        "\n",
        "import mod2\n",
        "print(__name__)\n",
        "# if __name__ == \"__main__\"을 사용하면 C:\\doit>python mod1.py처럼 \n",
        "# 직접 이 파일을 실행했을 때는 __name__ == \"__main__\"이 참이 되어 \n",
        "# if문 다음 문장이 수행된다. \n",
        "# 반대로 대화형 인터프리터나 다른 파일에서 이 모듈을 불러서 사용할 때는 \n",
        "# __name__ == \"__main__\"이 거짓이 되어 if문 다음 문장이 수행되지 않는다.\n",
        "#\n",
        "\n",
        "\n",
        "print(\"클래스나 변수 등을 포함한 모듈\")\n",
        "#######################################\n",
        "# 클래스나 변수 등을 포함하는 모듈\n",
        "#######################################\n",
        "# \n",
        "'''\n",
        "# mod3.py \n",
        "PI = 3.141592\n",
        "class Math: \n",
        "    def solv(self, r): \n",
        "        return PI * (r ** 2) \n",
        "def add(a, b): \n",
        "    return a+b \n",
        "'''\n",
        "\n",
        "import mod3\n",
        "\n",
        "print(mod3.PI)\n",
        "\n",
        "a = mod3.Math()\n",
        "print(a.solv(2))\n",
        "\n",
        "print(mod3.add(mod3.PI, 4.4))\n",
        "\n",
        "print(\"다른 파일에서 모듈 불러오기\")\n",
        "#######################################\n",
        "# 다른 파이썬 파일에서 이전에 만들어 놓은 \n",
        "# 모듈을 불러와서 사용하는 방법\n",
        "#######################################\n",
        "# \n",
        "'''\n",
        "# modtest.py\n",
        "import mod2\n",
        "result = mod2.add(3, 4)\n",
        "print(result)\n",
        "'''\n",
        "###################################\n",
        "# cmd에서 실행하시오.\n",
        "# python modtest.py\n",
        "###################################\n",
        "# 참고: 현재 폴더로 경로 설정 (path)\n",
        "# import sys\n",
        "# sys.path.append(\"current_path\")\n",
        "# sys.path\n"
      ],
      "execution_count": null,
      "outputs": []
    },
    {
      "cell_type": "markdown",
      "metadata": {
        "id": "DFZHMh5pVq82"
      },
      "source": [
        "- 패키지\n",
        "   - 패키지란 무엇인가?\n",
        "   - 패키지 만들기\n",
        "   - 패키지 안의 함수 실행하기\n",
        "   - __init__.py 의 용도\n",
        "   - relative 패키지"
      ]
    },
    {
      "cell_type": "code",
      "metadata": {
        "id": "fGBlcLGN-3pd"
      },
      "source": [
        "# ch5_03_package.py\n",
        "#\n",
        "print(\"패키지란 무엇인가?\")\n",
        "#######################################\n",
        "# 파이썬 모듈들을 모아놓은 폴더로 구성\n",
        "# 유사한 기능을 가진 모듈들을 묶어서 구성\n",
        "#######################################\n",
        "#\n",
        "# 가상의 game 패키지 예\n",
        "#\n",
        "\"\"\"\n",
        "game/\n",
        "    __init__.py\n",
        "    sound/\n",
        "        __init__.py\n",
        "        echo.py\n",
        "        wav.py\n",
        "    graphic/\n",
        "        __init__.py\n",
        "        screen.py\n",
        "        render.py\n",
        "    play/\n",
        "        __init__.py\n",
        "        run.py\n",
        "        test.py\n",
        "\"\"\"\n",
        "# game 디렉터리가 이 패키지의 루트 디렉터리이고\n",
        "# sound, graphic, play는 서브 디렉터리이다.\n",
        "\n",
        "print(\"패키지 만들기\")\n",
        "#######################################\n",
        "# 패키지 기본 구성 요소 준비하기\n",
        "#######################################\n",
        "# 1. 루트폴더, 서버폴더 만들기\n",
        "# 2. *.py 소스파일 준비\n",
        "\n",
        "#\n",
        "# 1. 루트폴더, 서버폴더 만들기\n",
        "\"\"\"\n",
        "./game/__init__.py\n",
        "./game/sound/__init__.py\n",
        "./game/sound/echo.py\n",
        "./game/graphic/__init__.py\n",
        "./game/graphic/render.py\n",
        "\"\"\"\n",
        "\n",
        "#\n",
        "# 2. *.py 소스파일 준비\n",
        "\"\"\"\n",
        "각 디렉터리에 __init__.py 파일을 만들어 놓기만 하고 \n",
        "내용은 일단 비워 둔다.\n",
        "# echo.py\n",
        "def echo_test():\n",
        "    print (\"echo\")\n",
        "# render.py\n",
        "def render_test():\n",
        "    print (\"render\")\n",
        "\"\"\"\n",
        "# 현재 폴더 내에 game 폴더가 포함됨.\n",
        "#\n",
        "\n",
        "\n",
        "print(\"패키지 안의 함수 실행하기\")\n",
        "#######################################\n",
        "# package를 import하여 내부 함수 실행\n",
        "#######################################\n",
        "#\n",
        "# 1. echo 모듈을 import하여 실행\n",
        "import game.sound.echo\n",
        "\n",
        "game.sound.echo.echo_test()\n",
        "\n",
        "# 2. echo 모듈이 있는 디렉터리까지를 from ... import하여 실행\n",
        "from game.sound import echo\n",
        "\n",
        "echo.echo_test()\n",
        "\n",
        "# 3. echo 모듈의 echo_test 함수를 직접 import하여 실행\n",
        "from game.sound.echo import echo_test\n",
        "\n",
        "echo_test()\n",
        "\n",
        "\n",
        "#\n",
        "# 다음과 같이 echo_test 함수를 사용하는 것은 불가능\n",
        "import game\n",
        "\n",
        "game.sound.echo.echo_test()\n",
        "\n",
        "import game.sound.echo.echo_test  # ModuleNotFoundError:\n",
        "\n",
        "\n",
        "print(\"__init__.py 의 용도\")\n",
        "#######################################\n",
        "# __init__.py 파일은 해당 디렉터리가 패키지의 일부임을 알려주는 역할\n",
        "# 만약 game, sound, graphic 등 패키지에 포함된 디렉터리에\n",
        "# __init__.py 파일이 없다면 패키지로 인식되지 않는다.\n",
        "#######################################\n",
        "#\n",
        "from game.sound import *\n",
        "\n",
        "echo.echo_test()\n",
        "\n",
        "\n",
        "print(\"relative 패키지\")\n",
        "#######################################\n",
        "# 만약 graphic 디렉터리의 render.py 모듈이\n",
        "# sound 디렉터리의 echo.py 모듈을 사용\n",
        "#\n",
        "# render.py를 수정\n",
        "#######################################\n",
        "#\n",
        "from game.graphic.render import render_test\n",
        "\n",
        "render_test()\n",
        "\n",
        "# .. : parent folder\n",
        "#  . : current folder\n",
        "\"\"\"\n",
        "# render.py\n",
        "from ..sound.echo import echo_test\n",
        "def render_test():\n",
        "    print (\"render\")\n",
        "    echo_test()\n",
        "\"\"\"\n",
        "\n",
        "\n",
        "\"\"\"\n",
        "# render.py\n",
        "from game.sound.echo import echo_test\n",
        "def render_test():\n",
        "    print (\"render\")\n",
        "    echo_test()\n",
        "\"\"\"\n"
      ],
      "execution_count": null,
      "outputs": []
    }
  ]
}