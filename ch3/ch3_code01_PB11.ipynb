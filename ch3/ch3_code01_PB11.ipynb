{
  "nbformat": 4,
  "nbformat_minor": 0,
  "metadata": {
    "colab": {
      "name": "ch3_code01-PB11.ipynb",
      "provenance": [],
      "collapsed_sections": [],
      "include_colab_link": true
    },
    "kernelspec": {
      "display_name": "Python 3",
      "language": "python",
      "name": "python3"
    },
    "language_info": {
      "codemirror_mode": {
        "name": "ipython",
        "version": 3
      },
      "file_extension": ".py",
      "mimetype": "text/x-python",
      "name": "python",
      "nbconvert_exporter": "python",
      "pygments_lexer": "ipython3",
      "version": "3.7.5"
    }
  },
  "cells": [
    {
      "cell_type": "markdown",
      "metadata": {
        "id": "view-in-github",
        "colab_type": "text"
      },
      "source": [
        "<a href=\"https://colab.research.google.com/github/jungsh210/PB11/blob/main/ch3/ch3_code01_PB11.ipynb\" target=\"_parent\"><img src=\"https://colab.research.google.com/assets/colab-badge.svg\" alt=\"Open In Colab\"/></a>"
      ]
    },
    {
      "cell_type": "markdown",
      "metadata": {
        "id": "AzwlbWu6w04I"
      },
      "source": [
        "# 파이썬 활용 \n",
        "## 구글 코랩 클라우드 환경에서 파이썬 실행\n",
        "- ch3\n",
        "- PB11\n"
      ]
    },
    {
      "cell_type": "markdown",
      "metadata": {
        "id": "H4jNE-BMAK3f"
      },
      "source": [
        "# ch3_code01-PB11.ipynb\n",
        "## py00  (change to your id)\n",
        "- 조건문: if - elif - else\n",
        "    - 조건식\n",
        "        - 비교연산자(<, >, ==, !=, >=, <=) 사용\n",
        "        - 복합 조건식: or, and, not\n",
        "        - 조건식: in, not in, pass\n",
        "        - 단축조건식: 한 줄 코드 조건식\n",
        "- 반복문: while\n",
        "    - break\n",
        "    - continue"
      ]
    },
    {
      "cell_type": "markdown",
      "metadata": {
        "id": "tFaJXxSYqlPp"
      },
      "source": [
        "### 코드셀 분할 단축키\n",
        "- how to do ?\n",
        "1. 메뉴: 도구 -> 단축키\n",
        "2. 커서에서 분할 : Ctrl + Equals(Ctrl + =)\n"
      ]
    },
    {
      "cell_type": "markdown",
      "metadata": {
        "id": "WIhAhjhdzWEE"
      },
      "source": [
        "### if문은 어떻게 사용?"
      ]
    },
    {
      "cell_type": "code",
      "metadata": {
        "id": "hXPcvn1CtW6z",
        "colab": {
          "base_uri": "https://localhost:8080/"
        },
        "outputId": "544be851-b9dd-4f8f-e2f8-6fac79795ff8"
      },
      "source": [
        "# ch3_01_if_else.py\n",
        "#\n",
        "print(\"if문은 어떻게 사용?\")\n",
        "money = True                          # bool type \n",
        "if money:\n",
        "    print(\"택시를 타고 가라\")\n",
        "else:\n",
        "    print(\"걸어 가라\")\n"
      ],
      "execution_count": null,
      "outputs": [
        {
          "output_type": "stream",
          "text": [
            "if문은 어떻게 사용?\n",
            "택시를 타고 가라\n"
          ],
          "name": "stdout"
        }
      ]
    },
    {
      "cell_type": "code",
      "metadata": {
        "colab": {
          "base_uri": "https://localhost:8080/"
        },
        "id": "3k9YOsJAJqLn",
        "outputId": "11f1bc47-19ff-4a24-84d1-f740d58a7757"
      },
      "source": [
        "money = False\n",
        "if money:\n",
        "    print(\"택시를 타고 가라\")\n",
        "else:\n",
        "    print(\"걸어 가라\")"
      ],
      "execution_count": null,
      "outputs": [
        {
          "output_type": "stream",
          "text": [
            "걸어 가라\n"
          ],
          "name": "stdout"
        }
      ]
    },
    {
      "cell_type": "code",
      "metadata": {
        "colab": {
          "base_uri": "https://localhost:8080/"
        },
        "id": "JzMOxuVR6UMk",
        "outputId": "e529fe8a-34d0-41a7-cbec-da019ac8b7bf"
      },
      "source": [
        "money = True\n",
        "if money:\n",
        "    print(\"택시 타세요.\")\n",
        "    print(\"집으로...\")\n",
        "else:\n",
        "    print(\"방콕!\")"
      ],
      "execution_count": null,
      "outputs": [
        {
          "output_type": "stream",
          "text": [
            "택시 타세요.\n",
            "집으로...\n"
          ],
          "name": "stdout"
        }
      ]
    },
    {
      "cell_type": "code",
      "metadata": {
        "colab": {
          "base_uri": "https://localhost:8080/"
        },
        "id": "E0JZ939H57dQ",
        "outputId": "d68b44ce-28ee-4067-8994-0292cde33cb4"
      },
      "source": [
        "money = False\n",
        "if money:\n",
        "    print(\"택시 타세요.\")\n",
        "    print(\"집으로...\")\n",
        "else:\n",
        "    print(\"방콕!\")"
      ],
      "execution_count": null,
      "outputs": [
        {
          "output_type": "stream",
          "text": [
            "방콕!\n"
          ],
          "name": "stdout"
        }
      ]
    },
    {
      "cell_type": "markdown",
      "metadata": {
        "id": "ZlQoBTx9z2rv"
      },
      "source": [
        "### if문의 기본 구조\n",
        "```\n",
        "if 조건문:\n",
        "    수행할 문장1\n",
        "    수행할 문장2\n",
        "    ...\n",
        "else:\n",
        "    수행할 문장A\n",
        "    수행할 문장B\n",
        "    ...\n",
        "```"
      ]
    },
    {
      "cell_type": "code",
      "metadata": {
        "colab": {
          "base_uri": "https://localhost:8080/",
          "height": 134
        },
        "id": "GREfPZ9Gzv5e",
        "outputId": "84cd27ca-2fc7-4ea3-c81b-0e67f4d9dc22"
      },
      "source": [
        "# 들여쓰기를 안하면 IndentationError: unexpected indent 오류가 납니다.\n",
        "\n",
        "############################\n",
        "print(\"들여 쓰기\")\n",
        "# 예-1\n",
        "money = True\n",
        "if money:\n",
        "    print(\"택시를\")                  \n",
        "print(\"타고\")                     # IndentationError: unexpected indent\n",
        "    print(\"가라\")"
      ],
      "execution_count": null,
      "outputs": [
        {
          "output_type": "error",
          "ename": "IndentationError",
          "evalue": "ignored",
          "traceback": [
            "\u001b[0;36m  File \u001b[0;32m\"<ipython-input-10-9c4f98fa214e>\"\u001b[0;36m, line \u001b[0;32m9\u001b[0m\n\u001b[0;31m    print(\"가라\")\u001b[0m\n\u001b[0m    ^\u001b[0m\n\u001b[0;31mIndentationError\u001b[0m\u001b[0;31m:\u001b[0m unexpected indent\n"
          ]
        }
      ]
    },
    {
      "cell_type": "code",
      "metadata": {
        "colab": {
          "base_uri": "https://localhost:8080/"
        },
        "id": "7ubCK8337Dh9",
        "outputId": "88b41b8f-2303-4d4a-8540-b90f16420fab"
      },
      "source": [
        "# 들여쓰기가 올바르게 되면 실행이 됩니다.  \n",
        "\n",
        "############################\n",
        "print(\"들여 쓰기\")\n",
        "# 예-1\n",
        "money = True\n",
        "if money:\n",
        "    print(\"택시를\")                  \n",
        "    print(\"타고\")                     # IndentationError: unexpected indent 오류가 났던 부분\n",
        "    print(\"가라\")"
      ],
      "execution_count": null,
      "outputs": [
        {
          "output_type": "stream",
          "text": [
            "들여 쓰기\n",
            "택시를\n",
            "타고\n",
            "가라\n"
          ],
          "name": "stdout"
        }
      ]
    },
    {
      "cell_type": "code",
      "metadata": {
        "colab": {
          "base_uri": "https://localhost:8080/",
          "height": 134
        },
        "id": "Li5DQ7eW5WtV",
        "outputId": "0f397b21-419e-4cac-8870-1305d5284e2e"
      },
      "source": [
        "# 같은 조건일 때 들여쓰기를 두 번하면 실행이 안됩니다.\n",
        "\n",
        "# 예-2\n",
        "money = True\n",
        "if money:\n",
        "    print(\"택시를\")\n",
        "    print(\"타고\")\n",
        "        print(\"가라\")\n",
        "    \n"
      ],
      "execution_count": null,
      "outputs": [
        {
          "output_type": "error",
          "ename": "IndentationError",
          "evalue": "ignored",
          "traceback": [
            "\u001b[0;36m  File \u001b[0;32m\"<ipython-input-1-6c7b59870598>\"\u001b[0;36m, line \u001b[0;32m7\u001b[0m\n\u001b[0;31m    print(\"가라\")\u001b[0m\n\u001b[0m    ^\u001b[0m\n\u001b[0;31mIndentationError\u001b[0m\u001b[0;31m:\u001b[0m unexpected indent\n"
          ]
        }
      ]
    },
    {
      "cell_type": "code",
      "metadata": {
        "colab": {
          "base_uri": "https://localhost:8080/"
        },
        "id": "oxmCr_AMold0",
        "outputId": "d9e31e20-23f9-4f28-e78c-07ec5a5e94c3"
      },
      "source": [
        "# 같은 조건일 때는 들여쓰기를 한 번만 해야 실행이 됩니다.\n",
        "# 예-2\n",
        "money = True\n",
        "if money:\n",
        "    print(\"택시를\")\n",
        "    print(\"타고\")\n",
        "    print(\"가라\")"
      ],
      "execution_count": null,
      "outputs": [
        {
          "output_type": "stream",
          "text": [
            "택시를\n",
            "타고\n",
            "가라\n"
          ],
          "name": "stdout"
        }
      ]
    },
    {
      "cell_type": "markdown",
      "metadata": {
        "id": "zM6emjQjo7N_"
      },
      "source": [
        "### 조건식: 비교연산자"
      ]
    },
    {
      "cell_type": "markdown",
      "metadata": {
        "id": "W-bEnmA3oyGN"
      },
      "source": [
        "###### 조건문 다음에 콜론(:)을 잊지 말자!"
      ]
    },
    {
      "cell_type": "code",
      "metadata": {
        "colab": {
          "base_uri": "https://localhost:8080/"
        },
        "id": "hDhFhgq55aJr",
        "outputId": "4baac6c2-26f6-4012-9c80-244fae5e8983"
      },
      "source": [
        "print(\"조건식: 비교연산자\")\n",
        "# 비교연산자(<, >, ==, !=, >=, <=)를 쓰는 방법\n",
        "x=3\n",
        "y=2\n",
        "print(x>y)          # x는 y보다 크다.( > )\n",
        "print(x<y)          # x는 y보다 작다.( < )\n",
        "print(x==y)         # x와 y는 같다.( == )\n",
        "print(x!=y)         # x와 y는 다르다.( != )"
      ],
      "execution_count": null,
      "outputs": [
        {
          "output_type": "stream",
          "text": [
            "조건식: 비교연산자\n",
            "True\n",
            "False\n",
            "False\n",
            "True\n"
          ],
          "name": "stdout"
        }
      ]
    },
    {
      "cell_type": "markdown",
      "metadata": {
        "id": "dN1zbp09prkS"
      },
      "source": [
        "### 조건식 만들기"
      ]
    },
    {
      "cell_type": "code",
      "metadata": {
        "colab": {
          "base_uri": "https://localhost:8080/"
        },
        "id": "ltEJJvjI5csd",
        "outputId": "83acf9b5-6b86-4d27-84cc-7739b9fa8d2d"
      },
      "source": [
        "# \"만약 3000원 이상의 돈을 가지고 있으면 택시를 타고 그렇지 않으면 걸어 가라.\"\n",
        "\n",
        "money = 2000\n",
        "if money >= 3000:              # 조건식\n",
        "    print(\"택시를 타고 가라\")\n",
        "else:\n",
        "    print(\"걸어가라\")"
      ],
      "execution_count": null,
      "outputs": [
        {
          "output_type": "stream",
          "text": [
            "걸어가라\n"
          ],
          "name": "stdout"
        }
      ]
    },
    {
      "cell_type": "markdown",
      "metadata": {
        "id": "BbY6dgJtrHu7"
      },
      "source": [
        "### 복합 조건식: or, and, not\n",
        "#### 연산자\t설명\n",
        "- x or y  :\tx와 y 둘중에 하나만 참이면 참이다\n",
        "- x and y :\tx와 y 모두 참이어야 참이다\n",
        "- not x\t  : x가 거짓이면 참이다"
      ]
    },
    {
      "cell_type": "markdown",
      "metadata": {
        "id": "sTOboqwBs5Lx"
      },
      "source": [
        "### or 복합 조건식 이용"
      ]
    },
    {
      "cell_type": "code",
      "metadata": {
        "colab": {
          "base_uri": "https://localhost:8080/"
        },
        "id": "vNG-PSYM_Lgi",
        "outputId": "19edad87-158c-4ee4-85a6-03e7c467e42d"
      },
      "source": [
        "# or 복합 조건식 이용\n",
        "# 돈이 3000원 이상 있거나 카드가 있다면 택시를 타고 그렇지 않으면 걸어 가라.\n",
        "\n",
        "money = 2000\n",
        "card = True\n",
        "if money >= 3000 or card:         # 조건식식\n",
        "    print(\"택시를 타고 가라\")\n",
        "else:\n",
        "    print(\"걸어가라\")"
      ],
      "execution_count": null,
      "outputs": [
        {
          "output_type": "stream",
          "text": [
            "택시를 타고 가라\n"
          ],
          "name": "stdout"
        }
      ]
    },
    {
      "cell_type": "markdown",
      "metadata": {
        "id": "-cO9_qgllc-m"
      },
      "source": [
        "### 조건식\n",
        "- in\n",
        "- not in"
      ]
    },
    {
      "cell_type": "code",
      "metadata": {
        "id": "wwC-YFi4tFfG"
      },
      "source": [
        "###################################\n",
        "# 조건식: in, not in (데이터 구조 사용 가능능##################################\n",
        "# 조건식: in, not in (데이터 구조 사용 가능능)\n",
        "###################################\n",
        "#   in\t          not in\n",
        "# x in 리스트\tx not in 리스트\n",
        "# x in 튜플\t    x not in 튜플\n",
        "# x in 문자열\tx not in 문자열\n",
        "###################################\n"
      ],
      "execution_count": null,
      "outputs": []
    },
    {
      "cell_type": "markdown",
      "metadata": {
        "id": "bl1OkBZ1WTcp"
      },
      "source": [
        "### list"
      ]
    },
    {
      "cell_type": "code",
      "metadata": {
        "colab": {
          "base_uri": "https://localhost:8080/"
        },
        "id": "Fvu_YNkbV-Fc",
        "outputId": "4754d2ba-2d58-445b-8ddd-ab34f698d562"
      },
      "source": [
        "# list\n",
        "print(1 in [1, 2, 3])            # 1은 [1, 2, 3] list 안에 있습니다.  - >  True\n",
        "print(1 not in [1, 2, 3])        # 1은 [1, 2, 3] list 안에 없습니다.  - >  False"
      ],
      "execution_count": null,
      "outputs": [
        {
          "output_type": "stream",
          "text": [
            "True\n",
            "False\n"
          ],
          "name": "stdout"
        }
      ]
    },
    {
      "cell_type": "markdown",
      "metadata": {
        "id": "nTZaZPdKWkXS"
      },
      "source": [
        "### tuple"
      ]
    },
    {
      "cell_type": "code",
      "metadata": {
        "colab": {
          "base_uri": "https://localhost:8080/",
          "height": 220
        },
        "id": "7uytJQ4JWJhH",
        "outputId": "24353a34-56b0-4e93-d57c-9a93e800a57b"
      },
      "source": [
        "# tuple\n",
        "print('a' in ('a', 'b', 'c'))          # a는 ('a', 'b', 'c') tuple 안에 있습니다. \n",
        "# a in ('a', 'b', 'c')                 # NameError: name 'a' is not defined (a라는 변수는 ('a', 'b', 'c') 튜플 안에 없기 때문에 에러가 뜹니다.)"
      ],
      "execution_count": null,
      "outputs": [
        {
          "output_type": "stream",
          "text": [
            "True\n"
          ],
          "name": "stdout"
        },
        {
          "output_type": "error",
          "ename": "NameError",
          "evalue": "ignored",
          "traceback": [
            "\u001b[0;31m---------------------------------------------------------------------------\u001b[0m",
            "\u001b[0;31mNameError\u001b[0m                                 Traceback (most recent call last)",
            "\u001b[0;32m<ipython-input-18-673d6a151fed>\u001b[0m in \u001b[0;36m<module>\u001b[0;34m()\u001b[0m\n\u001b[1;32m      1\u001b[0m \u001b[0;31m# tuple\u001b[0m\u001b[0;34m\u001b[0m\u001b[0;34m\u001b[0m\u001b[0;34m\u001b[0m\u001b[0m\n\u001b[1;32m      2\u001b[0m \u001b[0mprint\u001b[0m\u001b[0;34m(\u001b[0m\u001b[0;34m'a'\u001b[0m \u001b[0;32min\u001b[0m \u001b[0;34m(\u001b[0m\u001b[0;34m'a'\u001b[0m\u001b[0;34m,\u001b[0m \u001b[0;34m'b'\u001b[0m\u001b[0;34m,\u001b[0m \u001b[0;34m'c'\u001b[0m\u001b[0;34m)\u001b[0m\u001b[0;34m)\u001b[0m          \u001b[0;31m# a는 ('a', 'b', 'c') tuple 안에 있습니다.\u001b[0m\u001b[0;34m\u001b[0m\u001b[0;34m\u001b[0m\u001b[0m\n\u001b[0;32m----> 3\u001b[0;31m \u001b[0mprint\u001b[0m\u001b[0;34m(\u001b[0m\u001b[0ma\u001b[0m \u001b[0;32min\u001b[0m \u001b[0;34m(\u001b[0m\u001b[0;34m'a'\u001b[0m\u001b[0;34m,\u001b[0m \u001b[0;34m'b'\u001b[0m\u001b[0;34m,\u001b[0m \u001b[0;34m'c'\u001b[0m\u001b[0;34m)\u001b[0m\u001b[0;34m)\u001b[0m\u001b[0;34m\u001b[0m\u001b[0;34m\u001b[0m\u001b[0m\n\u001b[0m",
            "\u001b[0;31mNameError\u001b[0m: name 'a' is not defined"
          ]
        }
      ]
    },
    {
      "cell_type": "markdown",
      "metadata": {
        "id": "AbvYZDNYWyiA"
      },
      "source": [
        "### string"
      ]
    },
    {
      "cell_type": "code",
      "metadata": {
        "colab": {
          "base_uri": "https://localhost:8080/"
        },
        "id": "-dnl4WfwWKeB",
        "outputId": "e1d5dfe0-85af-4a7b-8b14-dfce859591e8"
      },
      "source": [
        "# string\n",
        "print('j' not in 'python')             # 'j'는 'python' 문자열 안에 없습니다.   - >  True\n",
        "print('t' in 'python')                 # 't'는 'python' 문자열 안에 있습니다.   - >  True"
      ],
      "execution_count": null,
      "outputs": [
        {
          "output_type": "stream",
          "text": [
            "True\n",
            "True\n"
          ],
          "name": "stdout"
        }
      ]
    },
    {
      "cell_type": "code",
      "metadata": {
        "colab": {
          "base_uri": "https://localhost:8080/"
        },
        "id": "FnmN6AVSnNOS",
        "outputId": "da182512-3754-446a-ef8b-0414bac3fe92"
      },
      "source": [
        "'a' in 'abcdefg'       # 'a'는 'abcdefg' 문자열 안에 있습니다.  - >  True"
      ],
      "execution_count": null,
      "outputs": [
        {
          "output_type": "execute_result",
          "data": {
            "text/plain": [
              "True"
            ]
          },
          "metadata": {
            "tags": []
          },
          "execution_count": 20
        }
      ]
    },
    {
      "cell_type": "markdown",
      "metadata": {
        "id": "41TRM2vIXOpr"
      },
      "source": [
        "### in을 이용한 코드\n",
        "- 만약 주머니에 돈이 있으면 택시를 타고, 없으면 걸어 가라."
      ]
    },
    {
      "cell_type": "code",
      "metadata": {
        "colab": {
          "base_uri": "https://localhost:8080/"
        },
        "id": "Qs3lCcK9wn0f",
        "outputId": "16443268-f997-4f32-9d11-6088aa1eda53"
      },
      "source": [
        "# in을 이용한 코드\n",
        "# \"만약 주머니에 돈이 있으면 택시를 타고, 없으면 걸어 가라.\"\n",
        "\n",
        "pocket = ['paper', 'cellphone', 'money']\n",
        "if 'money' in pocket:\n",
        "    print(\"택시를 타고 가라\")\n",
        "else:\n",
        "    print(\"걸어가라\")"
      ],
      "execution_count": null,
      "outputs": [
        {
          "output_type": "stream",
          "text": [
            "택시를 타고 가라\n"
          ],
          "name": "stdout"
        }
      ]
    },
    {
      "cell_type": "markdown",
      "metadata": {
        "id": "-Aj49-GRXds3"
      },
      "source": [
        "### 조건식 : pass\n",
        "- 실행되는 결과 없이 다음으로 넘어갑니다."
      ]
    },
    {
      "cell_type": "code",
      "metadata": {
        "id": "CaAvOf6JxAGF"
      },
      "source": [
        "# 조건식: pass\n",
        "\n",
        "pocket = ['paper', 'cellphone', 'money']\n",
        "if 'money' in pocket:\n",
        "     # print(\"택시를 타고 가라\")\n",
        "    pass\n",
        "else:\n",
        "    print(\"걸어가라\")"
      ],
      "execution_count": null,
      "outputs": []
    },
    {
      "cell_type": "markdown",
      "metadata": {
        "id": "zczh6BT9XqA1"
      },
      "source": [
        "### 다중 조건식: elif\n",
        "> 다양한 조건을 판단"
      ]
    },
    {
      "cell_type": "code",
      "metadata": {
        "colab": {
          "base_uri": "https://localhost:8080/"
        },
        "id": "RY7yZuySxIrt",
        "outputId": "6b2e006f-4464-4fe7-f2a2-738115d18da2"
      },
      "source": [
        "```\n",
        "\"주머니에 돈이 있으면 택시를 타고, \n",
        "주머니에 돈은 없지만 카드가 있으면 택시를 타고, \n",
        "돈도 없고 카드도 없으면 걸어 가라.\"\n",
        "```\n",
        "\n",
        "pocket = ['paper', 'handphone']\n",
        "card = True\n",
        "if 'money' in pocket:\n",
        "    print(\"택시를 타고가라\")\n",
        "else:\n",
        "    if card:\n",
        "        print(\"택시를 타고가라\")\n",
        "    else:\n",
        "        print(\"걸어가라\")"
      ],
      "execution_count": null,
      "outputs": [
        {
          "output_type": "stream",
          "text": [
            "택시를 타고가라\n"
          ],
          "name": "stdout"
        }
      ]
    },
    {
      "cell_type": "markdown",
      "metadata": {
        "id": "uzTmRv6xYOpJ"
      },
      "source": [
        "### elif 이용한 코드"
      ]
    },
    {
      "cell_type": "code",
      "metadata": {
        "colab": {
          "base_uri": "https://localhost:8080/"
        },
        "id": "47qYPRF6YLaF",
        "outputId": "4f42d43e-01fd-435b-bf28-b693f9ad3092"
      },
      "source": [
        "# elif 이용한 코드\n",
        "\n",
        "pocket = ['paper', 'handphone']\n",
        "card = True\n",
        "if 'money' in pocket:\n",
        "    print(\"택시를 타고가라\")\n",
        "elif card:\n",
        "    print(\"택시를 타고가라\")\n",
        "else:\n",
        "    print(\"걸어가라\")\n"
      ],
      "execution_count": null,
      "outputs": [
        {
          "output_type": "stream",
          "text": [
            "택시를 타고가라\n"
          ],
          "name": "stdout"
        }
      ]
    },
    {
      "cell_type": "code",
      "metadata": {
        "colab": {
          "base_uri": "https://localhost:8080/"
        },
        "id": "5BN9FJ_Eogh4",
        "outputId": "85ae8e93-97aa-467a-bfe3-51bb9dd0a614"
      },
      "source": [
        "pocket = ['paper', 'handphone']\n",
        "card = False\n",
        "if 'money' in pocket:\n",
        "    print(\"택시를 타고가라\")\n",
        "elif card:\n",
        "    print(\"택시를 타고가라\")\n",
        "else:\n",
        "    print(\"걸어가라\")"
      ],
      "execution_count": null,
      "outputs": [
        {
          "output_type": "stream",
          "text": [
            "걸어가라\n"
          ],
          "name": "stdout"
        }
      ]
    },
    {
      "cell_type": "markdown",
      "metadata": {
        "id": "ovDkFaFTpGRx"
      },
      "source": [
        "## 단축 코드 만들기\n",
        "- if 문을 한 줄로 작성하기"
      ]
    },
    {
      "cell_type": "code",
      "metadata": {
        "id": "GGc9XCD8YTue"
      },
      "source": [
        "pocket = ['paper', 'cellphone', 'money']\n",
        "if 'money' in pocket:\n",
        "    pass                                    # pass가 있기 때문에 실행값은 나오지 않습니다. \n",
        "else:\n",
        "    print(\"카드를 사용해라.\")"
      ],
      "execution_count": null,
      "outputs": []
    },
    {
      "cell_type": "code",
      "metadata": {
        "id": "fwx5-FDgpaWP"
      },
      "source": [
        "# 최소줄 코드 \n",
        "if 'money' in pocket: pass              # pass가 있기 때문에 실행값은 나오지 않습니다.\n",
        "else: print(\"카드를 사용해라.\")"
      ],
      "execution_count": null,
      "outputs": []
    },
    {
      "cell_type": "markdown",
      "metadata": {
        "id": "0G9kF2p3Yyyx"
      },
      "source": [
        "### 조건부 표현식 (conditional expression)\n",
        "##### 조건문이 참인 경우 if 조건문 else 조건문이 거짓인 경우"
      ]
    },
    {
      "cell_type": "code",
      "metadata": {
        "colab": {
          "base_uri": "https://localhost:8080/"
        },
        "id": "dpeiBYVjYho2",
        "outputId": "46cc71fc-4dc2-45bf-d56d-444a69f00b95"
      },
      "source": [
        "score=80\n",
        "if score >= 60:\n",
        "    message = \"success\"\n",
        "else:\n",
        "    message = \"failure\"\n",
        "\n",
        "print(message)"
      ],
      "execution_count": null,
      "outputs": [
        {
          "output_type": "stream",
          "text": [
            "success\n"
          ],
          "name": "stdout"
        }
      ]
    },
    {
      "cell_type": "code",
      "metadata": {
        "colab": {
          "base_uri": "https://localhost:8080/"
        },
        "id": "-n3HinX5qJ74",
        "outputId": "6a112030-57bc-4985-f6a7-8cd3d11dd4e9"
      },
      "source": [
        "# 한줄 코드\n",
        "score = 50\n",
        "message = \"success\" if score >= 60 else \"failure\"\n",
        "print(message)"
      ],
      "execution_count": null,
      "outputs": [
        {
          "output_type": "stream",
          "text": [
            "failure\n"
          ],
          "name": "stdout"
        }
      ]
    },
    {
      "cell_type": "markdown",
      "metadata": {
        "id": "qg2CQj1G4BjE"
      },
      "source": [
        "### 반복문\n",
        "- while\n",
        "-for"
      ]
    },
    {
      "cell_type": "markdown",
      "metadata": {
        "id": "CByq9e7pZIJW"
      },
      "source": [
        "# dh3_02_while.py"
      ]
    },
    {
      "cell_type": "markdown",
      "metadata": {
        "id": "-6qwJFoiZNPt"
      },
      "source": [
        "### while 문은 어떻게 사용?\n",
        "- 반복해서 문장을 수행해야 할 경우 while문을 사용한다.\n",
        "- 그래서 while문을 반복문이라고도 부른다."
      ]
    },
    {
      "cell_type": "markdown",
      "metadata": {
        "id": "BTao-d_3ZeMa"
      },
      "source": [
        "### while문의 기본 구조\n",
        "```\n",
        "while <조건문>:\n",
        "    <수행할 문장1>\n",
        "    <수행할 문장2>\n",
        "    <수행할 문장3>\n",
        "    ...\n",
        "  ```"
      ]
    },
    {
      "cell_type": "markdown",
      "metadata": {
        "id": "TUZSK629Z1CX"
      },
      "source": [
        "### \"열 번 찍어 안 넘어가는 나무 없다\"는 속담을 파이선 프로그램으로 반복 실행\""
      ]
    },
    {
      "cell_type": "code",
      "metadata": {
        "id": "0Y0fMfkPtW62",
        "colab": {
          "base_uri": "https://localhost:8080/"
        },
        "outputId": "e3bdf30b-a02f-46ed-c800-8e81a313cf79"
      },
      "source": [
        "# \"열 번 찍어 안 넘어가는 나무 없다\"는 속담을 파이썬 프로그램으로 반복 실행\n",
        "\n",
        "treeHit = 0\n",
        "while treeHit < 10:\n",
        "    treeHit = treeHit +1\n",
        "    print(\"나무를 %d번 찍었습니다.\" % treeHit)\n",
        "    if treeHit == 10:\n",
        "        print(\"나무 넘어갑니다.\")"
      ],
      "execution_count": null,
      "outputs": [
        {
          "output_type": "stream",
          "text": [
            "나무를 1번 찍었습니다.\n",
            "나무를 2번 찍었습니다.\n",
            "나무를 3번 찍었습니다.\n",
            "나무를 4번 찍었습니다.\n",
            "나무를 5번 찍었습니다.\n",
            "나무를 6번 찍었습니다.\n",
            "나무를 7번 찍었습니다.\n",
            "나무를 8번 찍었습니다.\n",
            "나무를 9번 찍었습니다.\n",
            "나무를 10번 찍었습니다.\n",
            "나무 넘어갑니다.\n"
          ],
          "name": "stdout"
        }
      ]
    },
    {
      "cell_type": "code",
      "metadata": {
        "id": "jV8hZiH0Z80z",
        "colab": {
          "base_uri": "https://localhost:8080/"
        },
        "outputId": "bdb782df-97f4-4319-9af7-56184081f08d"
      },
      "source": [
        "print(\"while문 만들기\")\n",
        "#\n",
        "prompt = \"\"\"\n",
        "1. Add\n",
        "2. Del\n",
        "3. List\n",
        "4. Quit\n",
        "Enter number: \"\"\"\n",
        "print(prompt)\n",
        "\n",
        "number = 0\n",
        "while number != 4:\n",
        "    print(prompt)\n",
        "    number = int(input())     # input() : 사용자에게 키보드로부터 데이터를 받을 때 사용하는 함수\n",
        "\n"
      ],
      "execution_count": null,
      "outputs": [
        {
          "output_type": "stream",
          "text": [
            "while문 만들기\n",
            "\n",
            "1. Add\n",
            "2. Del\n",
            "3. List\n",
            "4. Quit\n",
            "Enter number: \n",
            "\n",
            "1. Add\n",
            "2. Del\n",
            "3. List\n",
            "4. Quit\n",
            "Enter number: \n",
            "1\n",
            "\n",
            "1. Add\n",
            "2. Del\n",
            "3. List\n",
            "4. Quit\n",
            "Enter number: \n",
            "2\n",
            "\n",
            "1. Add\n",
            "2. Del\n",
            "3. List\n",
            "4. Quit\n",
            "Enter number: \n",
            "4\n"
          ],
          "name": "stdout"
        }
      ]
    },
    {
      "cell_type": "markdown",
      "metadata": {
        "id": "Q1oGdD1PafLX"
      },
      "source": [
        "### while문 강제로 빠져나가기\n",
        "```\n",
        "커피 자판기 작동\n",
        "자판기가 제대로 작동하려면 커피가 얼마나 남았는지 항상 검사해야 한다. \n",
        "만약 커피가 떨어졌다면 판매를 중단하고 \"판매 중지\" 문구를 사용자에게 보여준다.\n",
        "```"
      ]
    },
    {
      "cell_type": "code",
      "metadata": {
        "colab": {
          "base_uri": "https://localhost:8080/"
        },
        "id": "cMHeeBwQaHCY",
        "outputId": "8187d95c-60fe-4ca3-e429-126d566ceeee"
      },
      "source": [
        "coffee = 10           # 팔 수 있는 커피의 갯수 : 10개\n",
        "money = 300           # 커피 가격 : 300원\n",
        "while money:\n",
        "    print(\"돈을 받았으니 커피를 줍니다.\")\n",
        "    coffee = coffee -1\n",
        "    print(\"남은 커피의 양은 %d개입니다.\" % coffee)\n",
        "    if coffee == 0:\n",
        "        print(\"커피가 다 떨어졌습니다. 판매를 중지합니다.\")\n",
        "        break"
      ],
      "execution_count": null,
      "outputs": [
        {
          "output_type": "stream",
          "text": [
            "돈을 받았으니 커피를 줍니다.\n",
            "남은 커피의 양은 9개입니다.\n",
            "돈을 받았으니 커피를 줍니다.\n",
            "남은 커피의 양은 8개입니다.\n",
            "돈을 받았으니 커피를 줍니다.\n",
            "남은 커피의 양은 7개입니다.\n",
            "돈을 받았으니 커피를 줍니다.\n",
            "남은 커피의 양은 6개입니다.\n",
            "돈을 받았으니 커피를 줍니다.\n",
            "남은 커피의 양은 5개입니다.\n",
            "돈을 받았으니 커피를 줍니다.\n",
            "남은 커피의 양은 4개입니다.\n",
            "돈을 받았으니 커피를 줍니다.\n",
            "남은 커피의 양은 3개입니다.\n",
            "돈을 받았으니 커피를 줍니다.\n",
            "남은 커피의 양은 2개입니다.\n",
            "돈을 받았으니 커피를 줍니다.\n",
            "남은 커피의 양은 1개입니다.\n",
            "돈을 받았으니 커피를 줍니다.\n",
            "남은 커피의 양은 0개입니다.\n",
            "커피가 다 떨어졌습니다. 판매를 중지합니다.\n"
          ],
          "name": "stdout"
        }
      ]
    },
    {
      "cell_type": "markdown",
      "metadata": {
        "id": "6ZdtywwjaskZ"
      },
      "source": [
        "### coffee.py"
      ]
    },
    {
      "cell_type": "markdown",
      "metadata": {
        "id": "nY6DZ4h39N93"
      },
      "source": [
        "```\n",
        "coffee = 10\n",
        "while True:\n",
        "    money = int(input(\"돈을 넣어 주세요: \"))\n",
        "    if money == 300:\n",
        "        print(\"커피를 줍니다.\")\n",
        "        coffee = coffee -1\n",
        "    elif money > 300:\n",
        "        print(\"거스름돈 %d를 주고 커피를 줍니다.\" % (money -300))\n",
        "        coffee = coffee -1\n",
        "    else:\n",
        "        print(\"돈을 다시 돌려주고 커피를 주지 않습니다.\")\n",
        "        print(\"남은 커피의 양은 %d개 입니다.\" % coffee)\n",
        "    if coffee == 0:\n",
        "        print(\"커피가 다 떨어졌습니다. 판매를 중지 합니다.\")\n",
        "        break\n",
        "```"
      ]
    },
    {
      "cell_type": "markdown",
      "metadata": {
        "id": "BQclm1tL_Dyl"
      },
      "source": [
        ""
      ]
    },
    {
      "cell_type": "markdown",
      "metadata": {
        "id": "oqHExu2B-VE5"
      },
      "source": [
        "### colab에서 python 소스 실행하기\n",
        "- run coffee.py"
      ]
    },
    {
      "cell_type": "code",
      "metadata": {
        "colab": {
          "base_uri": "https://localhost:8080/"
        },
        "id": "Jw_gDGIu_EmB",
        "outputId": "f9e2fc9c-de23-4d81-88e7-69c4faa5349b"
      },
      "source": [
        "run coffee.py"
      ],
      "execution_count": null,
      "outputs": [
        {
          "output_type": "stream",
          "text": [
            "돈을 넣어 주세요: 300\n",
            "커피를 줍니다.\n",
            "돈을 넣어 주세요: 500\n",
            "거스름돈 200를 주고 커피를 줍니다.\n",
            "돈을 넣어 주세요: 600\n",
            "거스름돈 300를 주고 커피를 줍니다.\n",
            "돈을 넣어 주세요: 200\n",
            "돈을 다시 돌려주고 커피를 주지 않습니다.\n",
            "남은 커피의 양은 2개 입니다.\n",
            "돈을 넣어 주세요: 300\n",
            "커피를 줍니다.\n",
            "돈을 넣어 주세요: 300\n",
            "커피를 줍니다.\n",
            "커피가 다 떨어졌습니다. 판매를 중지 합니다.\n"
          ],
          "name": "stdout"
        }
      ]
    },
    {
      "cell_type": "code",
      "metadata": {
        "colab": {
          "base_uri": "https://localhost:8080/"
        },
        "id": "lAg9-iQwacYS",
        "outputId": "d2dfafb3-07d1-4757-fbad-f75c56c5cb0a"
      },
      "source": [
        "coffee = 10\n",
        "while True:\n",
        "    money = int(input(\"돈을 넣어 주세요: \"))\n",
        "    if money == 300:\n",
        "        print(\"커피를 줍니다.\")\n",
        "        coffee = coffee -1\n",
        "    elif money > 300:\n",
        "        print(\"거스름돈 %d를 주고 커피를 줍니다.\" % (money -300))\n",
        "        coffee = coffee -1\n",
        "    else:\n",
        "        print(\"돈을 다시 돌려주고 커피를 주지 않습니다.\")\n",
        "        print(\"남은 커피의 양은 %d개 입니다.\" % coffee)\n",
        "    if coffee == 0:\n",
        "        print(\"커피가 다 떨어졌습니다. 판매를 중지 합니다.\")\n",
        "        break"
      ],
      "execution_count": null,
      "outputs": [
        {
          "output_type": "stream",
          "text": [
            "돈을 넣어 주세요: 500\n",
            "거스름돈 200를 주고 커피를 줍니다.\n",
            "돈을 넣어 주세요: 900\n",
            "거스름돈 600를 주고 커피를 줍니다.\n",
            "돈을 넣어 주세요: 400\n",
            "거스름돈 100를 주고 커피를 줍니다.\n",
            "돈을 넣어 주세요: 200\n",
            "돈을 다시 돌려주고 커피를 주지 않습니다.\n",
            "남은 커피의 양은 7개 입니다.\n",
            "돈을 넣어 주세요: 300\n",
            "커피를 줍니다.\n",
            "돈을 넣어 주세요: 800\n",
            "거스름돈 500를 주고 커피를 줍니다.\n",
            "돈을 넣어 주세요: 600\n",
            "거스름돈 300를 주고 커피를 줍니다.\n",
            "돈을 넣어 주세요: 1000\n",
            "거스름돈 700를 주고 커피를 줍니다.\n",
            "돈을 넣어 주세요: 400\n",
            "거스름돈 100를 주고 커피를 줍니다.\n",
            "돈을 넣어 주세요: 500\n",
            "거스름돈 200를 주고 커피를 줍니다.\n",
            "돈을 넣어 주세요: 1000\n",
            "거스름돈 700를 주고 커피를 줍니다.\n",
            "커피가 다 떨어졌습니다. 판매를 중지 합니다.\n"
          ],
          "name": "stdout"
        }
      ]
    },
    {
      "cell_type": "markdown",
      "metadata": {
        "id": "FPT0ekPebC8V"
      },
      "source": [
        "### continue 이용"
      ]
    },
    {
      "cell_type": "markdown",
      "metadata": {
        "id": "mmGuPdqjAUKS"
      },
      "source": [
        "```\n",
        "while문을 빠져나가지 않고 while문의 맨 처음(조건문)으로  \n",
        "다시 돌아가게 만들고 싶은 경우가 생기게 된다.\n",
        "이때 사용하는 것이 바로 continue문이다.\n",
        "```"
      ]
    },
    {
      "cell_type": "markdown",
      "metadata": {
        "id": "TjXo32lWflqE"
      },
      "source": [
        "### 1부터 10까지의 숫자 중에서 홀수만 출력하는 것을 while문을 사용해서 작성"
      ]
    },
    {
      "cell_type": "code",
      "metadata": {
        "colab": {
          "base_uri": "https://localhost:8080/"
        },
        "id": "wfkMuWPOa0go",
        "outputId": "7db61733-d4b6-4bd7-e8f3-132890fcbc99"
      },
      "source": [
        "# 1부터 10까지의 숫자 중에서 홀수만 출력하는 것을 while문을 사용해서 작성\n",
        "#\n",
        "print(\"while문의 맨 처음으로 돌아가기: continue\")\n",
        "\n",
        "a = 0\n",
        "while a < 10:\n",
        "    a = a + 1\n",
        "    if a % 2 == 0: continue\n",
        "    print(a)"
      ],
      "execution_count": null,
      "outputs": [
        {
          "output_type": "stream",
          "text": [
            "while문의 맨 처음으로 돌아가기: continue\n",
            "1\n",
            "3\n",
            "5\n",
            "7\n",
            "9\n"
          ],
          "name": "stdout"
        }
      ]
    },
    {
      "cell_type": "markdown",
      "metadata": {
        "id": "6UIwfxfef29E"
      },
      "source": [
        "### while문의 무한 루프\n",
        "```\n",
        "while True:\n",
        "    수행할 문장1\n",
        "    수행할 문장2\n",
        "     ...\n",
        "```"
      ]
    },
    {
      "cell_type": "markdown",
      "metadata": {
        "id": "I4xIIKnWgF0_"
      },
      "source": [
        "### 무한루프 코드의 예(^C로 중지!!!)"
      ]
    },
    {
      "cell_type": "code",
      "metadata": {
        "id": "s3BEIhdoftAn"
      },
      "source": [
        "# 무한루프 코드의 예 (^C로 중지 !!! ---->>>>> 파이썬 명령 셀)\n",
        "# colab에서는 런타임 ---- >> 실행 중단 클릭\n",
        "\n",
        "while True:\n",
        "    print(\"Ctrl+C를 눌러야 while문을 빠져나갈 수 있습니다.\")"
      ],
      "execution_count": null,
      "outputs": []
    },
    {
      "cell_type": "code",
      "metadata": {
        "id": "Nn87uHUqtW64"
      },
      "source": [
        ""
      ],
      "execution_count": null,
      "outputs": []
    }
  ]
}