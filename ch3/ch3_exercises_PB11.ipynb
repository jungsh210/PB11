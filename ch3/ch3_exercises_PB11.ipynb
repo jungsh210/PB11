{
  "nbformat": 4,
  "nbformat_minor": 0,
  "metadata": {
    "colab": {
      "name": "ch3_exercises-PB11.ipynb",
      "provenance": [],
      "collapsed_sections": []
    },
    "kernelspec": {
      "name": "python3",
      "display_name": "Python 3"
    }
  },
  "cells": [
    {
      "cell_type": "markdown",
      "metadata": {
        "id": "ovY5jkD5dpxE"
      },
      "source": [
        "## ch3-exercises.ipynb"
      ]
    },
    {
      "cell_type": "markdown",
      "metadata": {
        "id": "SZw6UnxQWYBe"
      },
      "source": [
        "## Q1.\n",
        "> 다음 코드의 결괏값은 무엇일까?\n",
        "\n",
        "```\n",
        "a = \"Life is too short, you need python\"\n",
        "if \"wife\" in a: print(\"wife\")\n",
        "elif \"python\" in a and \"you\" not in a: print(\"python\")\n",
        "elif \"shirt\" not in a: print(\"shirt\")\n",
        "elif \"need\" in a: print(\"need\")\n",
        "else: print(\"none\")\n",
        "\n",
        "```"
      ]
    },
    {
      "cell_type": "markdown",
      "metadata": {
        "id": "iPhobFLLjESg"
      },
      "source": [
        ""
      ]
    },
    {
      "cell_type": "markdown",
      "metadata": {
        "id": "9H7y8Hfeh5ee"
      },
      "source": [
        "### Q1 코드 설명\n",
        "```\n",
        "a = \"Life is too short, you need python\"\n",
        "```\n",
        "```\n",
        "if \"wife\" in a: print(\"wife\")\n",
        "- \"wife\"가 a 안에 들어있으면 \"wife\"를 출력\n",
        "```\n",
        "```\n",
        "elif \"python\" in a and \"you\" not in a: print(\"python\")\n",
        "- \"python\"이 a 안에 들어있고, \"you\"가 a 안에 들어있지 않으면 \"python\"을 출력\n",
        "```\n",
        "```\n",
        "elif \"shirt\" not in a: print(\"shirt\")\n",
        "- \"shirt\"가 a 안에 들어있지 않으면 \"shirt\"를 출력\n",
        "```\n",
        "```\n",
        "elif \"need\" in a: print(\"need\")\n",
        "- \"need\"가 a 안에 들어있으면 \"need:를 출력\n",
        "```\n",
        "```\n",
        "else: print(\"none\")\n",
        "- 아무것도 없으면 \"none\"을 출력\n",
        "```"
      ]
    },
    {
      "cell_type": "code",
      "metadata": {
        "id": "rUNNaqJPdg7B",
        "colab": {
          "base_uri": "https://localhost:8080/"
        },
        "outputId": "b60da174-bc41-424a-9b06-e19393be5ea1"
      },
      "source": [
        "# [Q1] Code  \n",
        "a = \"Life is too short, you need python\"\n",
        "if \"wife\" in a: print(\"wife\")\n",
        "elif \"python\" in a and \"you\" not in a: print(\"python\")\n",
        "elif \"shirt\" not in a: print(\"shirt\")\n",
        "elif \"need\" in a: print(\"need\")\n",
        "else: print(\"none\")"
      ],
      "execution_count": null,
      "outputs": [
        {
          "output_type": "stream",
          "text": [
            "shirt\n"
          ],
          "name": "stdout"
        }
      ]
    },
    {
      "cell_type": "markdown",
      "metadata": {
        "id": "re2-XrUYXF1m"
      },
      "source": [
        "## Q2.\n",
        "> while문을 사용해 1부터 1000까지의 자연수 중 3의 배수의 합을 구해 보자.\n"
      ]
    },
    {
      "cell_type": "code",
      "metadata": {
        "id": "5MBLUZ5WXF1q",
        "colab": {
          "base_uri": "https://localhost:8080/"
        },
        "outputId": "93fdfa8a-4107-4c85-b14e-70f2937536fb"
      },
      "source": [
        "# [Q2] Code\n",
        "number = 0\n",
        "sum = 0\n",
        "while number < 1000:\n",
        "    number += 1\n",
        "    if number%3 != 0 : continue\n",
        "    sum = sum + number\n",
        "print(sum)"
      ],
      "execution_count": 22,
      "outputs": [
        {
          "output_type": "stream",
          "text": [
            "166833\n"
          ],
          "name": "stdout"
        }
      ]
    },
    {
      "cell_type": "markdown",
      "metadata": {
        "id": "UZy8lu_BXGnT"
      },
      "source": [
        "## Q3.\n",
        "> while문을 사용하여 다음과 같이 별(*)을 표시하는 프로그램을 작성해 보자.\n",
        "\n",
        "```\n",
        "*\n",
        "**\n",
        "***\n",
        "****\n",
        "*****\n",
        "\n",
        "```\n"
      ]
    },
    {
      "cell_type": "code",
      "metadata": {
        "id": "H9T_sXHzXGnW",
        "colab": {
          "base_uri": "https://localhost:8080/"
        },
        "outputId": "9cd09377-0164-4212-e11c-2ef252932de1"
      },
      "source": [
        "# [Q3] Code\n",
        "number =0 \n",
        "while number<5:\n",
        "      number+=1\n",
        "      print(\"*\"*number)\n"
      ],
      "execution_count": 24,
      "outputs": [
        {
          "output_type": "stream",
          "text": [
            "*\n",
            "**\n",
            "***\n",
            "****\n",
            "*****\n"
          ],
          "name": "stdout"
        }
      ]
    },
    {
      "cell_type": "markdown",
      "metadata": {
        "id": "fqypxxqTXHY7"
      },
      "source": [
        "## Q4.\n",
        "> for문을 사용해 1부터 100까지의 숫자를 출력해 보자.\n",
        "- 단순 for문 사용\n",
        "- 리스트 내포 사용"
      ]
    },
    {
      "cell_type": "code",
      "metadata": {
        "id": "oQ5UnmayXHY-",
        "colab": {
          "base_uri": "https://localhost:8080/"
        },
        "outputId": "d6d3b97e-cab1-4ea6-b40f-35a3feca4379"
      },
      "source": [
        "# [Q4] Code\n",
        "x = range(1,101)\n",
        "result = [i*1 for i in x]\n",
        "print(result)"
      ],
      "execution_count": 6,
      "outputs": [
        {
          "output_type": "stream",
          "text": [
            "[1, 2, 3, 4, 5, 6, 7, 8, 9, 10, 11, 12, 13, 14, 15, 16, 17, 18, 19, 20, 21, 22, 23, 24, 25, 26, 27, 28, 29, 30, 31, 32, 33, 34, 35, 36, 37, 38, 39, 40, 41, 42, 43, 44, 45, 46, 47, 48, 49, 50, 51, 52, 53, 54, 55, 56, 57, 58, 59, 60, 61, 62, 63, 64, 65, 66, 67, 68, 69, 70, 71, 72, 73, 74, 75, 76, 77, 78, 79, 80, 81, 82, 83, 84, 85, 86, 87, 88, 89, 90, 91, 92, 93, 94, 95, 96, 97, 98, 99, 100]\n"
          ],
          "name": "stdout"
        }
      ]
    },
    {
      "cell_type": "markdown",
      "metadata": {
        "id": "NKsvciXZXIL-"
      },
      "source": [
        "## Q5.\n",
        "> A 학급에 총 10명의 학생이 있다. 이 학생들의 중간고사 점수는 다음과 같다.\n",
        "\n",
        "- [70, 60, 55, 75, 95, 90, 80, 80, 85, 100]\n",
        "\n",
        "- for문을 사용하여 A 학급의 평균 점수를 구해 보자."
      ]
    },
    {
      "cell_type": "code",
      "metadata": {
        "id": "5MZQYOVjXIL_",
        "colab": {
          "base_uri": "https://localhost:8080/"
        },
        "outputId": "f99ca610-7a0d-4cfd-f148-5724810e7295"
      },
      "source": [
        "# [Q5] Code\n",
        "scores = [70, 60, 55, 75, 95, 90, 80, 80, 85, 100]\n",
        "\n",
        "average = 0\n",
        "total = 0\n",
        "\n",
        "for score in scores:\n",
        "    total += score\n",
        "    \n",
        "print(\"평균 점수 = {0}\". format(total/len(scores)))\n"
      ],
      "execution_count": 52,
      "outputs": [
        {
          "output_type": "stream",
          "text": [
            "평균 점수 = 79.0\n"
          ],
          "name": "stdout"
        }
      ]
    },
    {
      "cell_type": "markdown",
      "metadata": {
        "id": "-3KHtOOoXJBV"
      },
      "source": [
        "## Q6.\n",
        "> 리스트 중에서 홀수에만 2를 곱하여 저장하는 다음 코드가 있다.\n",
        "```\n",
        "numbers = [1, 2, 3, 4, 5, 6, 7, 8, 9]\n",
        "result = []\n",
        "for n in numbers:\n",
        "    if n % 2 == 1:\n",
        "        result.append(n*2)\n",
        "```\n",
        "\n",
        "- 위 코드를 리스트 내포(list comprehension)를 사용하여 표현해 보자."
      ]
    },
    {
      "cell_type": "code",
      "metadata": {
        "id": "AjYR0lUaXJBa",
        "colab": {
          "base_uri": "https://localhost:8080/"
        },
        "outputId": "ed05b4c8-7cec-4bb0-c851-729c0cebd648"
      },
      "source": [
        "# [Q6] Code\n",
        "number = [1, 2, 3, 4, 5, 6, 7, 8, 9]\n",
        "result = []\n",
        "for n in range(len(number)):\n",
        "   if number[n] % 2 == 1:\n",
        "      result.append(number[n]*2)\n",
        "   else:\n",
        "      result.append(number[n])\n",
        "print(result)"
      ],
      "execution_count": 31,
      "outputs": [
        {
          "output_type": "stream",
          "text": [
            "[2, 2, 6, 4, 10, 6, 14, 8, 18]\n"
          ],
          "name": "stdout"
        }
      ]
    },
    {
      "cell_type": "markdown",
      "metadata": {
        "id": "YrS3b88QbmKo"
      },
      "source": [
        "## Q7.\n",
        "> ## [Challenge] 응용 코드 : 평균 성적을 구하시오.\n",
        "```\n",
        "subjects = ['파이썬', '영어', '수학', '물리']\n",
        "scores = [91, 67, 88, 75]\n",
        "```\n",
        "\n",
        "- 평균 성적을 세가지 이상의 방법으로 구하시오."
      ]
    },
    {
      "cell_type": "code",
      "metadata": {
        "id": "Ll_2InMWbmKq",
        "colab": {
          "base_uri": "https://localhost:8080/"
        },
        "outputId": "294ae9f6-e736-48e2-f5c6-432ee0d9eef6"
      },
      "source": [
        "# [Q7] Code-1\n",
        "subjects = ['파이썬', '영어', '수학', '물리']\n",
        "scores = [91, 67, 88, 75]\n",
        "\n",
        "average = 0\n",
        "total = 0\n",
        "\n",
        "for i in range(len(subjects)):\n",
        "    subject = subjects[i]\n",
        "    score = scores[i]\n",
        "    \n",
        "    total += score\n",
        "    \n",
        "    print(subject, score)\n",
        "print(\"평균 성적 = {0}\".format(total/len(subjects)))\n"
      ],
      "execution_count": 38,
      "outputs": [
        {
          "output_type": "stream",
          "text": [
            "파이썬 91\n",
            "영어 67\n",
            "수학 88\n",
            "물리 75\n",
            "평균 성적 = 80.25\n"
          ],
          "name": "stdout"
        }
      ]
    },
    {
      "cell_type": "code",
      "metadata": {
        "id": "1Yl74HZQcWkw",
        "colab": {
          "base_uri": "https://localhost:8080/"
        },
        "outputId": "8cd61ef9-b2c5-4167-a91b-43d5801ba3b8"
      },
      "source": [
        "# [Q7] Code-2\n",
        "subjects = ['파이썬', '영어', '수학', '물리']\n",
        "scores = [91, 67, 88, 75]\n",
        "\n",
        "average = 0\n",
        "total = 0\n",
        "\n",
        "for i, subject in enumerate(subjects):\n",
        "    score = scores[i]\n",
        "\n",
        "    total += score\n",
        "    \n",
        "    print(subject, score)\n",
        "print(\"평균 성적 = {0}\".format(total/len(subjects)))\n",
        "\n"
      ],
      "execution_count": 40,
      "outputs": [
        {
          "output_type": "stream",
          "text": [
            "파이썬 91\n",
            "영어 67\n",
            "수학 88\n",
            "물리 75\n",
            "평균 성적 = 80.25\n"
          ],
          "name": "stdout"
        }
      ]
    },
    {
      "cell_type": "code",
      "metadata": {
        "id": "POKZZo1KcW0Q",
        "colab": {
          "base_uri": "https://localhost:8080/"
        },
        "outputId": "5de03fb6-3202-4277-ff15-e06f3f496c34"
      },
      "source": [
        "# [Q7] Code-3\n",
        "subjects = ['파이썬', '영어', '수학', '물리']\n",
        "scores = [91, 67, 88, 75]\n",
        "\n",
        "average = 0\n",
        "total = 0\n",
        "\n",
        "for subject, score in zip(subjects, scores):\n",
        "    total += score\n",
        "\n",
        "    print(subject, score)\n",
        "print(\"평균 성적 = {0}\".format(total/len(subjects)))\n"
      ],
      "execution_count": 42,
      "outputs": [
        {
          "output_type": "stream",
          "text": [
            "파이썬 91\n",
            "영어 67\n",
            "수학 88\n",
            "물리 75\n",
            "평균 성적 = 80.25\n"
          ],
          "name": "stdout"
        }
      ]
    },
    {
      "cell_type": "markdown",
      "metadata": {
        "id": "2ljBDShkbqZO"
      },
      "source": [
        "## 코딩 연습 결과를 github에 올리기\n",
        "> 완성된 ipython 노트북 파일을 각자의 github에 올리시오.\n",
        "\n",
        "- github 계정 만들기 (계정이 없는 학생)\n",
        "    1. github에 sign up (Google gmail 계정을 이용해서 만드시오.)\n",
        "- github에 노트 올리기\n",
        "    2. github에 각자의 id로 repo를 만드시오. (한번 만들면 계속 재사용)\n",
        "    3. **github repo의 ch3 폴더에 연습문제 풀이 결과 노트를 올리시오.**\n",
        "        - **제출노트: ch3-exercises-id.ipynb**\n"
      ]
    },
    {
      "cell_type": "code",
      "metadata": {
        "id": "OnCR-YNCc8B6"
      },
      "source": [
        ""
      ],
      "execution_count": null,
      "outputs": []
    }
  ]
}