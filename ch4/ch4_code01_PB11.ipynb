{
  "nbformat": 4,
  "nbformat_minor": 0,
  "metadata": {
    "colab": {
      "name": "ch4_code01-PB11.ipynb",
      "provenance": [],
      "collapsed_sections": [],
      "include_colab_link": true
    },
    "kernelspec": {
      "display_name": "Python 3",
      "language": "python",
      "name": "python3"
    },
    "language_info": {
      "codemirror_mode": {
        "name": "ipython",
        "version": 3
      },
      "file_extension": ".py",
      "mimetype": "text/x-python",
      "name": "python",
      "nbconvert_exporter": "python",
      "pygments_lexer": "ipython3",
      "version": "3.7.5"
    }
  },
  "cells": [
    {
      "cell_type": "markdown",
      "metadata": {
        "id": "view-in-github",
        "colab_type": "text"
      },
      "source": [
        "<a href=\"https://colab.research.google.com/github/jungsh210/PB11/blob/main/ch4/ch4_code01_PB11.ipynb\" target=\"_parent\"><img src=\"https://colab.research.google.com/assets/colab-badge.svg\" alt=\"Open In Colab\"/></a>"
      ]
    },
    {
      "cell_type": "markdown",
      "metadata": {
        "id": "H4jNE-BMAK3f"
      },
      "source": [
        "# ch4_code01.ipynb\n",
        "## PB11\n",
        "- 파이썬 함수\n",
        "    - 입력값을 가지고 어떤 일을 수행한 다음에 그 결과물을 출력\n",
        "        - 반복되는 부분을 함수로 전환.\n",
        "        - 코딩을 모듈화\n",
        "- 매개변수와 인수\n",
        "- 입력값과 결괏값\n",
        "    - return\n",
        "    - 여러 개의 입력을 처리하는 함수(*args)\n",
        "    - 키워드 파라미터 (kwargs)\n",
        "    - 매개변수에 초깃값 미리 설정\n",
        "- lambda 함수 정의 \n",
        "    - 단축 모드로 함수를 정의할 때 사용"
      ]
    },
    {
      "cell_type": "markdown",
      "metadata": {
        "id": "zMzosrjkVie8"
      },
      "source": [
        "## ch4_01_function.py"
      ]
    },
    {
      "cell_type": "code",
      "metadata": {
        "colab": {
          "base_uri": "https://localhost:8080/"
        },
        "id": "v5CsRfZnVb65",
        "outputId": "19f2a213-7869-4b25-e1e6-03c847cf994f"
      },
      "source": [
        "print(\"함수란 무엇인가?\")\n",
        "print(\"--> \" , \"입력값을 가지고 어떤 일을 수행한 다음에 그 결과물을 내어 놓는 것\")"
      ],
      "execution_count": 4,
      "outputs": [
        {
          "output_type": "stream",
          "text": [
            "함수란 무엇인가?\n",
            "-->  입력값을 가지고 어떤 일을 수행한 다음에 그 결과물을 내어 놓는 것\n"
          ],
          "name": "stdout"
        }
      ]
    },
    {
      "cell_type": "code",
      "metadata": {
        "id": "TA3TG59Ae3eb",
        "colab": {
          "base_uri": "https://localhost:8080/"
        },
        "outputId": "6d1c8d91-6693-43ed-ed60-109d36d44119"
      },
      "source": [
        "print(\"함수를 사용하는 이유는 무엇일까?\")\n",
        "print(\"--> \" , \"반복되는 부분을 함수로 전환하고, 코딩을 모듈화\")"
      ],
      "execution_count": 5,
      "outputs": [
        {
          "output_type": "stream",
          "text": [
            "함수를 사용하는 이유는 무엇일까?\n",
            "-->  반복되는 부분을 함수로 전환하고, 코딩을 모듈화\n"
          ],
          "name": "stdout"
        }
      ]
    },
    {
      "cell_type": "markdown",
      "metadata": {
        "id": "Cyp9v7FFo2Rn"
      },
      "source": [
        "#### 파이썬 함수의 구조\n",
        "```\n",
        "# 함수는 def라는 키워드로 만듭니다.\n",
        "def 함수명(매개변수):   \n",
        "    <수행할 문장1>\n",
        "    <수행할 문장2>\n",
        "    ...\n",
        "```"
      ]
    },
    {
      "cell_type": "code",
      "metadata": {
        "id": "7R9nP4cIpxWn"
      },
      "source": [
        " # add() 함수를 정의\n",
        "def add(a):       \n",
        "    print(a)"
      ],
      "execution_count": 5,
      "outputs": []
    },
    {
      "cell_type": "code",
      "metadata": {
        "colab": {
          "base_uri": "https://localhost:8080/"
        },
        "id": "Yp1grL6yp4Hn",
        "outputId": "d405960c-8d8a-4cb7-b730-be7866b9de98"
      },
      "source": [
        "add(100) , add(\"PB11\")      # 위에서 add 함수를 정의했기 때문에 add(100)은 100을 출력하고, add(PB11)은 PB11을 출력합니다\n",
        "                            # add(100)과 add(PB11)을 , 로 구분해서 return이 없는 상태로 출력했기 때문에 (None, None)이 출력됩니다."
      ],
      "execution_count": 7,
      "outputs": [
        {
          "output_type": "stream",
          "text": [
            "100\n",
            "PB11\n"
          ],
          "name": "stdout"
        },
        {
          "output_type": "execute_result",
          "data": {
            "text/plain": [
              "(None, None)"
            ]
          },
          "metadata": {
            "tags": []
          },
          "execution_count": 7
        }
      ]
    },
    {
      "cell_type": "code",
      "metadata": {
        "colab": {
          "base_uri": "https://localhost:8080/"
        },
        "id": "1ISbPuqsiPps",
        "outputId": "f7680b3f-0f00-4ed6-f98d-d68484933e9f"
      },
      "source": [
        "add(100)                   # 줄을 바꿔서 출력하면 제대로 출력이 됩니다.\n",
        "add(\"PB11\")"
      ],
      "execution_count": 9,
      "outputs": [
        {
          "output_type": "stream",
          "text": [
            "100\n",
            "PB11\n"
          ],
          "name": "stdout"
        }
      ]
    },
    {
      "cell_type": "code",
      "metadata": {
        "id": "a4nRkYoDo0F7"
      },
      "source": [
        "# add() 함수를 정의\n",
        "def add(a, b): \n",
        "    return a + b"
      ],
      "execution_count": 10,
      "outputs": []
    },
    {
      "cell_type": "markdown",
      "metadata": {
        "id": "hz3bjaHvi6Hk"
      },
      "source": [
        "#### add() 함수를 사용"
      ]
    },
    {
      "cell_type": "code",
      "metadata": {
        "colab": {
          "base_uri": "https://localhost:8080/"
        },
        "id": "1GVqtSD7pluF",
        "outputId": "18fa1229-10e2-4594-f3d7-8d5522d04e8a"
      },
      "source": [
        "# add() 함수를 사용\n",
        "# 매개변수에 들어가는 값을 \"인수\"라고 한다.\n",
        "\n",
        "a = 3    \n",
        "b = 4\n",
        "c = add(a,b)     # add() 함수에 매개변수를 넣어서 실행을 시키면 a=3과 b=4가 더해져셔 출력됩니다.\n",
        "print(c)\n",
        "\n",
        "d = add(3,4)      # add() 함수에 인수를 직접 넣어서 실행시켜도 출력이 됩니다.\n",
        "print(d)"
      ],
      "execution_count": 11,
      "outputs": [
        {
          "output_type": "stream",
          "text": [
            "7\n",
            "7\n"
          ],
          "name": "stdout"
        }
      ]
    },
    {
      "cell_type": "code",
      "metadata": {
        "colab": {
          "base_uri": "https://localhost:8080/"
        },
        "id": "CP-RP3yji_XL",
        "outputId": "ab92b6ca-cf67-4218-c228-454d16d29e8f"
      },
      "source": [
        "x=[1,2,3]\n",
        "y=[4,5,6]\n",
        "z=x+y\n",
        "print(z)"
      ],
      "execution_count": 1,
      "outputs": [
        {
          "output_type": "stream",
          "text": [
            "[1, 2, 3, 4, 5, 6]\n"
          ],
          "name": "stdout"
        }
      ]
    },
    {
      "cell_type": "code",
      "metadata": {
        "id": "Khv12X1xaUzz"
      },
      "source": [
        "def add(x,y):\n",
        "  return x+y"
      ],
      "execution_count": 5,
      "outputs": []
    },
    {
      "cell_type": "code",
      "metadata": {
        "colab": {
          "base_uri": "https://localhost:8080/"
        },
        "id": "QnCU_xM_ZunI",
        "outputId": "a1935434-8f4d-439d-b1ad-baa7031000f5"
      },
      "source": [
        "x = [1, 2, 3]\n",
        "y = [4, 5, 6]\n",
        "\n",
        "z = add(x,y)\n",
        "print(z)"
      ],
      "execution_count": 6,
      "outputs": [
        {
          "output_type": "stream",
          "text": [
            "[1, 2, 3, 4, 5, 6]\n"
          ],
          "name": "stdout"
        }
      ]
    },
    {
      "cell_type": "code",
      "metadata": {
        "colab": {
          "base_uri": "https://localhost:8080/"
        },
        "id": "Z_CgY6M_cjw5",
        "outputId": "d074edbf-c1bc-43ee-e3f0-b4bc681853d4"
      },
      "source": [
        "w = add(\"Hello \", \"Python!\")     # 첫번째 인수에는 Hello 문자열, 두번째 인수에는 Python 문자열이 들어있습니다.\n",
        "print(w)"
      ],
      "execution_count": 8,
      "outputs": [
        {
          "output_type": "stream",
          "text": [
            "Hello Python!\n"
          ],
          "name": "stdout"
        }
      ]
    },
    {
      "cell_type": "markdown",
      "metadata": {
        "id": "dK7jIbXtdINd"
      },
      "source": [
        "### 매개변수와 인수"
      ]
    },
    {
      "cell_type": "markdown",
      "metadata": {
        "id": "Uci6C3__dgGd"
      },
      "source": [
        "###### 매개변수\n",
        "- 함수에 입력으로 전달된 값을 받는 변수\n",
        "\n",
        "###### 인수\n",
        "- 함수를 호출할 때 전달하는 입력값을 의미"
      ]
    },
    {
      "cell_type": "markdown",
      "metadata": {
        "id": "DgmVyxGHd7wM"
      },
      "source": [
        "##### add() 함수에서의 매개변수와 인수\n",
        "```\n",
        "def add(a,b): \n",
        "    return a+b\n",
        "\n",
        "print(add(a,b))  # a,b는 매개변수\n",
        "print(add(3,4))  # 3,4는 인수\n",
        "```"
      ]
    },
    {
      "cell_type": "code",
      "metadata": {
        "id": "42R89hXregE0"
      },
      "source": [
        "def add(a,b):\n",
        "  return a+b\n",
        "\n",
        "a = 3\n",
        "b = 4"
      ],
      "execution_count": 10,
      "outputs": []
    },
    {
      "cell_type": "code",
      "metadata": {
        "colab": {
          "base_uri": "https://localhost:8080/"
        },
        "id": "p08iyKWseZvc",
        "outputId": "11d9e085-4f9d-4fb6-c810-2aa7711639ae"
      },
      "source": [
        "print(add(a,b))\n",
        "print(add(3,4))\n",
        "print(add(10,50))     # add() 함수를 이용하는 또 다른 방법은 인수값을 직접 설정하여 add() 함수를 사용할 수 있습니다."
      ],
      "execution_count": 13,
      "outputs": [
        {
          "output_type": "stream",
          "text": [
            "7\n",
            "7\n",
            "60\n"
          ],
          "name": "stdout"
        }
      ]
    },
    {
      "cell_type": "markdown",
      "metadata": {
        "id": "Z0sj6Xy8ihPU"
      },
      "source": [
        "#### 함수의 결과값(return)"
      ]
    },
    {
      "cell_type": "markdown",
      "metadata": {
        "id": "H8KIb0ivi15Q"
      },
      "source": [
        "###### 입력값과 결과값에 따른 함수의 형태\n",
        "###### 입력값 ---> 함수 ----> 결과값\n",
        "- 일반적인 함수\n",
        "- 입력값과 결과값이 있는 함수\n",
        "\n",
        "```\n",
        "def 함수이름(매개변수):\n",
        "    <수행할 문장>\n",
        "    ...\n",
        "    retrun 결과값\n",
        "```"
      ]
    },
    {
      "cell_type": "code",
      "metadata": {
        "id": "5e58Gw8aiu8N"
      },
      "source": [
        "# add2() 함수 정의\n",
        "# add2() 함수는 위의 add() 함수와 비슷해 보이지만 다른 주소에서 만들어진 함수 객체이다.\n",
        "\n",
        "def add2(a, b): \n",
        "    result = a + b   # a+b를 add2() 함수 내부에 정의되는 result라는 자동변수에 넣어줍니다.  \n",
        "    return result"
      ],
      "execution_count": 16,
      "outputs": []
    },
    {
      "cell_type": "markdown",
      "metadata": {
        "id": "knAMBkFMm-6V"
      },
      "source": [
        "#### 입력값과 결괏값이 있는 함수의 사용법\n",
        "- 결괏값을 받을 변수 = 함수이름(입력인수1, 입력인수2,...)"
      ]
    },
    {
      "cell_type": "code",
      "metadata": {
        "colab": {
          "base_uri": "https://localhost:8080/"
        },
        "id": "pa1dMi3Em6zi",
        "outputId": "5dbca58f-ed50-4a94-a7ae-b269265470fb"
      },
      "source": [
        "a = add2(3, 4)\n",
        "print(a)"
      ],
      "execution_count": 20,
      "outputs": [
        {
          "output_type": "stream",
          "text": [
            "7\n"
          ],
          "name": "stdout"
        }
      ]
    },
    {
      "cell_type": "markdown",
      "metadata": {
        "id": "uYh84ONXlcXO"
      },
      "source": [
        "##### 입력값이 없는 함수\n",
        "\n",
        "```\n",
        "def 함수이름(매개변수):\n",
        "    return <출력값>\n",
        "```"
      ]
    },
    {
      "cell_type": "code",
      "metadata": {
        "id": "Jm6h1eVEkyJr"
      },
      "source": [
        "def say():      # say() 함수에 매개변수를 아무것도 넣지 않고 출력하면 'HI'가 출력이 됩니다.\n",
        "    return 'Hi'"
      ],
      "execution_count": 18,
      "outputs": []
    },
    {
      "cell_type": "markdown",
      "metadata": {
        "id": "6WFHphegnOyX"
      },
      "source": [
        "#### 입력값이 없는 함수의 사용법\n",
        "- 결과값을 받을 변수 = 함수 이름()"
      ]
    },
    {
      "cell_type": "code",
      "metadata": {
        "colab": {
          "base_uri": "https://localhost:8080/"
        },
        "id": "NBGKBSm1lWtT",
        "outputId": "407c7df8-c670-49df-84f3-e54e862c66d0"
      },
      "source": [
        "a = say()\n",
        "print(a)"
      ],
      "execution_count": 21,
      "outputs": [
        {
          "output_type": "stream",
          "text": [
            "Hi\n"
          ],
          "name": "stdout"
        }
      ]
    },
    {
      "cell_type": "markdown",
      "metadata": {
        "id": "QgchuHnpnblp"
      },
      "source": [
        "#### 결과값이 없는 함수"
      ]
    },
    {
      "cell_type": "code",
      "metadata": {
        "id": "wwZbvDXAnL9a"
      },
      "source": [
        "# 결괏값이 없는 함수\n",
        "# add3() 함수 정의\n",
        "# 매개 변수 = local 변수(지역변수)\n",
        "\n",
        "def add3(a, b):     # a,b는 add3() 함수 안에 존재하는 local 변수 이고, local 변수는 외부에서 접근이 불가합니다. \n",
        "    print(\"%d, %d의 합은 %d입니다.\" % (a, b, a+b))"
      ],
      "execution_count": 25,
      "outputs": []
    },
    {
      "cell_type": "markdown",
      "metadata": {
        "id": "njaNS_1apkL_"
      },
      "source": [
        "#### 결과값이 없는 함수의 사용법\n",
        "- 함수 이름(입력인수1, 입력인수2, ...)"
      ]
    },
    {
      "cell_type": "code",
      "metadata": {
        "colab": {
          "base_uri": "https://localhost:8080/"
        },
        "id": "oABB8TrFnet0",
        "outputId": "f323ddd6-dea6-437a-bda3-eeb244e72a6f"
      },
      "source": [
        "add3(3, 4)"
      ],
      "execution_count": 24,
      "outputs": [
        {
          "output_type": "stream",
          "text": [
            "3, 4의 합은 7입니다.\n"
          ],
          "name": "stdout"
        }
      ]
    },
    {
      "cell_type": "code",
      "metadata": {
        "colab": {
          "base_uri": "https://localhost:8080/"
        },
        "id": "M_rdOns6pd7b",
        "outputId": "691c5d42-6087-423a-8ae9-948d57b44c02"
      },
      "source": [
        "# 다음 결과는 무엇인가?\n",
        "# \"3,4의 합은 7입니다.\"와 \"None\"이 출력이 됩니다. \"None\"이 출력이 되는 이유는 return(결과값)이 없기 때문에 반환할 값이 없습니다. 그러므로 \"None\"이 출력이 됩니다.\n",
        "\n",
        "a = add3(3, 4)\n",
        "print(a)\n",
        "print(\"->\", \"None이 출력이 되는 이유는 return(결과값)이 없기 때문에 반환할 값이 없습니다. 그러므로 None이 출력이 됩니다.\")"
      ],
      "execution_count": 30,
      "outputs": [
        {
          "output_type": "stream",
          "text": [
            "3, 4의 합은 7입니다.\n",
            "None\n",
            "-> None이 출력이 되는 이유는 return(결과값)이 없기 때문에 반환할 값이 없습니다. 그러므로 None이 출력이 됩니다.\n"
          ],
          "name": "stdout"
        }
      ]
    },
    {
      "cell_type": "markdown",
      "metadata": {
        "id": "ag032C93rWBc"
      },
      "source": [
        "#### 입력값도 결과값도 없는 함수\n",
        "```\n",
        "def 함수 이름():\n",
        "    print(\"출력값\")\n",
        "```"
      ]
    },
    {
      "cell_type": "code",
      "metadata": {
        "id": "VWvHBiKpp3LP"
      },
      "source": [
        "# 입력값도 결괏값도 없는 함수\n",
        "# say2() 함수 정의\n",
        "\n",
        "def say2(): \n",
        "    print('Hi')"
      ],
      "execution_count": 31,
      "outputs": []
    },
    {
      "cell_type": "markdown",
      "metadata": {
        "id": "uZwsMzPUrn71"
      },
      "source": [
        "#### 입력값도 결과값도 없는 함수의 사용법\n",
        "- 함수이름()"
      ]
    },
    {
      "cell_type": "code",
      "metadata": {
        "colab": {
          "base_uri": "https://localhost:8080/"
        },
        "id": "Q2Xn3zihrjVM",
        "outputId": "925ab9a1-7d40-41b3-9aa3-de09d7d5fecb"
      },
      "source": [
        "# say2()를 출력하면 \"Hi\"가 출력됩니다.\n",
        "say2()"
      ],
      "execution_count": 33,
      "outputs": [
        {
          "output_type": "stream",
          "text": [
            "Hi\n"
          ],
          "name": "stdout"
        }
      ]
    },
    {
      "cell_type": "markdown",
      "metadata": {
        "id": "4ZixIq09r7Q0"
      },
      "source": [
        "#### 매개변수의 값을 지정하여 호출하기"
      ]
    },
    {
      "cell_type": "code",
      "metadata": {
        "id": "8iVfj_Vzrwld"
      },
      "source": [
        "# add4() 함수 정의\n",
        "\n",
        "def add4(a, b):\n",
        "    return a+b"
      ],
      "execution_count": 35,
      "outputs": []
    },
    {
      "cell_type": "code",
      "metadata": {
        "colab": {
          "base_uri": "https://localhost:8080/"
        },
        "id": "uIjCN14ksBvH",
        "outputId": "f7f94164-69b1-4a1b-8391-480fc577833c"
      },
      "source": [
        "# 매개변수 a에는 3을, b에는 7을 지정합니다.\n",
        "result = add4(a=3, b=7) \n",
        "print(result)"
      ],
      "execution_count": 39,
      "outputs": [
        {
          "output_type": "stream",
          "text": [
            "10\n"
          ],
          "name": "stdout"
        }
      ]
    },
    {
      "cell_type": "code",
      "metadata": {
        "colab": {
          "base_uri": "https://localhost:8080/"
        },
        "id": "olETaR8pshx2",
        "outputId": "a35eba34-c0d6-4771-e2a8-fcc574bb591d"
      },
      "source": [
        "# 매개변수의 순서에 상관없이 값을 지정해주는 것이 가능합니다.\n",
        "# 매개 변수 b에는 5를, a에는 3을 지정합니다.\n",
        "\n",
        "result2 = add4(b=5, a=3)  \n",
        "print(result2)"
      ],
      "execution_count": 40,
      "outputs": [
        {
          "output_type": "stream",
          "text": [
            "8\n"
          ],
          "name": "stdout"
        }
      ]
    },
    {
      "cell_type": "code",
      "metadata": {
        "colab": {
          "base_uri": "https://localhost:8080/",
          "height": 133
        },
        "id": "f5mNXj0V4D0x",
        "outputId": "b606ae91-5227-4d61-e103-5e85657c07bb"
      },
      "source": [
        "result3 = add4(a=3, 7)      \n",
        "print(result3)\n",
        " # \"매개변수=인수\" 키워드는 타입은 뒤로 가야 하기 때문에 에러가 뜹니다. \n",
        " # SyntaxError: positional argument follows keyword argument"
      ],
      "execution_count": 42,
      "outputs": [
        {
          "output_type": "error",
          "ename": "SyntaxError",
          "evalue": "ignored",
          "traceback": [
            "\u001b[0;36m  File \u001b[0;32m\"<ipython-input-42-dfdb089f26df>\"\u001b[0;36m, line \u001b[0;32m1\u001b[0m\n\u001b[0;31m    result3 = add4(a=3, 7)\u001b[0m\n\u001b[0m                       ^\u001b[0m\n\u001b[0;31mSyntaxError\u001b[0m\u001b[0;31m:\u001b[0m positional argument follows keyword argument\n"
          ]
        }
      ]
    },
    {
      "cell_type": "code",
      "metadata": {
        "colab": {
          "base_uri": "https://localhost:8080/",
          "height": 185
        },
        "id": "tYXkUkLC5sHs",
        "outputId": "4ab105a1-c052-4049-9865-8012e0f506cd"
      },
      "source": [
        "result3 = add4(7, a=3)      \n",
        "print(result3)\n",
        "# \"매개변수=인수\" 키워드를 뒤로 보내서 다시 실행시켰지만 7이 a자리에 있기 때문에 b로 처리되지 않고 a로 처리가 되면서 a 값이 두 개가 되므로 에러가 뜹니다.\n",
        "# TypeError: add4() got multiple values for argument 'a'"
      ],
      "execution_count": 44,
      "outputs": [
        {
          "output_type": "error",
          "ename": "TypeError",
          "evalue": "ignored",
          "traceback": [
            "\u001b[0;31m---------------------------------------------------------------------------\u001b[0m",
            "\u001b[0;31mTypeError\u001b[0m                                 Traceback (most recent call last)",
            "\u001b[0;32m<ipython-input-44-2793c2cb0c12>\u001b[0m in \u001b[0;36m<module>\u001b[0;34m()\u001b[0m\n\u001b[0;32m----> 1\u001b[0;31m \u001b[0mresult3\u001b[0m \u001b[0;34m=\u001b[0m \u001b[0madd4\u001b[0m\u001b[0;34m(\u001b[0m\u001b[0;36m7\u001b[0m\u001b[0;34m,\u001b[0m \u001b[0ma\u001b[0m\u001b[0;34m=\u001b[0m\u001b[0;36m3\u001b[0m\u001b[0;34m)\u001b[0m\u001b[0;34m\u001b[0m\u001b[0;34m\u001b[0m\u001b[0m\n\u001b[0m\u001b[1;32m      2\u001b[0m \u001b[0mprint\u001b[0m\u001b[0;34m(\u001b[0m\u001b[0mresult3\u001b[0m\u001b[0;34m)\u001b[0m\u001b[0;34m\u001b[0m\u001b[0;34m\u001b[0m\u001b[0m\n",
            "\u001b[0;31mTypeError\u001b[0m: add4() got multiple values for argument 'a'"
          ]
        }
      ]
    },
    {
      "cell_type": "code",
      "metadata": {
        "colab": {
          "base_uri": "https://localhost:8080/"
        },
        "id": "8Z6fL50k6hYS",
        "outputId": "c6ae0ccc-78da-4a59-905c-cfd975eddd05"
      },
      "source": [
        "result3 = add4(b=7, a=3)      \n",
        "print(result3)\n",
        "# 매개변수에 각각의 값을 지정을 해줘야 실행이 됩니다."
      ],
      "execution_count": 45,
      "outputs": [
        {
          "output_type": "stream",
          "text": [
            "10\n"
          ],
          "name": "stdout"
        }
      ]
    },
    {
      "cell_type": "markdown",
      "metadata": {
        "id": "o3nh6urX26ww"
      },
      "source": [
        "#### 입력값이 몇 개가 될지 모를 때는 어떻게 할까?\n",
        "```\n",
        "def 함수 이름(*매개변수):\n",
        "    <수행할 문장>\n",
        "    ...\n",
        "```"
      ]
    },
    {
      "cell_type": "markdown",
      "metadata": {
        "id": "WdhxzBaG681y"
      },
      "source": [
        "#### *args\n",
        "- arg:argument\n",
        "- *가 중요!!! : *는 여러 개의 매개변수 값들을 담을 수 있습니다."
      ]
    },
    {
      "cell_type": "code",
      "metadata": {
        "id": "6Zpiks5xtduL"
      },
      "source": [
        "# add_many() 함수 정의  # 주위! 함수를 시작하는 알파벳은 소문자로 써야 합니다.\n",
        "\n",
        "def add_many(*args):      # *args: 여러 개의 매개변수의 값이 임의로 지정이 될 수 있습니다.\n",
        "    result = 0            # result = 0 : result 값을 초기화\n",
        "    for i in args: \n",
        "        result = result + i \n",
        "    return result "
      ],
      "execution_count": 47,
      "outputs": []
    },
    {
      "cell_type": "code",
      "metadata": {
        "colab": {
          "base_uri": "https://localhost:8080/"
        },
        "id": "mdmealHI8gbc",
        "outputId": "11439263-2f86-4fce-b5b7-7b9eead59743"
      },
      "source": [
        "add_many(1, 2, 3)\n",
        "# 위에서 add_many가 정의된 대로 실행 후 result 값 출력합니다."
      ],
      "execution_count": 49,
      "outputs": [
        {
          "output_type": "execute_result",
          "data": {
            "text/plain": [
              "6"
            ]
          },
          "metadata": {
            "tags": []
          },
          "execution_count": 49
        }
      ]
    },
    {
      "cell_type": "code",
      "metadata": {
        "colab": {
          "base_uri": "https://localhost:8080/"
        },
        "id": "GDTuucgj8jYy",
        "outputId": "f269ec84-275d-4546-af78-652aa0617826"
      },
      "source": [
        "add_many(1, 2, 3, 4, 5, 6, 7, 8, 9)\n",
        "# 위에서 add_many가 정의된 대로 실행 후 result 값 출력합니다."
      ],
      "execution_count": 50,
      "outputs": [
        {
          "output_type": "execute_result",
          "data": {
            "text/plain": [
              "45"
            ]
          },
          "metadata": {
            "tags": []
          },
          "execution_count": 50
        }
      ]
    },
    {
      "cell_type": "code",
      "metadata": {
        "colab": {
          "base_uri": "https://localhost:8080/"
        },
        "id": "eXUu3rhD7PKs",
        "outputId": "e568df99-7838-4d44-8322-319e1594df9a"
      },
      "source": [
        "result = add_many(1,2,3,4,5,6,7,8,9,10)\n",
        "print(result)\n",
        "# 위에서 add_many가 정의된 대로 실행 후 result 값 출력합니다."
      ],
      "execution_count": 51,
      "outputs": [
        {
          "output_type": "stream",
          "text": [
            "55\n"
          ],
          "name": "stdout"
        }
      ]
    },
    {
      "cell_type": "markdown",
      "metadata": {
        "id": "-8aMS8Y29NgD"
      },
      "source": [
        "#### 여러 개의 입력을 처리하는 함수(*args)"
      ]
    },
    {
      "cell_type": "code",
      "metadata": {
        "id": "oLibjplN8Ou0"
      },
      "source": [
        "# add_mul() 함수를 정의\n",
        "# add_mul() : 더하고 곱하는 함수\n",
        "\n",
        "def add_mul(choice, *args):             # choice : 일반적인 매개변수 , *args: 여러 개의 매개변수의 값을 임의로 지정하는 매개변수\n",
        "    if choice == \"add\":                 # choice에 \"add\"라는 문자열이 들어가면 뒤에 있는 *args에 있는 매개변수의 값들을 다 더해줍니다.\n",
        "        result = 0                      # result = 0 : result를 초기화\n",
        "        for i in args:                \n",
        "            result = result + i \n",
        "    elif choice == \"mul\":               # choice에 \"mul\"이라는 문자열이 들어가면 뒤에 있는 *args에 있는 매개변수의 값들을 다 곱해줍니다.\n",
        "        result = 1 \n",
        "        for i in args: \n",
        "            result = result * i \n",
        "    return result "
      ],
      "execution_count": 53,
      "outputs": []
    },
    {
      "cell_type": "code",
      "metadata": {
        "id": "KU9C5bJLAE3o"
      },
      "source": [
        "# *args를 다르게 바꿀 수도 있습니다. (*args -> *z)\n",
        "def add_mul(choice, *z):             \n",
        "    if choice == \"add\":                 \n",
        "        result = 0                      \n",
        "        for i in z:                \n",
        "            result = result + i \n",
        "    elif choice == \"mul\":               \n",
        "        result = 1 \n",
        "        for i in z: \n",
        "            result = result * i \n",
        "    return result "
      ],
      "execution_count": 58,
      "outputs": []
    },
    {
      "cell_type": "code",
      "metadata": {
        "colab": {
          "base_uri": "https://localhost:8080/"
        },
        "id": "F7ou5uEr9Tfl",
        "outputId": "716674ff-1b6e-49d4-9839-7d525c0a3f85"
      },
      "source": [
        "# add\n",
        "result = add_mul(\"add\", 1,2,3,4,5)      # choice에 \"add\" 문자열이 들어있기 때문에 뒤에 *args에 있는 값 1, 2, 3, 4, 5 를 더해줍니다.\n",
        "print(result)"
      ],
      "execution_count": 54,
      "outputs": [
        {
          "output_type": "stream",
          "text": [
            "15\n"
          ],
          "name": "stdout"
        }
      ]
    },
    {
      "cell_type": "code",
      "metadata": {
        "colab": {
          "base_uri": "https://localhost:8080/"
        },
        "id": "Yxwbk8Iz-2LA",
        "outputId": "9d5cf45a-61ad-4aec-9268-b5d0ee5e20a8"
      },
      "source": [
        "# multiply\n",
        "result = add_mul(\"mul\", 1,2,3,4,5)       # choice에 \"mul\" 문자열이 들어있기 때문에 뒤에 *args에 있는 값 1, 2, 3, 4, 5 를 곱해줍니다.\n",
        "print(result)"
      ],
      "execution_count": 56,
      "outputs": [
        {
          "output_type": "stream",
          "text": [
            "120\n"
          ],
          "name": "stdout"
        }
      ]
    },
    {
      "cell_type": "markdown",
      "metadata": {
        "id": "BJzDV-6c_2x8"
      },
      "source": [
        "#### 키워드 파라미터 **kwargs\n",
        "     \n",
        "- 키워드 파라미터란?\n",
        "  - key=value 구조로 들어가는 것을 말합니다.\n",
        "  - 딕셔너리 구조가 됩니다.\n",
        "\n",
        "- **가 두 개 있으면 \n",
        "  - 여러 개의 \"매개변수=값\" 형태로 계속 정의할 수 있습니다."
      ]
    },
    {
      "cell_type": "code",
      "metadata": {
        "id": "j4i0F2JL-_Nh"
      },
      "source": [
        "# print_kwargs() 함수 지정\n",
        "\n",
        "def print_kwargs(**kwargs):\n",
        "    print(kwargs)"
      ],
      "execution_count": 57,
      "outputs": []
    },
    {
      "cell_type": "markdown",
      "metadata": {
        "id": "wGv7YOBZCOEm"
      },
      "source": [
        "#### print_kwargs() 함수는 매개변수 kwargs를 출력하는 함수\n",
        "###### **kwarg처럼 매개변수 앞에 *(x2)를 붙이면 매개변수 kwargs는 딕셔너리가 되고 모든 key = value 형태의 결과값이 그 딕셔너리에 저장이 됩니다. "
      ]
    },
    {
      "cell_type": "code",
      "metadata": {
        "colab": {
          "base_uri": "https://localhost:8080/"
        },
        "id": "fCkvivrh_7LK",
        "outputId": "2881b29b-cf70-4a26-afb1-4f35cbdbfe5b"
      },
      "source": [
        "print_kwargs(a=1)   # key = a, value = 1\n",
        "\n",
        "print_kwargs(name='foo', age=3)  # key1 = name, value1 = 'foo', key2 = age, value2"
      ],
      "execution_count": 60,
      "outputs": [
        {
          "output_type": "stream",
          "text": [
            "{'a': 1}\n",
            "{'name': 'foo', 'age': 3}\n"
          ],
          "name": "stdout"
        }
      ]
    },
    {
      "cell_type": "markdown",
      "metadata": {
        "id": "LtoXoTSBECY_"
      },
      "source": [
        "####  함수의 결과값은 언제나 하나"
      ]
    },
    {
      "cell_type": "code",
      "metadata": {
        "id": "nmWUlD0LDnr6"
      },
      "source": [
        "# add_and_mul() 함수 정의\n",
        "# add_and_mul() 함수: 매개변수를 더한 값과 곱한 값을 한 묷음으로 나타냅니다.\n",
        "# 1, 2 == (1, 2) -> ,로 구분된 데이터를 나열하면 튜플로 쌓여진 데이터로 처리가 됩니다. 그러므로 a+b,a*b는 (a+b, a*b)로 처리가 됩니다.\n",
        "\n",
        "def add_and_mul(a,b): \n",
        "    return a+b, a*b"
      ],
      "execution_count": 61,
      "outputs": []
    },
    {
      "cell_type": "code",
      "metadata": {
        "colab": {
          "base_uri": "https://localhost:8080/"
        },
        "id": "RTLLcOLGEGNf",
        "outputId": "555cde48-fe63-434b-cded-c86b35bbd995"
      },
      "source": [
        "# add_and_mul() 사용 1.\n",
        "result = add_and_mul(3,4)   # (3+4, 3*4) -> (7,12)로 출력이 됩니다.\n",
        "print(result)"
      ],
      "execution_count": 63,
      "outputs": [
        {
          "output_type": "stream",
          "text": [
            "(7, 12)\n"
          ],
          "name": "stdout"
        }
      ]
    },
    {
      "cell_type": "code",
      "metadata": {
        "colab": {
          "base_uri": "https://localhost:8080/"
        },
        "id": "TMad0uezEczB",
        "outputId": "a3fff0d1-42a9-4c5b-c973-541def62f78b"
      },
      "source": [
        "# add_and_mul() 사용 2.\n",
        "result1, result2 = add_and_mul(3, 4)    # result1 = 3+4, result2 = 3*4 값이 들어갑니다.\n",
        "result1, result2"
      ],
      "execution_count": 66,
      "outputs": [
        {
          "output_type": "execute_result",
          "data": {
            "text/plain": [
              "(7, 12)"
            ]
          },
          "metadata": {
            "tags": []
          },
          "execution_count": 66
        }
      ]
    },
    {
      "cell_type": "markdown",
      "metadata": {
        "id": "iWeuyi16F9jq"
      },
      "source": [
        "#### 잘못된 함수 사용"
      ]
    },
    {
      "cell_type": "code",
      "metadata": {
        "id": "JtJscr-WFiA1"
      },
      "source": [
        "# add_and_mul2() 함수 정의\n",
        "\n",
        "def add_and_mul2(a,b): \n",
        "    return a+b \n",
        "    return a*b      # return은 함수의 끝을 나타내기 때문에 첫번째 return 값을 실행시키는 것으로 끝이나므로 두번째 return 값은 출력이 안됩니다."
      ],
      "execution_count": 67,
      "outputs": []
    },
    {
      "cell_type": "code",
      "metadata": {
        "colab": {
          "base_uri": "https://localhost:8080/"
        },
        "id": "rEn5KRnvGGGu",
        "outputId": "6c7b8c73-286f-4ef5-fcaf-33e3ba22b32e"
      },
      "source": [
        "result = add_and_mul2(2, 3)\n",
        "print(result)\n",
        "# 위에서 첫번째 return 값인 a+b를 실행시키는 것으로 끝났기 때문에 2+3의 값인 5만 출력이 됩니다."
      ],
      "execution_count": 68,
      "outputs": [
        {
          "output_type": "stream",
          "text": [
            "5\n"
          ],
          "name": "stdout"
        }
      ]
    },
    {
      "cell_type": "markdown",
      "metadata": {
        "id": "1VZa-Np-G6bL"
      },
      "source": [
        "#### return의 용도: 함수 실행 종료"
      ]
    },
    {
      "cell_type": "code",
      "metadata": {
        "id": "wcwGtiedGuKi"
      },
      "source": [
        "# say_nick() 함수 정의\n",
        "\n",
        "def say_nick(nick): \n",
        "    if nick == \"바보\":   # nick 값에 \"바보\"가 들어가면 함수가 그냥 끝납니다.(return 할 값이 없기 때문에)\n",
        "        return           # return 뒤에 아무것도 없다면 반환할 값이 없다는 것입니다.\n",
        "    print(\"나의 별명은 %s 입니다.\" % nick)"
      ],
      "execution_count": 69,
      "outputs": []
    },
    {
      "cell_type": "code",
      "metadata": {
        "colab": {
          "base_uri": "https://localhost:8080/"
        },
        "id": "SERNLnDyHG6o",
        "outputId": "f138aa8d-324d-4cd2-d65a-648143d5dc3a"
      },
      "source": [
        "say_nick(\"홍길동\")  # nick 값에 \"바보\"가 아닌 \"홍길동\"이 들어있기 때문에 출력하는 값이 \"나의 별명은 홍길동 입니다.\"가 출력이 됩니다."
      ],
      "execution_count": 71,
      "outputs": [
        {
          "output_type": "stream",
          "text": [
            "나의 별명은 홍길동 입니다.\n"
          ],
          "name": "stdout"
        }
      ]
    },
    {
      "cell_type": "code",
      "metadata": {
        "id": "6MHFCabJHyA-"
      },
      "source": [
        "say_nick(\"바보\")   # nick 값에 \"바보\"가 들어있기 때문에 출력하는 값이 없이 그냥 함수가 끝납니다."
      ],
      "execution_count": 72,
      "outputs": []
    },
    {
      "cell_type": "markdown",
      "metadata": {
        "id": "48mYlBIVIMoV"
      },
      "source": [
        "#### 매개변수에 초기값 미리 설정하기"
      ]
    },
    {
      "cell_type": "code",
      "metadata": {
        "id": "e4RyxEzqHqNW"
      },
      "source": [
        "# say_myself() 함수 정의\n",
        "\n",
        "def say_myself(name, old, man=True):        # 이름은 name에 넣고, 나이는 old에 넣습니다. 그리고 man은 True로 지정을 해줍니다.\n",
        "    print(\"나의 이름은 %s 입니다.\" % name) \n",
        "    print(\"나이는 %d살입니다.\" % old) \n",
        "    if man: \n",
        "        print(\"남자입니다.\")   # True면 남자입니다.를 출력합니다.\n",
        "    else: \n",
        "        print(\"여자입니다.\")   # False이면 여자입니다.를 출력합니다."
      ],
      "execution_count": 74,
      "outputs": []
    },
    {
      "cell_type": "code",
      "metadata": {
        "colab": {
          "base_uri": "https://localhost:8080/"
        },
        "id": "esc5LVMHIUKA",
        "outputId": "13cc5c63-2dbc-4455-b153-14fc12fca8d1"
      },
      "source": [
        "say_myself(\"박응용\", 27)"
      ],
      "execution_count": 75,
      "outputs": [
        {
          "output_type": "stream",
          "text": [
            "나의 이름은 박응용 입니다.\n",
            "나이는 27살입니다.\n",
            "남자입니다.\n"
          ],
          "name": "stdout"
        }
      ]
    },
    {
      "cell_type": "code",
      "metadata": {
        "colab": {
          "base_uri": "https://localhost:8080/"
        },
        "id": "9eH6IfIQIwef",
        "outputId": "4be3f37e-fc09-4029-f993-57f4fb97df10"
      },
      "source": [
        "say_myself(\"박응용\", 27, True)"
      ],
      "execution_count": 76,
      "outputs": [
        {
          "output_type": "stream",
          "text": [
            "나의 이름은 박응용 입니다.\n",
            "나이는 27살입니다.\n",
            "남자입니다.\n"
          ],
          "name": "stdout"
        }
      ]
    },
    {
      "cell_type": "code",
      "metadata": {
        "colab": {
          "base_uri": "https://localhost:8080/"
        },
        "id": "IncqTpUwI-2j",
        "outputId": "e457f80b-162a-45df-b6e8-5ca811430ba0"
      },
      "source": [
        "say_myself(\"박응용\", 27, False)"
      ],
      "execution_count": 77,
      "outputs": [
        {
          "output_type": "stream",
          "text": [
            "나의 이름은 박응용 입니다.\n",
            "나이는 27살입니다.\n",
            "여자입니다.\n"
          ],
          "name": "stdout"
        }
      ]
    },
    {
      "cell_type": "code",
      "metadata": {
        "colab": {
          "base_uri": "https://localhost:8080/"
        },
        "id": "pa0cSv7-Kdey",
        "outputId": "f197fb8f-fa39-4015-f969-221176a28cf8"
      },
      "source": [
        "say_myself(\"정수현\", 21, False)"
      ],
      "execution_count": 79,
      "outputs": [
        {
          "output_type": "stream",
          "text": [
            "나의 이름은 정수현 입니다.\n",
            "나이는 21살입니다.\n",
            "여자입니다.\n"
          ],
          "name": "stdout"
        }
      ]
    },
    {
      "cell_type": "code",
      "metadata": {
        "colab": {
          "base_uri": "https://localhost:8080/",
          "height": 133
        },
        "id": "_ngNYRplJB99",
        "outputId": "6e6d29fa-1cad-496b-ed7b-902fec5c8f5a"
      },
      "source": [
        "def say_myself2(name, man=True, old):            # (name, man=True, old) -> (name, old, man=True)로 바꿔줘야 합니다. \n",
        "                                                 # SyntaxError: non-default argument follows default argument\n",
        "    print(\"나의 이름은 %s 입니다.\" % name) \n",
        "    print(\"나이는 %d살입니다.\" % old) \n",
        "    if man: \n",
        "        print(\"남자입니다.\") \n",
        "    else:\n",
        "        print(\"여자입니다.\")\n",
        "    \n",
        "# 초기값을 설정해 놓은 매개변수 뒤에 초기값을 설정해 놓지 않은 매개변수는 사용할 수 없습니다.\n",
        "# 초기화시키고 싶은 매개변수를 항상 뒤쪽에 놓아야 합니다.\n",
        "# 키워드형식의 매개변수는 항상 뒤에 지정을 해줘야 합니다."
      ],
      "execution_count": 78,
      "outputs": [
        {
          "output_type": "error",
          "ename": "SyntaxError",
          "evalue": "ignored",
          "traceback": [
            "\u001b[0;36m  File \u001b[0;32m\"<ipython-input-78-fd477f760e40>\"\u001b[0;36m, line \u001b[0;32m1\u001b[0m\n\u001b[0;31m    def say_myself2(name, man=True, old):\u001b[0m\n\u001b[0m                   ^\u001b[0m\n\u001b[0;31mSyntaxError\u001b[0m\u001b[0;31m:\u001b[0m non-default argument follows default argument\n"
          ]
        }
      ]
    },
    {
      "cell_type": "markdown",
      "metadata": {
        "id": "wt0q5Sb6Ki14"
      },
      "source": [
        "#### 함수 안에서 선언한 변수의 효력 범위\n",
        "- scope of a variable\n",
        "- 전역 변수\n",
        "- 지역 변수, 자동 변수"
      ]
    },
    {
      "cell_type": "code",
      "metadata": {
        "colab": {
          "base_uri": "https://localhost:8080/"
        },
        "id": "gxOg7uEAJJUi",
        "outputId": "b063c9ac-3048-444b-974c-951a4572a17d"
      },
      "source": [
        "# vartest.py\n",
        "# 전역 변수 a 와 지역변수(매개변수) a 는 이름은 같아도 완전히 다른 변수입니다.\n",
        "\n",
        "a = 1             # 전역 변수 : 함수 밖에서 정의된 변수입니다. \n",
        "def vartest(a):   # 지역 변수(매개변수) : 함수 안에서만 존재하는 변수입니다. \n",
        "    a = a +1\n",
        "\n",
        "vartest(a)        # vartest(a)에 있는 a는 전역 변수 a 입니다.(지역 변수(매개변수) a는 함수 안에서만 존재하기 때문에 함수 밖에서는 존재하지 않습니다.)\n",
        "print(a)\n",
        "\n",
        "# 지역 변수(매개변수) a의 값만 2로 변하고 전역 변수 a의 값은 그대로 1이기 때문에 함수 안에서만 존재하는 지역 변수(매개변수) a의 값이 아닌 함수 밖에서 정의된 전역 변수 a 값이 출력이 됩니다."
      ],
      "execution_count": 81,
      "outputs": [
        {
          "output_type": "stream",
          "text": [
            "1\n"
          ],
          "name": "stdout"
        }
      ]
    },
    {
      "cell_type": "code",
      "metadata": {
        "colab": {
          "base_uri": "https://localhost:8080/"
        },
        "id": "SzW3pzUPMwcL",
        "outputId": "459fe807-9089-4e85-c211-57e691fd0ab0"
      },
      "source": [
        "a = 1\n",
        "def vartest(a):\n",
        "  a = a+1\n",
        "\n",
        "vartest(1)      # vartest(1)을 하면 a에는 1이 들어가게 됩니다. 하지만 여전히 위와 같은 이유로 a 를 출력하면 지역 변수(매개변수) a가 아닌 전역 변수 a 값이 출력이 됩니다.\n",
        "print(a)"
      ],
      "execution_count": 82,
      "outputs": [
        {
          "output_type": "stream",
          "text": [
            "1\n"
          ],
          "name": "stdout"
        }
      ]
    },
    {
      "cell_type": "code",
      "metadata": {
        "colab": {
          "base_uri": "https://localhost:8080/"
        },
        "id": "NGOhx08xNiDh",
        "outputId": "75e474aa-6e2c-44a1-a23b-81f8231c1fb9"
      },
      "source": [
        "# 각각의 변수에 print() 함수를 넣어서 지역 변수(매개변수) 와 전역 변수 둘 다 출력되도록 할 수 있습니다.\n",
        "\n",
        "a = 1\n",
        "def vartest(a):\n",
        "  a = a+1\n",
        "  print(\"지역 변수 a = \", a)\n",
        "\n",
        "vartest(1)     \n",
        "print(\"전역 변수 a = \", a)"
      ],
      "execution_count": 84,
      "outputs": [
        {
          "output_type": "stream",
          "text": [
            "지역 변수 a =  2\n",
            "전역 변수 a =  1\n"
          ],
          "name": "stdout"
        }
      ]
    },
    {
      "cell_type": "code",
      "metadata": {
        "colab": {
          "base_uri": "https://localhost:8080/",
          "height": 203
        },
        "id": "mVsGsPYDLHyY",
        "outputId": "80437285-e079-437c-8ca0-1ea3bdb6d9cb"
      },
      "source": [
        "# vartest_error.py\n",
        "def vartest2(zz):\n",
        "    zz = zz + 1\n",
        "\n",
        "vartest2(3)\n",
        "print(zz)      # 함수 밖에서 정의된 전역 변수가 없기 때문에 에러가 뜹니다."
      ],
      "execution_count": 91,
      "outputs": [
        {
          "output_type": "error",
          "ename": "NameError",
          "evalue": "ignored",
          "traceback": [
            "\u001b[0;31m---------------------------------------------------------------------------\u001b[0m",
            "\u001b[0;31mNameError\u001b[0m                                 Traceback (most recent call last)",
            "\u001b[0;32m<ipython-input-91-38894f2cf079>\u001b[0m in \u001b[0;36m<module>\u001b[0;34m()\u001b[0m\n\u001b[1;32m      4\u001b[0m \u001b[0;34m\u001b[0m\u001b[0m\n\u001b[1;32m      5\u001b[0m \u001b[0mvartest2\u001b[0m\u001b[0;34m(\u001b[0m\u001b[0;36m3\u001b[0m\u001b[0;34m)\u001b[0m\u001b[0;34m\u001b[0m\u001b[0;34m\u001b[0m\u001b[0m\n\u001b[0;32m----> 6\u001b[0;31m \u001b[0mprint\u001b[0m\u001b[0;34m(\u001b[0m\u001b[0mzz\u001b[0m\u001b[0;34m)\u001b[0m\u001b[0;34m\u001b[0m\u001b[0;34m\u001b[0m\u001b[0m\n\u001b[0m",
            "\u001b[0;31mNameError\u001b[0m: name 'zz' is not defined"
          ]
        }
      ]
    },
    {
      "cell_type": "markdown",
      "metadata": {
        "id": "VHJQVK_tOqXY"
      },
      "source": [
        "#### 함수 안에서 함수 밖의 변수를 변경하는 방법\n",
        "- return 사용\n",
        "- global 변수 사용"
      ]
    },
    {
      "cell_type": "markdown",
      "metadata": {
        "id": "W1bQQOXTOy_C"
      },
      "source": [
        "##### 1. return 사용하기"
      ]
    },
    {
      "cell_type": "code",
      "metadata": {
        "colab": {
          "base_uri": "https://localhost:8080/"
        },
        "id": "2QqPsOZXOCkD",
        "outputId": "1542b886-f723-408a-e082-cc717ba05af2"
      },
      "source": [
        "# 1. return 사용하기\n",
        "a = 1 \n",
        "def vartest3(a): \n",
        "    a = a +1 \n",
        "    return a        # return은 값을 반환해 줘야 하는 특성으로 인해 a 의 값을 출력하면 전역 변수 a의 값인 1이 아닌 지역 변수(매개변수) a의 값인 2가 출력이 됩니다.\n",
        "\n",
        "a = vartest3(a) \n",
        "print(a)"
      ],
      "execution_count": 92,
      "outputs": [
        {
          "output_type": "stream",
          "text": [
            "2\n"
          ],
          "name": "stdout"
        }
      ]
    },
    {
      "cell_type": "markdown",
      "metadata": {
        "id": "GU2XLM7QPjGM"
      },
      "source": [
        "##### 2. global 명령어 사용하기"
      ]
    },
    {
      "cell_type": "code",
      "metadata": {
        "colab": {
          "base_uri": "https://localhost:8080/"
        },
        "id": "5amC_LA4PMOB",
        "outputId": "0e8f235e-edb2-435c-f5cc-bb279dd43fd1"
      },
      "source": [
        "# 2. global 명령어 사용하기(가능한 사용하지 않아야 합니다.)\n",
        "a = 1 \n",
        "def vartest4(): \n",
        "    global a        # global 명령어: 함수 밖에서 정의된 전역 변수를 함수 안으로 가져와서 쓸 수 있습니다. \n",
        "    a = a+1\n",
        "\n",
        "vartest4() \n",
        "print(a)"
      ],
      "execution_count": 94,
      "outputs": [
        {
          "output_type": "stream",
          "text": [
            "2\n"
          ],
          "name": "stdout"
        }
      ]
    },
    {
      "cell_type": "markdown",
      "metadata": {
        "id": "e3xHAmUBQXwf"
      },
      "source": [
        "### lambda 함수 \n",
        "- 이름 없는 함수를 정의\n",
        "- lambda는 함수를 사용할 때 사용하는 예약어로 def와 동일한 역할을 합니다.\n",
        "- 보통 함수를 한줄로 간결하게 만들 때 사용합니다.\n",
        "\n",
        "### lambda 함수 사용법\n",
        "- lambda 매개변수1, 매개변수2, .... : 매개변수를 이용한 표현식"
      ]
    },
    {
      "cell_type": "markdown",
      "metadata": {
        "id": "Tn882NpyQ_xm"
      },
      "source": [
        "##### lambda를 이용한 add 함수"
      ]
    },
    {
      "cell_type": "code",
      "metadata": {
        "colab": {
          "base_uri": "https://localhost:8080/"
        },
        "id": "XjviPWHqPnYP",
        "outputId": "2d0d1d7d-7d99-43b1-c48c-baa03dadffa1"
      },
      "source": [
        "add = lambda a, b: a+b   # 매개변수는 a,b 이고, return 값은 a+b입니다.\n",
        "\n",
        "result = add(3, 4)\n",
        "print(result)      # lambda를 이용해서 만든 함수는 return 명령어가 없어도 결과값이 나옵니다."
      ],
      "execution_count": 96,
      "outputs": [
        {
          "output_type": "stream",
          "text": [
            "7\n"
          ],
          "name": "stdout"
        }
      ]
    },
    {
      "cell_type": "markdown",
      "metadata": {
        "id": "QxzvxXexRbia"
      },
      "source": [
        "##### lambda 함수의 응용"
      ]
    },
    {
      "cell_type": "code",
      "metadata": {
        "colab": {
          "base_uri": "https://localhost:8080/"
        },
        "id": "-tVu2jz-RFPM",
        "outputId": "5cf51a5b-07d6-496e-9465-4177ce64ed90"
      },
      "source": [
        "models = ['K-3000', 'N-1000', 'T-2000', 'X-5000']\n",
        "sorted(models, key=lambda x: x[-4:])"
      ],
      "execution_count": 98,
      "outputs": [
        {
          "output_type": "execute_result",
          "data": {
            "text/plain": [
              "['N-1000', 'T-2000', 'K-3000', 'X-5000']"
            ]
          },
          "metadata": {
            "tags": []
          },
          "execution_count": 98
        }
      ]
    },
    {
      "cell_type": "code",
      "metadata": {
        "id": "Nn87uHUqtW64",
        "colab": {
          "base_uri": "https://localhost:8080/",
          "height": 35
        },
        "outputId": "e5188d96-dd3e-45d0-d9f5-1c694b962ebf"
      },
      "source": [
        "# vartest.py\n",
        "a = 1\n",
        "def vartest(a):\n",
        "    a = a +1\n",
        "    # print(a)\n",
        "\n",
        "vartest(a)\n",
        "print(a)"
      ],
      "execution_count": null,
      "outputs": [
        {
          "output_type": "stream",
          "text": [
            "1\n"
          ],
          "name": "stdout"
        }
      ]
    },
    {
      "cell_type": "code",
      "metadata": {
        "id": "0Y0fMfkPtW62",
        "colab": {
          "base_uri": "https://localhost:8080/"
        },
        "outputId": "d87fe61d-7fdb-437d-d568-b4adf4a854d8"
      },
      "source": [
        "# function_test.py\n",
        "\n",
        "# scope_test()\n",
        "x = 5\n",
        "\n",
        "def scope_test():\n",
        "    print(x)\n",
        "    print(x+5)\n",
        "     #x += 5\n",
        "\n",
        "scope_test()"
      ],
      "execution_count": 107,
      "outputs": [
        {
          "output_type": "stream",
          "text": [
            "5\n",
            "10\n"
          ],
          "name": "stdout"
        }
      ]
    },
    {
      "cell_type": "code",
      "metadata": {
        "colab": {
          "base_uri": "https://localhost:8080/",
          "height": 360
        },
        "id": "klCvVSpiTXwH",
        "outputId": "2da793f0-0b7c-4193-9713-7666b7bc953a"
      },
      "source": [
        "# function_test.py\n",
        "\n",
        "# scope_test()\n",
        "x = 5\n",
        "\n",
        "def scope_test():\n",
        "    print(x)\n",
        "    print(x+5)\n",
        "    x += 5       # x = x+5\n",
        "                 # 함수 안에서 정의한 변수는 지역 변수가 됩니다. 그러므로 함수 밖에서 정의된 전역 변수 x = 5는 지역 변수 x에 들어가지 않고, 지역 변수의 값이 지정이 되어 있지 않으므로 에러가 뜹니다.\n",
        "                 # UnboundLocalError: local variable 'x' referenced before assignment\n",
        "scope_test()\n",
        "print(x)"
      ],
      "execution_count": 109,
      "outputs": [
        {
          "output_type": "error",
          "ename": "UnboundLocalError",
          "evalue": "ignored",
          "traceback": [
            "\u001b[0;31m---------------------------------------------------------------------------\u001b[0m",
            "\u001b[0;31mUnboundLocalError\u001b[0m                         Traceback (most recent call last)",
            "\u001b[0;32m<ipython-input-109-96bcdfc80e08>\u001b[0m in \u001b[0;36m<module>\u001b[0;34m()\u001b[0m\n\u001b[1;32m     10\u001b[0m                  \u001b[0;31m# 함수 안에서 정의한 변수는 지역 변수가 됩니다. 그러므로 함수 밖에서 정의된 전역 변수 x = 5는 지역 변수 x에 들어가지 않고, 지역 변수의 값이 지정이 되어 있지 않으므로 에러가 뜹니다.\u001b[0m\u001b[0;34m\u001b[0m\u001b[0;34m\u001b[0m\u001b[0;34m\u001b[0m\u001b[0m\n\u001b[1;32m     11\u001b[0m \u001b[0;34m\u001b[0m\u001b[0m\n\u001b[0;32m---> 12\u001b[0;31m \u001b[0mscope_test\u001b[0m\u001b[0;34m(\u001b[0m\u001b[0;34m)\u001b[0m\u001b[0;34m\u001b[0m\u001b[0;34m\u001b[0m\u001b[0m\n\u001b[0m\u001b[1;32m     13\u001b[0m \u001b[0mprint\u001b[0m\u001b[0;34m(\u001b[0m\u001b[0mx\u001b[0m\u001b[0;34m)\u001b[0m\u001b[0;34m\u001b[0m\u001b[0;34m\u001b[0m\u001b[0m\n",
            "\u001b[0;32m<ipython-input-109-96bcdfc80e08>\u001b[0m in \u001b[0;36mscope_test\u001b[0;34m()\u001b[0m\n\u001b[1;32m      5\u001b[0m \u001b[0;34m\u001b[0m\u001b[0m\n\u001b[1;32m      6\u001b[0m \u001b[0;32mdef\u001b[0m \u001b[0mscope_test\u001b[0m\u001b[0;34m(\u001b[0m\u001b[0;34m)\u001b[0m\u001b[0;34m:\u001b[0m\u001b[0;34m\u001b[0m\u001b[0;34m\u001b[0m\u001b[0m\n\u001b[0;32m----> 7\u001b[0;31m     \u001b[0mprint\u001b[0m\u001b[0;34m(\u001b[0m\u001b[0mx\u001b[0m\u001b[0;34m)\u001b[0m\u001b[0;34m\u001b[0m\u001b[0;34m\u001b[0m\u001b[0m\n\u001b[0m\u001b[1;32m      8\u001b[0m     \u001b[0mprint\u001b[0m\u001b[0;34m(\u001b[0m\u001b[0mx\u001b[0m\u001b[0;34m+\u001b[0m\u001b[0;36m5\u001b[0m\u001b[0;34m)\u001b[0m\u001b[0;34m\u001b[0m\u001b[0;34m\u001b[0m\u001b[0m\n\u001b[1;32m      9\u001b[0m     \u001b[0mx\u001b[0m \u001b[0;34m+=\u001b[0m \u001b[0;36m5\u001b[0m       \u001b[0;31m# x = x+5\u001b[0m\u001b[0;34m\u001b[0m\u001b[0;34m\u001b[0m\u001b[0m\n",
            "\u001b[0;31mUnboundLocalError\u001b[0m: local variable 'x' referenced before assignment"
          ]
        }
      ]
    },
    {
      "cell_type": "code",
      "metadata": {
        "id": "VkVbM9LTUd-K"
      },
      "source": [
        "# 위에 코드 수정하기"
      ],
      "execution_count": null,
      "outputs": []
    },
    {
      "cell_type": "code",
      "metadata": {
        "id": "Bz-oixRVSdIQ"
      },
      "source": [
        "# scope_test()\n",
        "\n",
        "# *args : multiple parameters\n",
        "\n",
        "\n",
        "def args_test(*args):    # 함수의 매개변수는 튜플형입니다.\n",
        "    print(type(args))    \n",
        "    print(args)\n",
        "    for arg in args:     # 튜플 안에 있는 변수를 각각 \"arg\"로 지정한 뒤 순서대로 출력합니다.\n",
        "        print(arg)\n",
        "\n",
        "# args_test(1, 2, 3, 4)\n",
        "# args_test(list(range(4)))"
      ],
      "execution_count": 111,
      "outputs": []
    },
    {
      "cell_type": "code",
      "metadata": {
        "colab": {
          "base_uri": "https://localhost:8080/"
        },
        "id": "1cKcLN_aUkrY",
        "outputId": "4b0f2bf3-fb4b-44b1-e725-f9c68994d01c"
      },
      "source": [
        " args_test(1, 2, 3, 4)"
      ],
      "execution_count": 112,
      "outputs": [
        {
          "output_type": "stream",
          "text": [
            "<class 'tuple'>\n",
            "(1, 2, 3, 4)\n",
            "1\n",
            "2\n",
            "3\n",
            "4\n"
          ],
          "name": "stdout"
        }
      ]
    },
    {
      "cell_type": "code",
      "metadata": {
        "colab": {
          "base_uri": "https://localhost:8080/"
        },
        "id": "1G3SflkLVVMC",
        "outputId": "fc79a00a-bd4f-4ec3-d3fe-39acb59b739e"
      },
      "source": [
        " args_test(list(range(4)))"
      ],
      "execution_count": 114,
      "outputs": [
        {
          "output_type": "stream",
          "text": [
            "<class 'tuple'>\n",
            "([0, 1, 2, 3],)\n",
            "[0, 1, 2, 3]\n"
          ],
          "name": "stdout"
        }
      ]
    },
    {
      "cell_type": "code",
      "metadata": {
        "colab": {
          "base_uri": "https://localhost:8080/"
        },
        "id": "5FT68ThrSx4K",
        "outputId": "d9cfc667-9812-4706-eebf-3358e7fdc795"
      },
      "source": [
        "# **kawargs : keyword arguments\n",
        "\n",
        "\n",
        "def kwarg_test(**kwargs):       # **kwarg처럼 매개변수 앞에 **를 붙이면 매개변수 kwargs는 딕셔너리가 되고 모든 key = value 형태의 결과값이 그 딕셔너리에 저장이 됩니다.\n",
        "    print(type(kwargs))         # kwargs의 type은 딕셔너리가 됩니다.\n",
        "    print(kwargs)\n",
        "    for item in kwargs.items():  \n",
        "        print(item)\n",
        "\n",
        "kwarg_test(a=1, b='hi')\n",
        "# kwarg_test(x=[1,2,3], y='Hello')\n"
      ],
      "execution_count": 116,
      "outputs": [
        {
          "output_type": "stream",
          "text": [
            "<class 'dict'>\n",
            "{'a': 1, 'b': 'hi'}\n",
            "('a', 1)\n",
            "('b', 'hi')\n"
          ],
          "name": "stdout"
        }
      ]
    },
    {
      "cell_type": "markdown",
      "metadata": {
        "id": "aiBB3U0ge03F"
      },
      "source": [
        "## 도전 코딩\n",
        "- A 학급에 총 10명의 학생이 있다. 이 학생들의 중간고사 점수는 다음과 같다.\n",
        "\n",
        "- A = [70, 60, 55, 75, 95, 90, 80, 80, 85, 100]\n",
        "\n",
        "> 함수를 사용하여 A 학급의 평균 점수를 구해 보자.\n",
        ">> 함수명: average_class(A)\n"
      ]
    },
    {
      "cell_type": "code",
      "metadata": {
        "colab": {
          "base_uri": "https://localhost:8080/"
        },
        "id": "LGdFAOBOXvcD",
        "outputId": "de90d5f9-1dd5-4af8-9c3e-d155c1078c7f"
      },
      "source": [
        "# code 1\n",
        "A = [70, 60, 55, 75, 95, 90, 80, 80, 85, 100]\n",
        "\n",
        "def average_class(A):\n",
        "  result = 0\n",
        "  for i in A:\n",
        "    result = result + i\n",
        "  return result\n",
        "\n",
        "result = average_class(A)\n",
        "print(\"A학급의 평균 점수는 %.2f점 입니다.\" %(result/(len(A))))"
      ],
      "execution_count": 122,
      "outputs": [
        {
          "output_type": "stream",
          "text": [
            "A학급의 평균 점수는 79.00점 입니다.\n"
          ],
          "name": "stdout"
        }
      ]
    },
    {
      "cell_type": "code",
      "metadata": {
        "id": "fGBlcLGN-3pd",
        "colab": {
          "base_uri": "https://localhost:8080/"
        },
        "outputId": "fbee2dbf-8a72-44b4-de73-545f1b7cda8a"
      },
      "source": [
        "A = [70, 60, 55, 75, 95, 90, 80, 80, 85, 100]\n",
        "\n",
        "def average_class(A):\n",
        "  sum = A\n",
        "  average = sum(A)/len(A)\n",
        "\n",
        "print(\"A학급의 평균 점수= {0}\" .format(sum(A)/len(A)))"
      ],
      "execution_count": 128,
      "outputs": [
        {
          "output_type": "stream",
          "text": [
            "A학급의 평균 점수= 79.0\n"
          ],
          "name": "stdout"
        }
      ]
    },
    {
      "cell_type": "code",
      "metadata": {
        "id": "UwS6EePnaecu"
      },
      "source": [
        ""
      ],
      "execution_count": null,
      "outputs": []
    }
  ]
}