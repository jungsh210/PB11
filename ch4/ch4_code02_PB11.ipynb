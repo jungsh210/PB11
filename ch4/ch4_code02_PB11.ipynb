{
  "nbformat": 4,
  "nbformat_minor": 0,
  "metadata": {
    "colab": {
      "name": "ch4_code02-PB11.ipynb",
      "provenance": [],
      "collapsed_sections": [],
      "include_colab_link": true
    },
    "kernelspec": {
      "display_name": "Python 3",
      "language": "python",
      "name": "python3"
    },
    "language_info": {
      "codemirror_mode": {
        "name": "ipython",
        "version": 3
      },
      "file_extension": ".py",
      "mimetype": "text/x-python",
      "name": "python",
      "nbconvert_exporter": "python",
      "pygments_lexer": "ipython3",
      "version": "3.7.5"
    }
  },
  "cells": [
    {
      "cell_type": "markdown",
      "metadata": {
        "id": "view-in-github",
        "colab_type": "text"
      },
      "source": [
        "<a href=\"https://colab.research.google.com/github/jungsh210/PB11/blob/main/ch4/ch4_code02_PB11.ipynb\" target=\"_parent\"><img src=\"https://colab.research.google.com/assets/colab-badge.svg\" alt=\"Open In Colab\"/></a>"
      ]
    },
    {
      "cell_type": "markdown",
      "metadata": {
        "id": "H4jNE-BMAK3f"
      },
      "source": [
        "# ch4_code02.ipynb\n",
        "## PB11\n",
        "- 사용자 입력과 출력\n",
        "   - 사용자 입력\n",
        "     - input의 사용\n",
        "     - 프롬프트를 띄워서 사용자 입력 받기\n",
        "   - print 자세히 알기\n",
        "     - 큰따옴표(\")로 둘러싸인 문자열은 + 연산과 동일하다\n",
        "     - 문자열 띄어쓰기는 콤마로 한다\n",
        "     - 한 줄에 결괏값 출력하기\n",
        "---\n",
        "- 파일 읽고 쓰기\n",
        "   - 파일 생성하기\n",
        "   - 파일을 쓰기 모드로 열어 출력값 적기\n",
        "   - 프로그램의 외부에 저장된 파일을 읽는 여러 가지 방법\n",
        "     - readline() 함수 이용하기\n",
        "     - readlines 함수 사용하기\n",
        "     - read 함수 사용하기\n",
        "   - 파일에 새로운 내용 추가하기\n",
        "   - with문과 함께 사용하기"
      ]
    },
    {
      "cell_type": "markdown",
      "metadata": {
        "id": "XWQjBBpoPiBe"
      },
      "source": [
        "# ch4_02_user_io.py"
      ]
    },
    {
      "cell_type": "markdown",
      "metadata": {
        "id": "uRmeDLFPxvEG"
      },
      "source": [
        "### user io"
      ]
    },
    {
      "cell_type": "markdown",
      "metadata": {
        "id": "OKOFAzycPbz2"
      },
      "source": [
        "#### 사용자 입력과 출력"
      ]
    },
    {
      "cell_type": "code",
      "metadata": {
        "id": "hXPcvn1CtW6z",
        "colab": {
          "base_uri": "https://localhost:8080/"
        },
        "outputId": "7788da34-7589-4f87-f730-23a32382beb8"
      },
      "source": [
        "print(\"사용자 입력과 출력\")\n",
        "print(\"-->\", \"사용자의 입력을 받는 방법과 출력하는 방법\")"
      ],
      "execution_count": null,
      "outputs": [
        {
          "output_type": "stream",
          "text": [
            "사용자 입력과 출력\n",
            "--> 사용자의 입력을 받는 방법과 출력하는 방법\n"
          ],
          "name": "stdout"
        }
      ]
    },
    {
      "cell_type": "code",
      "metadata": {
        "colab": {
          "base_uri": "https://localhost:8080/"
        },
        "id": "8zr7lPiPPewa",
        "outputId": "a14ea4c0-798b-4895-ecec-0e9dc3e2f94c"
      },
      "source": [
        "print(\"사용자 입력\")\n",
        "print(\"-->\", \"사용자가 입력한 값을 어떤 변수에 대입\")"
      ],
      "execution_count": null,
      "outputs": [
        {
          "output_type": "stream",
          "text": [
            "사용자 입력\n",
            "--> 사용자가 입력한 값을 어떤 변수에 대입\n"
          ],
          "name": "stdout"
        }
      ]
    },
    {
      "cell_type": "markdown",
      "metadata": {
        "id": "tEQjaINb2YZs"
      },
      "source": [
        "### input의 사용"
      ]
    },
    {
      "cell_type": "code",
      "metadata": {
        "id": "IolPC-sdP0V5",
        "colab": {
          "base_uri": "https://localhost:8080/",
          "height": 70
        },
        "outputId": "61d1a0f6-2dc2-4dc2-fdea-188b2c917ee3"
      },
      "source": [
        "print(\"input의 사용\")\n",
        "\n",
        "a = input()       # Life is too short, you need python을 input 창에 넣어줍니다.\n",
        "a                 # input 창에 넣은 Life is too short, you need python가 a에 들어있기 때문에 a를 출력하면 'Life is too short, you need python'이 출력이 됩니다."
      ],
      "execution_count": null,
      "outputs": [
        {
          "output_type": "stream",
          "text": [
            "input의 사용\n",
            "Life is too short, you need python\n"
          ],
          "name": "stdout"
        },
        {
          "output_type": "execute_result",
          "data": {
            "application/vnd.google.colaboratory.intrinsic+json": {
              "type": "string"
            },
            "text/plain": [
              "'Life is too short, you need python'"
            ]
          },
          "metadata": {
            "tags": []
          },
          "execution_count": 1
        }
      ]
    },
    {
      "cell_type": "markdown",
      "metadata": {
        "id": "7NVsS5ek2dFG"
      },
      "source": [
        "### 입력 안내 문구를 이용한 input의 사용\n",
        "##### 주의! 안내 문구에서 요구한 데이터 형태와 사용자가 입력한 데이터의 형태가 달라도 출력이 될 수 있습니다."
      ]
    },
    {
      "cell_type": "code",
      "metadata": {
        "colab": {
          "base_uri": "https://localhost:8080/"
        },
        "id": "SN_LSsLtpRsW",
        "outputId": "1339356c-bdd8-441b-d6a7-375e7ae81ba7"
      },
      "source": [
        "print(\"입력 안내 문구를 이용한 input의 사용\")\n",
        "print(\"-->\", 'input(\"안내 문구\")')\n",
        "\n",
        "number = input(\"숫자를 입력하세요: \")     # 사용자에게 입력받은 숫자를 input창에 넣어줍니다.\n",
        "\n",
        "print(number)                             # input() 함수를 통해 number에 숫자를 넣었기 때문에 number를 출력하면 숫자가 출력이 됩니다.\n",
        "                                          # number에 숫자가 아닌 문자를 넣어도 출력이 되기 때문에 아래의 코드를 통해 수정을 합니다."
      ],
      "execution_count": null,
      "outputs": [
        {
          "output_type": "stream",
          "text": [
            "입력 안내 문구를 이용한 input의 사용\n",
            "--> input(\"안내 문구\")\n",
            "숫자를 입력하세요: 10\n",
            "10\n"
          ],
          "name": "stdout"
        }
      ]
    },
    {
      "cell_type": "markdown",
      "metadata": {
        "id": "XjwTePSb2h42"
      },
      "source": [
        "##### 위의 코드에서 안내 문구에서 요구한 데이터 형태와 사용자가 입력한 데이터의 형태가 다르면 출력이 안되게 하는 코드입니다."
      ]
    },
    {
      "cell_type": "code",
      "metadata": {
        "colab": {
          "base_uri": "https://localhost:8080/"
        },
        "id": "6bDaDNOB1HXQ",
        "outputId": "446d6e05-69f5-4d9b-f1ec-667fd1802240"
      },
      "source": [
        "number = input(\"숫자만 입력하세요: \")\n",
        "if number.isnumeric():             # isnumeric: 입력받은 데이터가 숫자 형태인 것을 확인해줍니다. \n",
        "  print(number)                    # 숫자 형태인 경우 사용자에게 입력받은 숫자 데이터가 들어있는 number를 출력합니다.\n",
        "else:\n",
        "  print(\"경고: 숫자만 입력하세요!\")    # 사용자에게 입력받은 데이터의 형태가 숫자가 아닐 경우 \"경고: 숫자만 입력하세요!\"를 출력합니다."
      ],
      "execution_count": null,
      "outputs": [
        {
          "output_type": "stream",
          "text": [
            "숫자만 입력하세요: 123\n",
            "123\n"
          ],
          "name": "stdout"
        }
      ]
    },
    {
      "cell_type": "code",
      "metadata": {
        "colab": {
          "base_uri": "https://localhost:8080/"
        },
        "id": "pwX6Gu0EzzHS",
        "outputId": "ea048b48-dab9-43a6-db92-ca939029d5cb"
      },
      "source": [
        "number = input(\"숫자만 입력하세요: \")\n",
        "if number.isnumeric(): \n",
        "  print(number)\n",
        "else:\n",
        "  print(\"경고: 숫자만 입력하세요!\")"
      ],
      "execution_count": null,
      "outputs": [
        {
          "output_type": "stream",
          "text": [
            "숫자만 입력하세요: zzz\n",
            "경고: 숫자만 입력하세요!\n"
          ],
          "name": "stdout"
        }
      ]
    },
    {
      "cell_type": "markdown",
      "metadata": {
        "id": "E3PgbuFN3BCc"
      },
      "source": [
        "### 사용자 출력: print()\n"
      ]
    },
    {
      "cell_type": "code",
      "metadata": {
        "colab": {
          "base_uri": "https://localhost:8080/"
        },
        "id": "CFaikZAWp5eS",
        "outputId": "bf26e019-85e0-44d9-a892-e9b00a3d7246"
      },
      "source": [
        "print(\"사용자 출력: print()\")\n",
        "print(\"-->\", \"입력한 자료형을 출력\")"
      ],
      "execution_count": null,
      "outputs": [
        {
          "output_type": "stream",
          "text": [
            "사용자 출력: print()\n",
            "--> 입력한 자료형을 출력\n"
          ],
          "name": "stdout"
        }
      ]
    },
    {
      "cell_type": "markdown",
      "metadata": {
        "id": "bNDqgLaw3Mk1"
      },
      "source": [
        "### print의 사용"
      ]
    },
    {
      "cell_type": "code",
      "metadata": {
        "colab": {
          "base_uri": "https://localhost:8080/"
        },
        "id": "C4WxIzNs2EJO",
        "outputId": "70acfcb3-df45-46fe-b7e1-5942370995cc"
      },
      "source": [
        "a = 123      # a에는 123 숫자가 들어있습니다.\n",
        "print(a)     # a를 출력하면 123이 출력이 됩니다."
      ],
      "execution_count": null,
      "outputs": [
        {
          "output_type": "stream",
          "text": [
            "print의 사용\n",
            "123\n",
            "Python\n",
            "[1, 2, 3]\n"
          ],
          "name": "stdout"
        }
      ]
    },
    {
      "cell_type": "code",
      "metadata": {
        "colab": {
          "base_uri": "https://localhost:8080/"
        },
        "id": "mEVJAaW8TvKA",
        "outputId": "b51f53c3-b68d-4c2d-f5ff-c641bcf02e30"
      },
      "source": [
        "a = \"Python\"    # a에는 \"Python\" 문자열이 들어있습니다.\n",
        "print(a)        # a를 출력하면 Python이 출력이 됩니다."
      ],
      "execution_count": 2,
      "outputs": [
        {
          "output_type": "stream",
          "text": [
            "Python\n"
          ],
          "name": "stdout"
        }
      ]
    },
    {
      "cell_type": "code",
      "metadata": {
        "colab": {
          "base_uri": "https://localhost:8080/"
        },
        "id": "2yHzj4JGTxBN",
        "outputId": "d1e6e793-d045-4170-f72e-353fda9fb2f5"
      },
      "source": [
        "a = [1, 2, 3]    # a에는 1,2,3이 리스트 형태로 들어있습니다.\n",
        "print(a)         # a를 출력하면 1,2,3이 리스트 형태로 출력이 됩니다."
      ],
      "execution_count": 3,
      "outputs": [
        {
          "output_type": "stream",
          "text": [
            "[1, 2, 3]\n"
          ],
          "name": "stdout"
        }
      ]
    },
    {
      "cell_type": "markdown",
      "metadata": {
        "id": "QT1dCjbXUNji"
      },
      "source": [
        "#### 큰 따옴표(\")로 둘러싸인 문자열은 + 연산과 동일"
      ]
    },
    {
      "cell_type": "code",
      "metadata": {
        "id": "dvTh5U2q184Y",
        "colab": {
          "base_uri": "https://localhost:8080/"
        },
        "outputId": "8eb3d337-f3f0-433d-9ca2-8362a84032dc"
      },
      "source": [
        "print(\"큰따옴표(\\\")로 둘러싸인 문자열은 + 연산과 동일\")         # \\\" --> 특수 코드 \"(큰 따옴표)로 처리가 돼서 문자열 안에서 출력이 가능해집니다.\n",
        "\n",
        "# 문자열들이 공백으로 구분해서 출력하는 값과 + 연산자를 문자열 사이에 넣어서 출력하는 값이 동일합니다.\n",
        "# 출력하면 문자열들 사이에는 공백이 없습니다. too short는 공백이 있기 때문에 too short는 띄어져서 출력이 됩니다.\n",
        "\n",
        "print(\"life\" \"is\" \"too short\")     # 문자열사이에 공백으로 구분\n",
        "print(\"life\"+\"is\"+\"too short\")     # 문자열 사이에 + 연산자"
      ],
      "execution_count": 4,
      "outputs": [
        {
          "output_type": "stream",
          "text": [
            "큰따옴표(\")로 둘러싸인 문자열은 + 연산과 동일\n",
            "lifeistoo short\n",
            "lifeistoo short\n"
          ],
          "name": "stdout"
        }
      ]
    },
    {
      "cell_type": "markdown",
      "metadata": {
        "id": "mYqxUQKdWVaY"
      },
      "source": [
        "#### 문자열 띄어쓰기는 콤마(,)로 한다."
      ]
    },
    {
      "cell_type": "code",
      "metadata": {
        "colab": {
          "base_uri": "https://localhost:8080/"
        },
        "id": "aJWsVR8TUcpg",
        "outputId": "c2a7b52f-1881-4de1-f645-bfeb17457131"
      },
      "source": [
        "print(\"문자열 띄어쓰기는 콤마로 한다\")\n",
        "\n",
        "print(\"life\", \"is\", \"too short\")   # ,(콤마)는 ,(콤마) 앞 뒤에 있는 문자열들을 공백 하나로 띄어쓰기를 해줍니다."
      ],
      "execution_count": 5,
      "outputs": [
        {
          "output_type": "stream",
          "text": [
            "문자열 띄어쓰기는 콤마로 한다\n",
            "life is too short\n"
          ],
          "name": "stdout"
        }
      ]
    },
    {
      "cell_type": "code",
      "metadata": {
        "colab": {
          "base_uri": "https://localhost:8080/"
        },
        "id": "trqnY74OWUSj",
        "outputId": "52b66069-283f-4432-abd6-66fc355ded6f"
      },
      "source": [
        "print(\"한 줄에 결괏값 출력하기\")\n",
        "\n",
        "for i in range(10):\n",
        "    print(i, end=' ')      # print()는 출력을 하면 줄을 바꿔줍니다. 하지만 줄을 바꿔주지 않을려면 end라는 조건을 설정해주면 됩니다.\n",
        "                           # end=' ' 에서 공백 문자가 하나 있기 때문에 공백을 하나씩 추가해서 end에 들어있는 문자들을 출력해줍니다."
      ],
      "execution_count": 6,
      "outputs": [
        {
          "output_type": "stream",
          "text": [
            "한 줄에 결괏값 출력하기\n",
            "0 1 2 3 4 5 6 7 8 9 "
          ],
          "name": "stdout"
        }
      ]
    },
    {
      "cell_type": "code",
      "metadata": {
        "colab": {
          "base_uri": "https://localhost:8080/"
        },
        "id": "bouWt1KnX4ge",
        "outputId": "d8e3616f-ee96-475e-c963-274765ab273f"
      },
      "source": [
        "print(\"한 줄에 결괏값 출력하기\")\n",
        "\n",
        "for i in range(10):\n",
        "    print(i, end='.')      # end='.'에서 .문자가 있기 때문에 end에 들어있는 문자들 사이에 .을 추가해서 문자들을 출력해줍니다."
      ],
      "execution_count": 9,
      "outputs": [
        {
          "output_type": "stream",
          "text": [
            "한 줄에 결괏값 출력하기\n",
            "0.1.2.3.4.5.6.7.8.9."
          ],
          "name": "stdout"
        }
      ]
    },
    {
      "cell_type": "markdown",
      "metadata": {
        "id": "gswx_Nw-YiDk"
      },
      "source": [
        "# ch4_03_file_io.py"
      ]
    },
    {
      "cell_type": "markdown",
      "metadata": {
        "id": "UWweVZiOxmUE"
      },
      "source": [
        "### File io : 파일 입출력\n",
        "##### i : input\n",
        "##### o : output"
      ]
    },
    {
      "cell_type": "markdown",
      "metadata": {
        "id": "QycS2dn-YrNn"
      },
      "source": [
        "#### 파일 읽고 쓰기\n",
        "##### ---> 파일을 통한 입출력 방법에 대해 알아보자."
      ]
    },
    {
      "cell_type": "markdown",
      "metadata": {
        "id": "lucsPuWhZPOG"
      },
      "source": [
        "### 파일 객체 = open(파일 이름, 파일 열기 모드)\n",
        "\n",
        "- 파일열기모드\n",
        "    - r\t읽기모드 - 파일을 읽기만 할 때 사용\n",
        "    - w\t쓰기모드 - 파일에 내용을 쓸 때 사용\n",
        "    - a\t추가모드 - 파일의 마지막에 새로운 내용을 추가 시킬 때 사용"
      ]
    },
    {
      "cell_type": "code",
      "metadata": {
        "id": "ARRsRHvLYnfw"
      },
      "source": [
        "f = open(\"새파일.txt\", \"w\")          # 파일 이름: 새파일.txt, 파일 열기 모드: w(쓰기 모드: 파일에 내용을 쓸 때 싸용)\n",
        "                                     # 새로 만들어진 파일에는 아무 내용이 들어있지 않습니다.\n",
        "f.close()          # 파일을 만든 후에는 반드시 close() 함수를 사용해서 파일을 닫아줘야 합니다. \n",
        "\n",
        "# 파일이 어디에 만들어졌는지 확인하시오!!!"
      ],
      "execution_count": 13,
      "outputs": []
    },
    {
      "cell_type": "markdown",
      "metadata": {
        "id": "W-g7gLURbbl2"
      },
      "source": [
        "##### 다른 폴더에 파일 생성\n",
        "###### 주의! 먼저 폴더가 생성이 되어있는지 확인합니다.\n",
        "###### 구글 코랩에서는 구글 코랩을 닫는 순간 만들어진 파일들은 없어지기 때문에 중요한 문서일 경우 다운로드를 해야합니다.\n",
        "```\n",
        "f = open(\"C:/doit/새파일.txt\", 'w')\n",
        "f.close()\n",
        "```"
      ]
    },
    {
      "cell_type": "code",
      "metadata": {
        "colab": {
          "base_uri": "https://localhost:8080/",
          "height": 185
        },
        "id": "66XoPOK2bWde",
        "outputId": "1c7cf5a0-0755-4ada-d8a9-eab6513b9270"
      },
      "source": [
        "f = open(\"C:/doit/새파일.txt\", 'w')     # pc에 c드라이브에 doit폴더에 새파일.txt가 만들어집니다.\n",
        "f.close()\n",
        "\n",
        "# 구글 클라우드에는 c드라이브도 없고, 그 안에 doit 폴더도 없기 때문에 에러가 뜹니다.\n",
        "# FileNotFoundError: [Errno 2] No such file or directory: 'C:/doit/새파일.txt'"
      ],
      "execution_count": 14,
      "outputs": [
        {
          "output_type": "error",
          "ename": "FileNotFoundError",
          "evalue": "ignored",
          "traceback": [
            "\u001b[0;31m---------------------------------------------------------------------------\u001b[0m",
            "\u001b[0;31mFileNotFoundError\u001b[0m                         Traceback (most recent call last)",
            "\u001b[0;32m<ipython-input-14-a97d2ef6a6c6>\u001b[0m in \u001b[0;36m<module>\u001b[0;34m()\u001b[0m\n\u001b[0;32m----> 1\u001b[0;31m \u001b[0mf\u001b[0m \u001b[0;34m=\u001b[0m \u001b[0mopen\u001b[0m\u001b[0;34m(\u001b[0m\u001b[0;34m\"C:/doit/새파일.txt\"\u001b[0m\u001b[0;34m,\u001b[0m \u001b[0;34m'w'\u001b[0m\u001b[0;34m)\u001b[0m     \u001b[0;31m# pc에 c드라이브에 doit폴더에 새파일.txt가 만들어집니다.\u001b[0m\u001b[0;34m\u001b[0m\u001b[0;34m\u001b[0m\u001b[0m\n\u001b[0m\u001b[1;32m      2\u001b[0m \u001b[0mf\u001b[0m\u001b[0;34m.\u001b[0m\u001b[0mclose\u001b[0m\u001b[0;34m(\u001b[0m\u001b[0;34m)\u001b[0m\u001b[0;34m\u001b[0m\u001b[0;34m\u001b[0m\u001b[0m\n",
            "\u001b[0;31mFileNotFoundError\u001b[0m: [Errno 2] No such file or directory: 'C:/doit/새파일.txt'"
          ]
        }
      ]
    },
    {
      "cell_type": "code",
      "metadata": {
        "id": "TVzan0ZicOIc"
      },
      "source": [
        "# 먼저 구글 코랩에 doit 파일을 만듭니다. \n",
        "\n",
        "f = open(\"doit/새파일.txt\", 'w')     # doit폴더에 새파일.txt가 만들어집니다.\n",
        "f.close()\n",
        "\n",
        "f = open(\"doit/새파일2.txt\", 'w')     # doit폴더에 새파일2.txt가 만들어집니다.\n",
        "f.close()"
      ],
      "execution_count": 19,
      "outputs": []
    },
    {
      "cell_type": "markdown",
      "metadata": {
        "id": "jn0M9LNXdZD4"
      },
      "source": [
        "### 파일을 쓰기 모드로 열어 출력값 적기\n",
        "#### ---> 프로그램의 출력값을 파일에 직접 써 보자."
      ]
    },
    {
      "cell_type": "code",
      "metadata": {
        "colab": {
          "base_uri": "https://localhost:8080/"
        },
        "id": "BDC1AwcbZE4V",
        "outputId": "b4737d0b-987e-4b20-81ec-491a64719dea"
      },
      "source": [
        "print(\"파일을 쓰기 모드로 열어 출력값 적기\")\n",
        "print(\"-->\", \"프로그램의 출력값을 파일에 직접 써 보자.\")"
      ],
      "execution_count": 20,
      "outputs": [
        {
          "output_type": "stream",
          "text": [
            "파일을 쓰기 모드로 열어 출력값 적기\n",
            "--> 프로그램의 출력값을 파일에 직접 써 보자.\n"
          ],
          "name": "stdout"
        }
      ]
    },
    {
      "cell_type": "markdown",
      "metadata": {
        "id": "jZvZqBHsdoFz"
      },
      "source": [
        "- 모니터에 출력"
      ]
    },
    {
      "cell_type": "code",
      "metadata": {
        "colab": {
          "base_uri": "https://localhost:8080/"
        },
        "id": "zYtoId7GdUkK",
        "outputId": "7e28439a-9557-4ab2-f378-cab7f837e4f3"
      },
      "source": [
        "# 모니터에 출력\n",
        "for i in range(1, 11):\n",
        "    data = \"%d번째 줄입니다.\\n\" % i           # \\n : 줄을 바꿔주는 출력 코드입니다.\n",
        "    print(data)"
      ],
      "execution_count": 21,
      "outputs": [
        {
          "output_type": "stream",
          "text": [
            "1번째 줄입니다.\n",
            "\n",
            "2번째 줄입니다.\n",
            "\n",
            "3번째 줄입니다.\n",
            "\n",
            "4번째 줄입니다.\n",
            "\n",
            "5번째 줄입니다.\n",
            "\n",
            "6번째 줄입니다.\n",
            "\n",
            "7번째 줄입니다.\n",
            "\n",
            "8번째 줄입니다.\n",
            "\n",
            "9번째 줄입니다.\n",
            "\n",
            "10번째 줄입니다.\n",
            "\n"
          ],
          "name": "stdout"
        }
      ]
    },
    {
      "cell_type": "markdown",
      "metadata": {
        "id": "lFrE-WJ8eWEA"
      },
      "source": [
        "- 파일에 기록(출력)"
      ]
    },
    {
      "cell_type": "code",
      "metadata": {
        "id": "m_JMKUNpdrSd"
      },
      "source": [
        "# 파일에 기록(출력)\n",
        "# writedata.py  --> 무시\n",
        "\n",
        "f = open(\"./새파일.txt\", \"w\")   # ./에서 .은 현재 폴더를 의미합니다.  \n",
        "for i in range(1, 11):\n",
        "    data = \"%d번째 줄입니다.\\n\" % i\n",
        "    f.write(data)    # data 출력값을 f.write(data)로 새파일.txt에 기록(출력)합니다.\n",
        "\n",
        "f.close()\n",
        "\n",
        "# vs code로 할 경우 출력 파일의 한글이 깨지면\n",
        "# 파일 > 기본설정 > 설정 > Files: Auto Guess Encoding 을 지정(check)"
      ],
      "execution_count": 23,
      "outputs": []
    },
    {
      "cell_type": "markdown",
      "metadata": {
        "id": "bYS_-65dfPPq"
      },
      "source": [
        "### 파일읽기\n",
        "1. readline() 함수 사용하기\n",
        "    - 파일에 여러 줄이 있을 때 한 줄씩 읽는 함수\n",
        "2. readlines 함수 사용하기\n",
        "    - 파일에 있는 모든 줄을 읽는 함수\n",
        "3. read 함수 사용하기\n",
        "    - 파일 전체를 통째로 읽는 함수"
      ]
    },
    {
      "cell_type": "markdown",
      "metadata": {
        "id": "UIrQKCBFfnY8"
      },
      "source": [
        "##### 1. readline() 함수 사용하기"
      ]
    },
    {
      "cell_type": "code",
      "metadata": {
        "colab": {
          "base_uri": "https://localhost:8080/"
        },
        "id": "ybHVRAY2fOZR",
        "outputId": "96dbdb47-1d3f-462f-b043-7bedc5a85870"
      },
      "source": [
        "# 1. readline() 함수\n",
        "# readline_test.py\n",
        "\n",
        "f = open(\"새파일.txt\", \"r\")     # 파일 이름: 새파일.txt, 파일 모드: r(읽기 모드:파일을 읽기만 할 때 사용)\n",
        "line = f.readline()             # readline() 함수를 한번 호출하면 파일에 맨 첫번째 줄을 읽습니다.\n",
        "print(line)\n",
        "f.close()"
      ],
      "execution_count": 25,
      "outputs": [
        {
          "output_type": "stream",
          "text": [
            "1번째 줄입니다.\n",
            "\n"
          ],
          "name": "stdout"
        }
      ]
    },
    {
      "cell_type": "markdown",
      "metadata": {
        "id": "dKr8xg6ZhWHj"
      },
      "source": [
        "###### readline_all.py"
      ]
    },
    {
      "cell_type": "code",
      "metadata": {
        "colab": {
          "base_uri": "https://localhost:8080/"
        },
        "id": "wsazeOhZgl_r",
        "outputId": "b73feb73-7ee5-4713-eea7-4c9376324745"
      },
      "source": [
        "# readline_all.py\n",
        "f = open(\"새파일.txt\", \"r\")\n",
        "while True:\n",
        "    line = f.readline()     # readline() 함수를 한번 호출하면 파일에 맨 첫번째 줄을 읽습니다.\n",
        "    if not line:            # while문이기 때문에 10번째 line까지 돌다가 더 출력할 line이 없기 때문에 False가 되면 if문이 Ture가 되기 때문에 if문이 작동합니다.\n",
        "        break               # if문 True가 됬기 때문에 break로 무한루프를 빠져나오게 됩니다.\n",
        "    print(line)\n",
        "f.close()"
      ],
      "execution_count": 26,
      "outputs": [
        {
          "output_type": "stream",
          "text": [
            "1번째 줄입니다.\n",
            "\n",
            "2번째 줄입니다.\n",
            "\n",
            "3번째 줄입니다.\n",
            "\n",
            "4번째 줄입니다.\n",
            "\n",
            "5번째 줄입니다.\n",
            "\n",
            "6번째 줄입니다.\n",
            "\n",
            "7번째 줄입니다.\n",
            "\n",
            "8번째 줄입니다.\n",
            "\n",
            "9번째 줄입니다.\n",
            "\n",
            "10번째 줄입니다.\n",
            "\n"
          ],
          "name": "stdout"
        }
      ]
    },
    {
      "cell_type": "markdown",
      "metadata": {
        "id": "oJQkerFeixPX"
      },
      "source": [
        "###### 사용자 입력을 이용한 화면 출력"
      ]
    },
    {
      "cell_type": "code",
      "metadata": {
        "colab": {
          "base_uri": "https://localhost:8080/"
        },
        "id": "y5xy_vfYhUwW",
        "outputId": "122ff42c-c00b-4e5e-ccc0-4e7d16cdb8e2"
      },
      "source": [
        "# 사용자 입력을 이용한 화면 출력\n",
        "while 1:       # 0 이상의 정수는 모두 True입니다.  # while 1에서 1이 True이기 때문에 무한루프입니다.\n",
        "    data = input()      # 사용자가 입력한 값이 있으면 data는 Ture가 됩니다.\n",
        "    if not data:        # 입력받은 내용이 없으면 if문이 작동하고 break로 while문을 빠져나오게 됩니다.\n",
        "        break\n",
        "    print(data)         # 0도 데이터니까 출력이 가능합니다."
      ],
      "execution_count": 27,
      "outputs": [
        {
          "output_type": "stream",
          "text": [
            "abcd\n",
            "abcd\n",
            "1\n",
            "1\n",
            "33\n",
            "33\n",
            "0\n",
            "0\n",
            "\n"
          ],
          "name": "stdout"
        }
      ]
    },
    {
      "cell_type": "markdown",
      "metadata": {
        "id": "O_J5p_lIj4Dj"
      },
      "source": [
        "2. readlines() 함수"
      ]
    },
    {
      "cell_type": "code",
      "metadata": {
        "colab": {
          "base_uri": "https://localhost:8080/"
        },
        "id": "tAZxyWgzkVQA",
        "outputId": "56c4e4e8-cef0-4647-bfe4-25577fb5dc86"
      },
      "source": [
        "# 2. readlines() 함수\n",
        "f = open(\"새파일.txt\", \"r\")\n",
        "lines = f.readlines()      # readlines() : 파일 안에 있는 모든 줄을 읽습니다.\n",
        "for line in lines:\n",
        "    print(line) # , (end=\"\")\n",
        "f.close()"
      ],
      "execution_count": 32,
      "outputs": [
        {
          "output_type": "stream",
          "text": [
            "1번째 줄입니다.\n",
            "\n",
            "2번째 줄입니다.\n",
            "\n",
            "3번째 줄입니다.\n",
            "\n",
            "4번째 줄입니다.\n",
            "\n",
            "5번째 줄입니다.\n",
            "\n",
            "6번째 줄입니다.\n",
            "\n",
            "7번째 줄입니다.\n",
            "\n",
            "8번째 줄입니다.\n",
            "\n",
            "9번째 줄입니다.\n",
            "\n",
            "10번째 줄입니다.\n",
            "\n"
          ],
          "name": "stdout"
        }
      ]
    },
    {
      "cell_type": "code",
      "metadata": {
        "colab": {
          "base_uri": "https://localhost:8080/"
        },
        "id": "2y1_RAALiwPV",
        "outputId": "251954ad-c899-4fdc-a4ec-63c1b095cbbb"
      },
      "source": [
        "# 2. readlines() 함수\n",
        "f = open(\"새파일.txt\", \"r\")\n",
        "lines = f.readlines()      # readlines() : 파일 안에 있는 모든 줄을 읽습니다.\n",
        "for line in lines:\n",
        "    print(line, end=\"\")    #  end=\"\"이 추가됨으로써 공백라인이 없어졌습니다. \n",
        "f.close()"
      ],
      "execution_count": 30,
      "outputs": [
        {
          "output_type": "stream",
          "text": [
            "1번째 줄입니다.\n",
            "2번째 줄입니다.\n",
            "3번째 줄입니다.\n",
            "4번째 줄입니다.\n",
            "5번째 줄입니다.\n",
            "6번째 줄입니다.\n",
            "7번째 줄입니다.\n",
            "8번째 줄입니다.\n",
            "9번째 줄입니다.\n",
            "10번째 줄입니다.\n"
          ],
          "name": "stdout"
        }
      ]
    },
    {
      "cell_type": "markdown",
      "metadata": {
        "id": "5P_Fj9jFk4U8"
      },
      "source": [
        "3. read() 함수"
      ]
    },
    {
      "cell_type": "code",
      "metadata": {
        "colab": {
          "base_uri": "https://localhost:8080/"
        },
        "id": "DFaQ6BHYj7Ts",
        "outputId": "019e3014-5b61-4de8-c0ee-1e3e5b85824b"
      },
      "source": [
        "# 3. read() 함수\n",
        "f = open(\"새파일.txt\", \"r\")\n",
        "data = f.read()     # read() : 파일 전체를 읽습니다.   # read() 함수를 사용하면 \\n이 무시됩니다.\n",
        "print(data)\n",
        "f.close()"
      ],
      "execution_count": 33,
      "outputs": [
        {
          "output_type": "stream",
          "text": [
            "1번째 줄입니다.\n",
            "2번째 줄입니다.\n",
            "3번째 줄입니다.\n",
            "4번째 줄입니다.\n",
            "5번째 줄입니다.\n",
            "6번째 줄입니다.\n",
            "7번째 줄입니다.\n",
            "8번째 줄입니다.\n",
            "9번째 줄입니다.\n",
            "10번째 줄입니다.\n",
            "\n"
          ],
          "name": "stdout"
        }
      ]
    },
    {
      "cell_type": "markdown",
      "metadata": {
        "id": "-VjsI4M6lYfB"
      },
      "source": [
        "#### 파일에 새로운 내용 추가하기"
      ]
    },
    {
      "cell_type": "code",
      "metadata": {
        "colab": {
          "base_uri": "https://localhost:8080/"
        },
        "id": "jbmbE3Jvk3qO",
        "outputId": "b8566ea9-77a6-4d63-b391-5dca082af5ff"
      },
      "source": [
        "print(\"파일에 새로운 내용 추가하기\")\n",
        "print(\"-->\", \"파일에 원래 있던 값을 유지하면서 단지 새로운 값만 추가\")\n",
        "print(\"--->\", \"파일을 추가 모드('a')로 열고 쓴다.\")\n",
        "\n",
        "# adddata.py\n",
        "f = open(\"새파일.txt\", \"a\")    # 파일 이름: 새파일.txt, 파일 모드: a(파일 추가 모드: 파일에 새로운 내용을 추가합니다.)\n",
        "for i in range(11, 20):        # 11~19까지 9번 코드를 돌립니다.\n",
        "    data = \"%d번째 줄입니다.\\n\" % i\n",
        "    f.write(data)\n",
        "f.close()"
      ],
      "execution_count": 36,
      "outputs": [
        {
          "output_type": "stream",
          "text": [
            "파일에 새로운 내용 추가하기\n",
            "--> 파일에 원래 있던 값을 유지하면서 단지 새로운 값만 추가\n",
            "---> 파일을 추가 모드('a')로 열고 쓴다.\n"
          ],
          "name": "stdout"
        }
      ]
    },
    {
      "cell_type": "code",
      "metadata": {
        "colab": {
          "base_uri": "https://localhost:8080/"
        },
        "id": "r_mqbu46lpvY",
        "outputId": "fa372c5f-1566-4798-9913-1810a1639330"
      },
      "source": [
        "# 수정된 파일 확인\n",
        "f = open(\"새파일.txt\", \"r\")      # 파일 이름: 새파일.txt, 파일 모드: r(읽기 모드: 파일을 읽습니다.)\n",
        "data = f.read()                  # read() 함수로 새파일.txt 파일 전체를 읽습니다.\n",
        "print(data)\n",
        "f.close()"
      ],
      "execution_count": 37,
      "outputs": [
        {
          "output_type": "stream",
          "text": [
            "1번째 줄입니다.\n",
            "2번째 줄입니다.\n",
            "3번째 줄입니다.\n",
            "4번째 줄입니다.\n",
            "5번째 줄입니다.\n",
            "6번째 줄입니다.\n",
            "7번째 줄입니다.\n",
            "8번째 줄입니다.\n",
            "9번째 줄입니다.\n",
            "10번째 줄입니다.\n",
            "11번째 줄입니다.\n",
            "12번째 줄입니다.\n",
            "13번째 줄입니다.\n",
            "14번째 줄입니다.\n",
            "15번째 줄입니다.\n",
            "16번째 줄입니다.\n",
            "17번째 줄입니다.\n",
            "18번째 줄입니다.\n",
            "19번째 줄입니다.\n",
            "11번째 줄입니다.\n",
            "12번째 줄입니다.\n",
            "13번째 줄입니다.\n",
            "14번째 줄입니다.\n",
            "15번째 줄입니다.\n",
            "16번째 줄입니다.\n",
            "17번째 줄입니다.\n",
            "18번째 줄입니다.\n",
            "19번째 줄입니다.\n",
            "\n"
          ],
          "name": "stdout"
        }
      ]
    },
    {
      "cell_type": "markdown",
      "metadata": {
        "id": "WtN0uwhSm2l9"
      },
      "source": [
        "# with in File io\n",
        "> with문을 사용하면 with 블록을 벗어나는 순간 열린 파일 객체 f가 자동으로 close 된다."
      ]
    },
    {
      "cell_type": "code",
      "metadata": {
        "colab": {
          "base_uri": "https://localhost:8080/"
        },
        "id": "eBgqdp3ImUGX",
        "outputId": "2265b4dd-fc49-42e8-9863-8df02732d875"
      },
      "source": [
        "print(\"with문과 함께 사용하기\")\n",
        "print(\"-->\", \"with문을 사용하면 with 블록을 벗어나는 순간 열린 파일 객체 f가 자동으로 close 된다.\")\n",
        "\n",
        "f = open(\"foo.txt\", \"w\")                  # 파일 이름: foo.txt, 파일 모드:w(쓰기 모드: 파일에 내용을 쓸 수 있습니다. )\n",
        "f.write(\"Life is too short, you need python\")    # 파일 안에 Life is too short, you need python 내용이 적힙니다.\n",
        "f.close()"
      ],
      "execution_count": 38,
      "outputs": [
        {
          "output_type": "stream",
          "text": [
            "with문과 함께 사용하기\n",
            "--> with문을 사용하면 with 블록을 벗어나는 순간 열린 파일 객체 f가 자동으로 close 된다.\n"
          ],
          "name": "stdout"
        }
      ]
    },
    {
      "cell_type": "markdown",
      "metadata": {
        "id": "6RqD0Tvem-Sa"
      },
      "source": [
        "###### 위에 코드를 with문과 함께 사용하기"
      ]
    },
    {
      "cell_type": "code",
      "metadata": {
        "id": "E44SCzxZnDP9"
      },
      "source": [
        "with open(\"foo1.txt\", \"w\") as f:       # with open(파일 이름, 파일 모드) as 파일 객체:\n",
        "    f.write(\"Life is too short, you need python\\n\")\n",
        "    f.write(\"PB11, Jung Soo Hyun\")"
      ],
      "execution_count": 41,
      "outputs": []
    },
    {
      "cell_type": "markdown",
      "metadata": {
        "id": "_K7hODA_phxU"
      },
      "source": [
        "### sys 모듈로 매개변수 주기"
      ]
    },
    {
      "cell_type": "code",
      "metadata": {
        "id": "S9VITHaToKPa"
      },
      "source": [
        "print(\"sys 모듈로 매개변수 주기\")\n",
        "\n",
        "\"\"\"\n",
        "#sys1.py\n",
        "import sys\n",
        "args = sys.argv[1:]\n",
        "for i in args:\n",
        "    print(i)\n",
        "\"\"\"\n",
        "\n",
        "######\n",
        "\"\"\"\n",
        "#sys2.py\n",
        "import sys\n",
        "args = sys.argv[1:]\n",
        "for i in args:\n",
        "    print(i.upper(), end=' ')\n",
        "\"\"\"\n"
      ],
      "execution_count": null,
      "outputs": []
    },
    {
      "cell_type": "code",
      "metadata": {
        "id": "fGBlcLGN-3pd",
        "colab": {
          "base_uri": "https://localhost:8080/"
        },
        "outputId": "cf423297-d2be-4ec7-848b-a4df26f94c76"
      },
      "source": [
        "# sys: 파이썬에서 사용하는 시스템 코딩(파일 입출력 또는 코드 실행과 같은 커맨드라인하고 시스템 상에서 연결되는 코드를 짤 때 도와주는 기능들이 설계되어 있는 라이브러리)\n",
        "\n",
        "import sys      # sys 라이브러리를 가져와서 사용\n",
        "args = sys.argv[1:]     # argv -> 파일 이름이 argv의 0번째 요소이고 그 다음 옵션들이 차례로 1번째 요소, 2번째 요소 등이 됩니다.\n",
        "for arg in args:\n",
        "  print(arg)"
      ],
      "execution_count": 45,
      "outputs": [
        {
          "output_type": "stream",
          "text": [
            "-f\n",
            "/root/.local/share/jupyter/runtime/kernel-decc0728-ea7e-4fbb-954c-e1e118743a33.json\n"
          ],
          "name": "stdout"
        }
      ]
    },
    {
      "cell_type": "code",
      "metadata": {
        "id": "AuaR_Ciur-Bt"
      },
      "source": [
        "run sys1.py     # 인덱스 값이 [1:]일 때"
      ],
      "execution_count": 48,
      "outputs": []
    },
    {
      "cell_type": "code",
      "metadata": {
        "colab": {
          "base_uri": "https://localhost:8080/"
        },
        "id": "p7NIEbPEqtUi",
        "outputId": "f5715401-ddc8-47b8-a942-cb131c33c799"
      },
      "source": [
        "run sys1.py     # 인덱스 값이 [0:]일 때\n",
        "                # 파일 이름이 0번 인덱스 입니다."
      ],
      "execution_count": 47,
      "outputs": [
        {
          "output_type": "stream",
          "text": [
            "sys1.py\n"
          ],
          "name": "stdout"
        }
      ]
    },
    {
      "cell_type": "code",
      "metadata": {
        "colab": {
          "base_uri": "https://localhost:8080/"
        },
        "id": "EB13ttR9r2gC",
        "outputId": "ebb4c0b7-a443-4e62-a742-0cefa8d4a968"
      },
      "source": [
        "run sys1.py a b c  # 파일 이름 -> 0번째 요소\n",
        "                   # a -> 1번째 요소\n",
        "                   # b -> 2번째 요소\n",
        "                   # c -> 3번째 요소"
      ],
      "execution_count": 49,
      "outputs": [
        {
          "output_type": "stream",
          "text": [
            "sys1.py\n",
            "a\n",
            "b\n",
            "c\n"
          ],
          "name": "stdout"
        }
      ]
    },
    {
      "cell_type": "code",
      "metadata": {
        "colab": {
          "base_uri": "https://localhost:8080/"
        },
        "id": "fSKxRTrRsh9h",
        "outputId": "da6537a9-43a4-46e5-9356-6ab6bcd2165c"
      },
      "source": [
        "run sys1.py a b c     # 인덱스 값이 [1:]일 때  -> 0번째 요소인 파일 이름 제외"
      ],
      "execution_count": 50,
      "outputs": [
        {
          "output_type": "stream",
          "text": [
            "a\n",
            "b\n",
            "c\n"
          ],
          "name": "stdout"
        }
      ]
    },
    {
      "cell_type": "code",
      "metadata": {
        "colab": {
          "base_uri": "https://localhost:8080/"
        },
        "id": "Yl0kGtvGtWqq",
        "outputId": "37530825-352b-4a13-cc50-5969430ed60e"
      },
      "source": [
        "run sys2.py aa bb cc     # 인덱스 값이 [1:] -> 0번째 요소인 파일 이름 제외\n",
        "                         # upper() 함수 -> 대문자로 바꿔주는 함수입니다.\n",
        "                         # end=' ' -> 문자들 사이에 공백 하나 추가해서 문자들을 하나씩 띄어서 출력합니다."
      ],
      "execution_count": 51,
      "outputs": [
        {
          "output_type": "stream",
          "text": [
            "AA BB CC "
          ],
          "name": "stdout"
        }
      ]
    },
    {
      "cell_type": "code",
      "metadata": {
        "colab": {
          "base_uri": "https://localhost:8080/"
        },
        "id": "o6Y7g6Oftu60",
        "outputId": "e7b0e724-b261-4ca7-9ab0-9036d0a0666e"
      },
      "source": [
        "!python sys2.py abc def            # !python -> 파이썬 실행기로 통해 코드를 실행합니다."
      ],
      "execution_count": 52,
      "outputs": [
        {
          "output_type": "stream",
          "text": [
            "ABC DEF "
          ],
          "name": "stdout"
        }
      ]
    },
    {
      "cell_type": "code",
      "metadata": {
        "id": "s2ZUAiM5uoei"
      },
      "source": [
        ""
      ],
      "execution_count": null,
      "outputs": []
    }
  ]
}