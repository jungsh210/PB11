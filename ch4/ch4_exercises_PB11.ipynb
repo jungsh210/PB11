{
  "nbformat": 4,
  "nbformat_minor": 0,
  "metadata": {
    "colab": {
      "name": "ch4_exercises-PB11.ipynb",
      "provenance": [],
      "collapsed_sections": [],
      "toc_visible": true,
      "include_colab_link": true
    },
    "kernelspec": {
      "name": "python3",
      "display_name": "Python 3"
    }
  },
  "cells": [
    {
      "cell_type": "markdown",
      "metadata": {
        "id": "view-in-github",
        "colab_type": "text"
      },
      "source": [
        "<a href=\"https://colab.research.google.com/github/jungsh210/PB11/blob/main/ch4/ch4_exercises_PB11.ipynb\" target=\"_parent\"><img src=\"https://colab.research.google.com/assets/colab-badge.svg\" alt=\"Open In Colab\"/></a>"
      ]
    },
    {
      "cell_type": "markdown",
      "metadata": {
        "id": "ovY5jkD5dpxE"
      },
      "source": [
        "## ch4_exercises-PB11.ipynb"
      ]
    },
    {
      "cell_type": "markdown",
      "metadata": {
        "id": "SZw6UnxQWYBe"
      },
      "source": [
        "## Q1.\n",
        "> 주어진 자연수가 홀수인지 짝수인지 판별해 주는 함수(is_odd)를 작성해 보자.\n"
      ]
    },
    {
      "cell_type": "markdown",
      "metadata": {
        "id": "td6owLB9qHLG"
      },
      "source": [
        "### [Q1] Code 설명\n",
        "```\n",
        "def is_odd(number):                  # is_odd() 함수를 지정해줍니다.\n",
        "```\n",
        "```\n",
        "if number % 2 == 1:                # number를 2로 나누었을 때 나머지가 1이면\n",
        "```\n",
        "```\n",
        "return (\"홀수입니다!\")               # \"홀수입니다!\"를 출력합니다.\n",
        "```\n",
        "```\n",
        "else:\n",
        "  return (\"짝수입니다!\")          # number를 2로 나누었을 때 나머지가 1이 아닌 경우 \"짝수입니다!\"를 출력합니다.\n",
        "  ```"
      ]
    },
    {
      "cell_type": "code",
      "metadata": {
        "id": "b_wr2fiiAzng"
      },
      "source": [
        "# [Q1] Code 설명\n",
        "def is_odd(number):                  # is_odd() 함수를 지정해줍니다.\n",
        "  if number % 2 == 1:                # number를 2로 나누었을 때 나머지가 1이면 \"홀수입니다!\"를 출력합니다.\n",
        "     return (\"홀수입니다!\")\n",
        "  else:\n",
        "     return (\"짝수입니다!\")          # number를 2로 나누었을 때 나머지가 1이 아닌 경우 \"짝수입니다!\"를 출력합니다."
      ],
      "execution_count": null,
      "outputs": []
    },
    {
      "cell_type": "markdown",
      "metadata": {
        "id": "v706iqX-0jTV"
      },
      "source": [
        "## [Q1] Code 1"
      ]
    },
    {
      "cell_type": "code",
      "metadata": {
        "id": "rUNNaqJPdg7B",
        "colab": {
          "base_uri": "https://localhost:8080/"
        },
        "outputId": "26a02e50-7dbc-403e-fc8c-25bf6ecc2879"
      },
      "source": [
        "# [Q1] Code 1\n",
        "def is_odd(number):\n",
        "  if number % 2 == 1:\n",
        "     return (\"홀수입니다!\")\n",
        "  else:\n",
        "     return (\"짝수입니다!\")\n",
        "\n",
        "print(is_odd(11))\n",
        "print(is_odd(8))"
      ],
      "execution_count": null,
      "outputs": [
        {
          "output_type": "stream",
          "text": [
            "홀수입니다!\n",
            "짝수입니다!\n"
          ],
          "name": "stdout"
        }
      ]
    },
    {
      "cell_type": "markdown",
      "metadata": {
        "id": "krwF-gW90m5h"
      },
      "source": [
        "## [Q1] Code 2"
      ]
    },
    {
      "cell_type": "code",
      "metadata": {
        "colab": {
          "base_uri": "https://localhost:8080/"
        },
        "id": "fUa3pyAxCeJ6",
        "outputId": "210d27f8-6acd-48af-9328-5736e71f00ae"
      },
      "source": [
        "# [Q1] Code 2\n",
        "\n",
        "# x를 2로 나누었을 때 나머니가 1이면 \"True\"를 출력하고. 나머니가 1이 아니면 \"False\"를 출력합니다.\n",
        "is_odd = lambda x: True if x % 2 == 1 else False   \n",
        "\n",
        "print(is_odd(15))\n",
        "print(is_odd(60))"
      ],
      "execution_count": null,
      "outputs": [
        {
          "output_type": "stream",
          "text": [
            "True\n",
            "False\n"
          ],
          "name": "stdout"
        }
      ]
    },
    {
      "cell_type": "markdown",
      "metadata": {
        "id": "re2-XrUYXF1m"
      },
      "source": [
        "## Q2.\n",
        "> 입력으로 들어오는 모든 수의 평균 값을 계산해 주는 함수를 작성해 보자. \n",
        "- (단 입력으로 들어오는 수의 개수는 정해져 있지 않다.)\n",
        "- ※ 평균 값을 구할 때 len 함수를 사용해 보자.\n"
      ]
    },
    {
      "cell_type": "markdown",
      "metadata": {
        "id": "2DHvNq84ZvjV"
      },
      "source": [
        "## [Q2] Code 1"
      ]
    },
    {
      "cell_type": "code",
      "metadata": {
        "colab": {
          "base_uri": "https://localhost:8080/"
        },
        "id": "x5qOyhFHQm_9",
        "outputId": "2e9be7c9-eeeb-498f-da92-fd8f32c26ad6"
      },
      "source": [
        "# [Q2] Code 1\n",
        "def avg_numbers(*args):   # 입력 개수에 상관없이 사용하기 위해 *args를 사용\n",
        "     result = 0\n",
        "     for i in args:\n",
        "         result += i\n",
        "     return result / len(args)\n",
        "\n",
        "print(avg_numbers(3,4,5))"
      ],
      "execution_count": 5,
      "outputs": [
        {
          "output_type": "stream",
          "text": [
            "4.0\n"
          ],
          "name": "stdout"
        }
      ]
    },
    {
      "cell_type": "markdown",
      "metadata": {
        "id": "1QfcA6fAZzcS"
      },
      "source": [
        "## [Q2] Code 2"
      ]
    },
    {
      "cell_type": "code",
      "metadata": {
        "colab": {
          "base_uri": "https://localhost:8080/"
        },
        "id": "cfX35D9VGP5h",
        "outputId": "4f973cfe-8021-4d94-9d17-75430fc24a49"
      },
      "source": [
        "# [Q2] Code 2\n",
        "listNum = int(input(\"리스트에 입력할 숫자의 수를 입력하세요> \"))\n",
        "lst = []\n",
        "\n",
        "for i in range(0, listNum):\n",
        "    number = int(input(\"리스트에 입력할 숫자 입력> \"))\n",
        "    lst.append(number)\n",
        "    \n",
        "average = sum(lst) / listNum\n",
        "\n",
        "print(f\"리스트에 입력된 숫자의 평균 값은 {round(average, 2)} 입니다\")"
      ],
      "execution_count": 60,
      "outputs": [
        {
          "output_type": "stream",
          "text": [
            "리스트에 입력할 숫자의 수를 입력하세요> 5\n",
            "리스트에 입력할 숫자 입력> 1\n",
            "리스트에 입력할 숫자 입력> 2\n",
            "리스트에 입력할 숫자 입력> 9\n",
            "리스트에 입력할 숫자 입력> 10\n",
            "리스트에 입력할 숫자 입력> 55\n",
            "리스트에 입력된 숫자의 평균 값은 15.4 입니다\n"
          ],
          "name": "stdout"
        }
      ]
    },
    {
      "cell_type": "markdown",
      "metadata": {
        "id": "UZy8lu_BXGnT"
      },
      "source": [
        "## Q3.\n",
        "> 다음은 두 개의 숫자를 입력받아 더하여 돌려주는 프로그램이다.\n",
        "\n",
        "```\n",
        "input1 = input(\"첫번째 숫자를 입력하세요:\")\n",
        "input2 = input(\"두번째 숫자를 입력하세요:\")\n",
        "\n",
        "total = input1 + input2\n",
        "print(\"두 수의 합은 %s 입니다\" % total)\n",
        "\n",
        "```\n",
        "---\n",
        "> 이 프로그램을 수행해 보자.\n",
        "\n",
        ">> 첫번째 숫자를 입력하세요:3  \n",
        ">> 두번째 숫자를 입력하세요:6\n",
        "- 두 수의 합은 36 입니다\n",
        "- 3과 6을 입력했을 때 9가 아닌 36이라는 결괏값을 돌려주었다.  \n",
        "이 프로그램의 오류를 수정해 보자."
      ]
    },
    {
      "cell_type": "markdown",
      "metadata": {
        "id": "XvlDQNbC0r-f"
      },
      "source": [
        "## [Q3] Code 고치기 전"
      ]
    },
    {
      "cell_type": "code",
      "metadata": {
        "colab": {
          "base_uri": "https://localhost:8080/"
        },
        "id": "9G7-LiFZwknd",
        "outputId": "690e1e10-3215-447c-8c81-f00e38970e64"
      },
      "source": [
        "# [Q3] Code 고치기 전\n",
        "input1 = input(\"첫번째 숫자를 입력하세요:\")\n",
        "input2 = input(\"두번째 숫자를 입력하세요:\")\n",
        "\n",
        "total = input1 + input2\n",
        "print(\"두 수의 합은 %s 입니다\" % total)"
      ],
      "execution_count": 9,
      "outputs": [
        {
          "output_type": "stream",
          "text": [
            "첫번째 숫자를 입력하세요:3\n",
            "두번째 숫자를 입력하세요:6\n",
            "두 수의 합은 36 입니다\n"
          ],
          "name": "stdout"
        }
      ]
    },
    {
      "cell_type": "markdown",
      "metadata": {
        "id": "1uUqrgwP0vY7"
      },
      "source": [
        "## [Q3] Code 고친 후"
      ]
    },
    {
      "cell_type": "code",
      "metadata": {
        "id": "H9T_sXHzXGnW",
        "colab": {
          "base_uri": "https://localhost:8080/"
        },
        "outputId": "28a77eb4-960a-4582-d858-f7ba0caccfb2"
      },
      "source": [
        "# [Q3] Code 고친 후\n",
        "input1 = input(\"첫번째 숫자를 입력하세요:\")\n",
        "input2 = input(\"두번째 숫자를 입력하세요:\")\n",
        " \n",
        "total = int(input1) + int(input2)        # 입력값은 문자열이므로 입력값을 숫자로 바꿔줘야 하기 때문에 int를 붙여줍니다.\n",
        "print(\"두 수의 합은 %s 입니다\" % total)"
      ],
      "execution_count": 10,
      "outputs": [
        {
          "output_type": "stream",
          "text": [
            "첫번째 숫자를 입력하세요:3\n",
            "두번째 숫자를 입력하세요:6\n",
            "두 수의 합은 9 입니다\n"
          ],
          "name": "stdout"
        }
      ]
    },
    {
      "cell_type": "markdown",
      "metadata": {
        "id": "fqypxxqTXHY7"
      },
      "source": [
        "## Q4.\n",
        "> 다음 중 출력 결과가 다른 것 한 개를 골라 보자.\n",
        "\n",
        "```\n",
        "print(\"you\" \"need\" \"python\")\n",
        "print(\"you\"+\"need\"+\"python\")\n",
        "print(\"you\", \"need\", \"python\")\n",
        "print(\"\".join([\"you\", \"need\", \"python\"]))\n",
        "```"
      ]
    },
    {
      "cell_type": "code",
      "metadata": {
        "id": "oQ5UnmayXHY-",
        "colab": {
          "base_uri": "https://localhost:8080/"
        },
        "outputId": "dc579287-dedb-4e89-d019-c2ae76e78ebe"
      },
      "source": [
        "# [Q4] Code \n",
        "print(\"you\" \"need\" \"python\")         .\n",
        "print(\"you\" + \"need\" + \"python\")     \n",
        "print(\"you\", \"need\", \"python\")      \n",
        "print(\"\".join([\"you\", \"need\", \"python\"]))    "
      ],
      "execution_count": 7,
      "outputs": [
        {
          "output_type": "stream",
          "text": [
            "youneedpython\n",
            "youneedpython\n",
            "you need python\n",
            "youneedpython\n"
          ],
          "name": "stdout"
        }
      ]
    },
    {
      "cell_type": "markdown",
      "metadata": {
        "id": "pfLit9F_ux2g"
      },
      "source": [
        "## [Q4] Code 설명\n",
        "```\n",
        "print(\"you\" \"need\" \"python\")         \n",
        "- 큰 따옴표로 둘러싸인 문자열은 + 연산과 동일합니다.\n",
        "```\n",
        "```\n",
        "print(\"you\" + \"need\" + \"python\")  \n",
        "- 문자열들을 더해 줍니다. \n",
        "```\n",
        "```\n",
        "print(\"you\", \"need\", \"python\")       \n",
        "- ,(콤마)는 ,(콤마) 앞 뒤에 있는 문자열들을 공백 하나로 띄어쓰기를 해줍니다.\n",
        "```\n",
        "```\n",
        "print(\"\".join([\"you\", \"need\", \"python\"]))    \n",
        "- .join() 함수는 리스트에 있는 요소들을 하나의 문자열로 바꾸어 주는 함수입니다.\n",
        "- .join() 함수 앞에 \"구분자\"를 문자열 사이에 추가해서 출력해줍니다.\n",
        "```"
      ]
    },
    {
      "cell_type": "markdown",
      "metadata": {
        "id": "NKsvciXZXIL-"
      },
      "source": [
        "## Q5.\n",
        "> 다음은 \"test.txt\"라는 파일에 \"Life is too short\" 문자열을 저장한 후 다시 그 파일을 읽어서 출력하는 프로그램이다.\n",
        "\n",
        "```\n",
        "f1 = open(\"test.txt\", 'w')\n",
        "f1.write(\"Life is too short\")\n",
        "\n",
        "f2 = open(\"test.txt\", 'r')\n",
        "print(f2.read())\n",
        "\n",
        "```\n",
        ">> 이 프로그램은 우리가 예상한 \"Life is too short\"라는 문장을 출력하지 않는다.\n",
        "\n",
        ">> 우리가 예상한 값을 출력할 수 있도록 프로그램을 수정해 보자."
      ]
    },
    {
      "cell_type": "markdown",
      "metadata": {
        "id": "-FiANUaa0B7s"
      },
      "source": [
        "### 예상한 값인 \"Life is too short\"라는 문장을 출력하지 않은 이유\n",
        "> close() 함수를 사용해서 파일을 닫아주지 않았기 때문입니다."
      ]
    },
    {
      "cell_type": "markdown",
      "metadata": {
        "id": "Mlu6iQlE1HkT"
      },
      "source": [
        "## [Q5] Code 1"
      ]
    },
    {
      "cell_type": "code",
      "metadata": {
        "colab": {
          "base_uri": "https://localhost:8080/"
        },
        "id": "NqzqYJl3vbq7",
        "outputId": "6dcc916e-43c3-4a81-f0ac-3b3bf65b7617"
      },
      "source": [
        "# [Q5] Code 1\n",
        "f1 = open(\"test.txt\", 'w')\n",
        "f1.write(\"Life is too short\")\n",
        "f1.close()\n",
        "\n",
        "f2 = open(\"test.txt\", 'r')\n",
        "f2.close()\n",
        "print(f2.read())"
      ],
      "execution_count": 38,
      "outputs": [
        {
          "output_type": "stream",
          "text": [
            "Life is too short\n"
          ],
          "name": "stdout"
        }
      ]
    },
    {
      "cell_type": "markdown",
      "metadata": {
        "id": "InAvOtXW1KjV"
      },
      "source": [
        "## [Q5] Code 2"
      ]
    },
    {
      "cell_type": "code",
      "metadata": {
        "id": "5MZQYOVjXIL_",
        "colab": {
          "base_uri": "https://localhost:8080/"
        },
        "outputId": "b81cda12-d8ba-4ccc-994e-03b01f461bf1"
      },
      "source": [
        "# [Q5] Code 2\n",
        "\n",
        "f1 = open(\"test.txt\", 'w')\n",
        "f1.write(\"Life \"+ \"is \"+ \"too \" +\"short\")\n",
        "f1.close()    \n",
        "\n",
        "f2 = open(\"test.txt\", 'r')\n",
        "f2.close()\n",
        "print(f2.read())"
      ],
      "execution_count": 39,
      "outputs": [
        {
          "output_type": "stream",
          "text": [
            "Life is too short\n"
          ],
          "name": "stdout"
        }
      ]
    },
    {
      "cell_type": "markdown",
      "metadata": {
        "id": "9x8TesNO4sAi"
      },
      "source": [
        "## [Q5] Code 3"
      ]
    },
    {
      "cell_type": "code",
      "metadata": {
        "colab": {
          "base_uri": "https://localhost:8080/"
        },
        "id": "xfDthplH3A4L",
        "outputId": "c2d99055-757b-40b6-f387-4311e4f42457"
      },
      "source": [
        "# [Q5] Code 3\n",
        "with open(\"test.txt\", 'w') as f1:\n",
        "  f1.write(\"Life is too short\")\n",
        "with open(\"test.txt\", 'r') as f2:\n",
        "  print(f2.read())"
      ],
      "execution_count": 34,
      "outputs": [
        {
          "output_type": "stream",
          "text": [
            "Life is too short\n"
          ],
          "name": "stdout"
        }
      ]
    },
    {
      "cell_type": "markdown",
      "metadata": {
        "id": "-3KHtOOoXJBV"
      },
      "source": [
        "## Q6.\n",
        "> 사용자의 입력을 파일(test.txt)에 저장하는 프로그램을 작성해 보자. \n",
        "- (단 프로그램을 다시 실행하더라도 기존에 작성한 내용을 유지하고 새로 입력한 내용을 추가해야 한다.)\n"
      ]
    },
    {
      "cell_type": "markdown",
      "metadata": {
        "id": "NOG38KQnBOfB"
      },
      "source": [
        "## [Q6] Code 1"
      ]
    },
    {
      "cell_type": "code",
      "metadata": {
        "id": "AjYR0lUaXJBa",
        "colab": {
          "base_uri": "https://localhost:8080/"
        },
        "outputId": "6f9aceac-0d24-4538-c7da-6c2a4ec0ce0f"
      },
      "source": [
        "# [Q6] Code 1\n",
        "user_input = input(\"저장할 내용을 입력하세요: \")      \n",
        "f = open('test.txt', 'a')                             \n",
        "f.write(user_input)\n",
        "f.write(\"\\n\")\n",
        "f.close()"
      ],
      "execution_count": 41,
      "outputs": [
        {
          "output_type": "stream",
          "text": [
            "저장할 내용을 입력하세요: 안녕하세요\n"
          ],
          "name": "stdout"
        }
      ]
    },
    {
      "cell_type": "markdown",
      "metadata": {
        "id": "ef4db9yiBRIs"
      },
      "source": [
        "## [Q6] Code 1 설명"
      ]
    },
    {
      "cell_type": "code",
      "metadata": {
        "id": "Gn7Tk5Go5wYU"
      },
      "source": [
        "# [Q6] Code 1 설명\n",
        "user_input = input(\"저장할 내용을 입력하세요: \")      # input() 함수를 사용하여 사용자에게 입력을 받습니다.\n",
        "f = open('test.txt', 'a')                             # 'test.txt' 파일에 기존에 작성한 내용은 유지하고 새로 입력한 내용을 추가하기 위해 파일 모드를 'a'로 설정합니다.\n",
        "f.write(user_input)                                   # 'test.txt' 파일에 user_input에서 입력받은 내용을 기록(입력)합니다.\n",
        "f.write(\"\\n\")                                         # 추가된 내용은 줄바꿈을 합니다.\n",
        "f.close()                                             # 파일을 닫아줍니다. "
      ],
      "execution_count": null,
      "outputs": []
    },
    {
      "cell_type": "markdown",
      "metadata": {
        "id": "GW45QVJUBTuz"
      },
      "source": [
        "## [Q6] Code 2"
      ]
    },
    {
      "cell_type": "code",
      "metadata": {
        "colab": {
          "base_uri": "https://localhost:8080/"
        },
        "id": "GfdgAaj56tBX",
        "outputId": "5a9840dd-a0bd-4b23-cd33-07488f1bc952"
      },
      "source": [
        "# [Q6] Code 2\n",
        "f = open('test.txt', 'a')\n",
        "while True:\n",
        "  string =input()\n",
        "  if string.lower() == 'exit':\n",
        "     break\n",
        "  f.write(string + '\\n')\n",
        "f.close()"
      ],
      "execution_count": 44,
      "outputs": [
        {
          "output_type": "stream",
          "text": [
            "abc\n",
            "exit\n"
          ],
          "name": "stdout"
        }
      ]
    },
    {
      "cell_type": "markdown",
      "metadata": {
        "id": "k0hPxFKgBXko"
      },
      "source": [
        "## [Q6] Code 2 설명"
      ]
    },
    {
      "cell_type": "code",
      "metadata": {
        "id": "8F52MTwa8ei0"
      },
      "source": [
        "# [Q6] Code 2 설명\n",
        "f = open('test.txt', 'a')                     # 'test.txt' 파일에 기존에 작성한 내용은 유지하고 새로 입력한 내용을 추가하기 위해 파일 모드를 'a'로 설정합니다.\n",
        "while True:                                   # while 문\n",
        "  string =input()                             # input() 함수를 사용하여 사용자에게 입력을 받습니다.\n",
        "  if string.lower() == 'exit':                # 소문자 exit를 입력 받으면 if문이 True가 돼서 if문이 작동하고 break로 while문이 닫힙니다.\n",
        "     break\n",
        "  f.write(string + '\\n')                      # 새로 내용이 추가될 때마다 줄을 바꿔서 파일에 기록(입력)이 됩니다.\n",
        "f.close()"
      ],
      "execution_count": null,
      "outputs": []
    },
    {
      "cell_type": "markdown",
      "metadata": {
        "id": "YrS3b88QbmKo"
      },
      "source": [
        "## Q7.\n",
        "> 다음과 같은 내용을 지닌 파일 foo1.txt가 있다. 이 파일의 내용 중 \"java\"라는 문자열을 \"python\"으로 바꾸어서 저장해 보자.\n",
        "\n",
        ">> Life is too short  \n",
        ">> you need java\n",
        "\n",
        "- ※ replace 함수를 사용해 보자.\n"
      ]
    },
    {
      "cell_type": "code",
      "metadata": {
        "id": "Ll_2InMWbmKq"
      },
      "source": [
        "# [Q7] Code-1\n",
        "f= open('fool1.txt', 'w')\n",
        "f.write(\"Life is too short\\n\")\n",
        "f.write(\"you need java\")\n",
        "f.close()\n",
        "\n",
        "f = open('fool1.txt', 'r')\n",
        "text = f.read()\n",
        "text = text.replace('java','python')\n",
        "\n",
        "f = open('fool1.txt', 'w')\n",
        "f.write(text)\n",
        "f.close()"
      ],
      "execution_count": 52,
      "outputs": []
    },
    {
      "cell_type": "code",
      "metadata": {
        "id": "4Xa3JU4pDDal"
      },
      "source": [
        "# [Q7] Code-1 설명\n",
        "f= open('fool1.txt', 'w')            # 파일 이름: fool1.txt, 파일 모드: w(쓰기 모드: 파일에 내용을 쓸 수 있습니다.)\n",
        "f.write(\"Life is too short\\n\")       # fool1.txt 파일에 \"Life is too short\" 문자열을 기록(입력) 합니다.\n",
        "f.write(\"you need java\\n\")           # 줄바꿔서 \"you need java\" 문자열을 기록(입력) 합니다.\n",
        "f.close()                            # 파일을 닫아줍니다.\n",
        "\n",
        "f = open('fool1.txt', 'r')           # 파일 이름: fool1.txt, 파일 모드: r(읽기 모드: 파일에 있는 내용을 읽을 수 있습니다.)\n",
        "text = f.read()                      # text에 fool1.txt 파일에서 읽어온 \"Life is too short\\n\"와 \"you need java\"가 들어있습니다.\n",
        "text = text.replace('java','python')      # text에 있는 문자를 replace() 함수로 'java'를  'python'으로 바꾸어 줍니다.\n",
        "\n",
        "f = open('fool1.txt', 'w')           # 파일 이름: fool1.txt, 파일 모드: w(쓰기 모드: 파일에 내용을 쓸 수 있습니다.)\n",
        "f.write(text)                        # fool1.txt에 text 내용을 기록(입력) 합니다.\n",
        "f.close()                            # 파일을 닫아줍니다."
      ],
      "execution_count": 57,
      "outputs": []
    },
    {
      "cell_type": "markdown",
      "metadata": {
        "id": "2ljBDShkbqZO"
      },
      "source": [
        "## 코딩 연습 결과를 github에 올리기\n",
        "> 완성된 ipython 노트북 파일을 각자의 github에 올리시오.\n",
        "\n",
        "- github 계정 만들기 (계정이 없는 학생)\n",
        "    1. github에 sign up (Google gmail 계정을 이용해서 만드시오.)\n",
        "- github에 노트 올리기\n",
        "    2. github에 각자의 id로 repo를 만드시오. (한번 만들면 계속 재사용)\n",
        "    3. github repo에 연습결과 노트를 올리시오.\n",
        "        - 제출노트: ch4_exercises_id.ipynb\n"
      ]
    },
    {
      "cell_type": "code",
      "metadata": {
        "id": "OnCR-YNCc8B6"
      },
      "source": [
        ""
      ],
      "execution_count": null,
      "outputs": []
    }
  ]
}