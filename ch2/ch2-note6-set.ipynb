{
 "metadata": {
  "language_info": {
   "codemirror_mode": {
    "name": "ipython",
    "version": 3
   },
   "file_extension": ".py",
   "mimetype": "text/x-python",
   "name": "python",
   "nbconvert_exporter": "python",
   "pygments_lexer": "ipython3",
   "version": "3.8.5"
  },
  "orig_nbformat": 2,
  "kernelspec": {
   "name": "python385jvsc74a57bd026598d298f606742902e7db6923386a3ef646e73a5b0858c7991afae3a0b0a54",
   "display_name": "Python 3.8.5 64-bit ('base': conda)"
  }
 },
 "nbformat": 4,
 "nbformat_minor": 2,
 "cells": [
  {
   "source": [
    "# ch2-note6-set.ipynb by PB11\n",
    "## 집합: 집합(set)이란?\n",
    "- 집합에 관련된 것을 쉽게 처리하기 위해 만든 자료형\n",
    "- 중복된 값을 허용하지 않는다.\n",
    "- set -> {a, b, c,...}   /   dict -> {k1:v1, k2:v2, k3:v3,...}\n",
    "- set은 중복을 허용하지 않는 가변형 자료형이지만, frozenset은 불가변 자료형이기 때문에 값을 바꿀 수 없습니다.\n"
   ],
   "cell_type": "markdown",
   "metadata": {}
  },
  {
   "source": [
    "### set 키워드를 사용해서 집합자료형을 만든다."
   ],
   "cell_type": "markdown",
   "metadata": {}
  },
  {
   "cell_type": "code",
   "execution_count": 1,
   "metadata": {},
   "outputs": [
    {
     "output_type": "stream",
     "name": "stdout",
     "text": [
      "{1, 2, 3}\n{1, 2, 3}\n{'e', 'o', 'l', 'H'}\n"
     ]
    }
   ],
   "source": [
    "# set 키워드를 사용해서 집합자료형을 만든다.\n",
    "# 딕셔너리와 다른 점: 콤마(,)로만 구분해서 {} 안에 값을 넣으면 됩니다.\n",
    "s1 = set([1, 2, 3])\n",
    "print(s1) \n",
    "\n",
    "s1n = set([1, 2, 3, 2])      # 중복된 값은 하나만 결과에 출력\n",
    "print(s1n)\n",
    "\n",
    "s2 = set(\"Hello\")       # l은 중복된 값으로 하나만 결과에 출력\n",
    "                        # 순서가 정해져 있지 않기 때문에 무작위로 출력\n",
    "print(s2)"
   ]
  },
  {
   "source": [
    "## 집합 자료형의 특징\n",
    "- 1. 중복을 허용하지 않습니다.\n",
    "- 2. 순서가 없습니다(unordered).\n",
    "- 3. set 자료형은 순서가 없기 때문에 인덱싱으로 값을 얻을 수 없습니다."
   ],
   "cell_type": "markdown",
   "metadata": {}
  },
  {
   "cell_type": "code",
   "execution_count": 2,
   "metadata": {},
   "outputs": [
    {
     "output_type": "error",
     "ename": "TypeError",
     "evalue": "'set' object is not subscriptable",
     "traceback": [
      "\u001b[1;31m---------------------------------------------------------------------------\u001b[0m",
      "\u001b[1;31mTypeError\u001b[0m                                 Traceback (most recent call last)",
      "\u001b[1;32m<ipython-input-2-7dd29e2d91df>\u001b[0m in \u001b[0;36m<module>\u001b[1;34m\u001b[0m\n\u001b[0;32m      2\u001b[0m \u001b[1;33m\u001b[0m\u001b[0m\n\u001b[0;32m      3\u001b[0m \u001b[0ms1\u001b[0m \u001b[1;33m=\u001b[0m \u001b[0mset\u001b[0m\u001b[1;33m(\u001b[0m\u001b[1;33m[\u001b[0m\u001b[1;36m1\u001b[0m\u001b[1;33m,\u001b[0m \u001b[1;36m2\u001b[0m\u001b[1;33m,\u001b[0m \u001b[1;36m3\u001b[0m\u001b[1;33m]\u001b[0m\u001b[1;33m)\u001b[0m\u001b[1;33m\u001b[0m\u001b[1;33m\u001b[0m\u001b[0m\n\u001b[1;32m----> 4\u001b[1;33m \u001b[0mprint\u001b[0m\u001b[1;33m(\u001b[0m\u001b[0ms1\u001b[0m\u001b[1;33m[\u001b[0m\u001b[1;36m0\u001b[0m\u001b[1;33m]\u001b[0m\u001b[1;33m)\u001b[0m\u001b[1;33m\u001b[0m\u001b[1;33m\u001b[0m\u001b[0m\n\u001b[0m",
      "\u001b[1;31mTypeError\u001b[0m: 'set' object is not subscriptable"
     ]
    }
   ],
   "source": [
    "# set 자료형은 순서가 없기 때문에 인덱싱으로 값을 얻을 수 없습니다. \n",
    "\n",
    "s1 = set([1, 2, 3])\n",
    "print(s1[0])          \n",
    "\n",
    "# set 자료형은 순서가 없기 때문에 인덱싱으로 값을 얻을 수 없어서 Error가 뜹니다. "
   ]
  },
  {
   "cell_type": "code",
   "execution_count": 5,
   "metadata": {},
   "outputs": [
    {
     "output_type": "stream",
     "name": "stdout",
     "text": [
      "<class 'set'>\n<class 'list'>\n1\n"
     ]
    }
   ],
   "source": [
    "# 인덱싱은 set자료형을 list로 변환 후 가능합니다.\n",
    "\n",
    "s1 = set([1, 2, 3])\n",
    "l1 = list(s1)       \n",
    "# s1이라는 set을 list인 l1에 넣어주면 인덱싱이 가능합니다.\n",
    "\n",
    "print(type(s1))    # s1의 type은 set입니다.\n",
    "print(type(l1))    # l1의 type은 list입니다.\n",
    "print(l1[0])"
   ]
  },
  {
   "cell_type": "code",
   "execution_count": 11,
   "metadata": {},
   "outputs": [
    {
     "output_type": "stream",
     "name": "stdout",
     "text": [
      "['e', 'o', 'l', 'H']\nl\nH\n"
     ]
    }
   ],
   "source": [
    "s2 = set(\"Hello\")\n",
    "s2l = list(s2)\n",
    "\n",
    "print(s2l)\n",
    "print(s2l[2])\n",
    "print(s2l[-1])"
   ]
  },
  {
   "cell_type": "code",
   "execution_count": 4,
   "metadata": {},
   "outputs": [
    {
     "output_type": "stream",
     "name": "stdout",
     "text": [
      "(1, 2, 3)\n1\n"
     ]
    }
   ],
   "source": [
    "# set 자료형을 tuple로 바꿔도 인덱싱이 가능합니다.\n",
    "\n",
    "t1 = tuple(s1)\n",
    "print(t1)\n",
    "print(t1[0])"
   ]
  },
  {
   "source": [
    "### 교집합, 합집합, 차집합 구하기"
   ],
   "cell_type": "markdown",
   "metadata": {}
  },
  {
   "source": [
    "### 1. 교집합 구하기"
   ],
   "cell_type": "markdown",
   "metadata": {}
  },
  {
   "cell_type": "code",
   "execution_count": 3,
   "metadata": {},
   "outputs": [
    {
     "output_type": "stream",
     "name": "stdout",
     "text": [
      "{4, 5, 6}\n{4, 5, 6}\n"
     ]
    }
   ],
   "source": [
    "# 1. 교집합 (공통된 값을 출력)\n",
    "\n",
    "s1 = set([1, 2, 3, 4, 5, 6])\n",
    "s2 = set([4, 5, 6, 7, 8, 9])\n",
    "\n",
    "# 교집합을 출력하는 첫번째 방법(s1 & s2)\n",
    "s1 & s2\n",
    "print(s1 & s2)\n",
    "\n",
    "# 교집합을 출력하는 두번째 방법(s.intersection() 함수)\n",
    "s1 = set([1, 2, 3, 4, 5, 6])\n",
    "s2 = set([4, 5, 6, 7, 8, 9])\n",
    "print(s1.intersection(s2))"
   ]
  },
  {
   "source": [
    "### 2. 합집합 구하기"
   ],
   "cell_type": "markdown",
   "metadata": {}
  },
  {
   "cell_type": "code",
   "execution_count": 5,
   "metadata": {},
   "outputs": [
    {
     "output_type": "stream",
     "name": "stdout",
     "text": [
      "{1, 2, 3, 4, 5, 6, 7, 8, 9}\n{1, 2, 3, 4, 5, 6, 7, 8, 9}\n"
     ]
    }
   ],
   "source": [
    "# 2. 합집합(공통된 값은 하나만 출력하고 더해진 set 자료형의 모든 값을 출력)\n",
    "s1 = set([1, 2, 3, 4, 5, 6])\n",
    "s2 = set([4, 5, 6, 7, 8, 9])\n",
    "\n",
    "# 합집합을 구하는 첫번째 방법(s1 | s2)\n",
    "s1 | s2\n",
    "print(s1 | s2)\n",
    "\n",
    "# 합집합을 구하는 두번째 방법(s.union() 함수)\n",
    "s1 = set([1, 2, 3, 4, 5, 6])\n",
    "s2 = set([4, 5, 6, 7, 8, 9])\n",
    "print(s1.union(s2))"
   ]
  },
  {
   "source": [
    "### 3. 차집합 구하기"
   ],
   "cell_type": "markdown",
   "metadata": {}
  },
  {
   "cell_type": "code",
   "execution_count": 7,
   "metadata": {},
   "outputs": [
    {
     "output_type": "stream",
     "name": "stdout",
     "text": [
      "{1, 2, 3}\n{8, 9, 7}\n{1, 2, 3}\n{8, 9, 7}\n"
     ]
    }
   ],
   "source": [
    "# 차집합(공통된 값을 뺄 수 있습니다.)\n",
    "s1 = set([1, 2, 3, 4, 5, 6])\n",
    "s2 = set([4, 5, 6, 7, 8, 9])\n",
    "\n",
    "# 차집합 구하는 첫번째 방법(s1 - s2, s2 - s1)\n",
    "s1 - s2\n",
    "print(s1 - s2)\n",
    "\n",
    "s2 - s1\n",
    "print(s2 - s1)\n",
    "\n",
    "# 차집합 구하는 두번쨰 방법(s.difference() 함수)\n",
    "s1.difference(s2)\n",
    "print(s1.difference(s2))\n",
    "\n",
    "s2.difference(s1)\n",
    "print(s2.difference(s1))"
   ]
  },
  {
   "source": [
    "## \"집합 (set): 관련 내장 함수들"
   ],
   "cell_type": "markdown",
   "metadata": {}
  },
  {
   "source": [
    "### 값 1개 추가하기(add)"
   ],
   "cell_type": "markdown",
   "metadata": {}
  },
  {
   "cell_type": "code",
   "execution_count": 2,
   "metadata": {},
   "outputs": [
    {
     "output_type": "stream",
     "name": "stdout",
     "text": [
      "{1, 2, 3, 4}\n"
     ]
    }
   ],
   "source": [
    "# 값 1개 추가하기(add)\n",
    "\n",
    "s1 = set([1, 2, 3])\n",
    "s1.add(4)\n",
    "print(s1)"
   ]
  },
  {
   "source": [
    "### 값 여러 개 추가하기(update)"
   ],
   "cell_type": "markdown",
   "metadata": {}
  },
  {
   "cell_type": "code",
   "execution_count": 3,
   "metadata": {},
   "outputs": [
    {
     "output_type": "stream",
     "name": "stdout",
     "text": [
      "{1, 2, 3, 4, 5, 6}\n"
     ]
    }
   ],
   "source": [
    "# 값 여러 개 추가하기(update)\n",
    "# 같은 값을 여러 개 넣어도 결과에는 하나만 출력합니다.(중복 허용 X)\n",
    "s1 = set([1, 2, 3])\n",
    "s1.update([4, 5, 6])\n",
    "print(s1)"
   ]
  },
  {
   "source": [
    "### 특정 값 제거하기(remove)"
   ],
   "cell_type": "markdown",
   "metadata": {}
  },
  {
   "source": [
    "# 특정 값 제거하기(remove)\n",
    "\n",
    "s1 = set([1, 2, 3])\n",
    "s1.remove(2)\n",
    "print(s1)"
   ],
   "cell_type": "code",
   "metadata": {},
   "execution_count": 4,
   "outputs": [
    {
     "output_type": "stream",
     "name": "stdout",
     "text": [
      "{1, 3}\n"
     ]
    }
   ]
  },
  {
   "source": [
    "### forzenset()  : 불변집합"
   ],
   "cell_type": "markdown",
   "metadata": {}
  },
  {
   "cell_type": "code",
   "execution_count": 13,
   "metadata": {},
   "outputs": [
    {
     "output_type": "stream",
     "name": "stdout",
     "text": [
      "frozenset({2, 3, 5, 7})\nfrozenset({11, 5, 7})\n"
     ]
    },
    {
     "output_type": "error",
     "ename": "AttributeError",
     "evalue": "'frozenset' object has no attribute 'add'",
     "traceback": [
      "\u001b[1;31m---------------------------------------------------------------------------\u001b[0m",
      "\u001b[1;31mAttributeError\u001b[0m                            Traceback (most recent call last)",
      "\u001b[1;32m<ipython-input-13-dc8ed0a47329>\u001b[0m in \u001b[0;36m<module>\u001b[1;34m\u001b[0m\n\u001b[0;32m      4\u001b[0m \u001b[0mprint\u001b[0m\u001b[1;33m(\u001b[0m\u001b[0mbigger_primes\u001b[0m\u001b[1;33m)\u001b[0m\u001b[1;33m\u001b[0m\u001b[1;33m\u001b[0m\u001b[0m\n\u001b[0;32m      5\u001b[0m \u001b[1;33m\u001b[0m\u001b[0m\n\u001b[1;32m----> 6\u001b[1;33m \u001b[0msmall_primes\u001b[0m\u001b[1;33m.\u001b[0m\u001b[0madd\u001b[0m\u001b[1;33m(\u001b[0m\u001b[1;36m11\u001b[0m\u001b[1;33m)\u001b[0m\u001b[1;33m\u001b[0m\u001b[1;33m\u001b[0m\u001b[0m\n\u001b[0m\u001b[0;32m      7\u001b[0m \u001b[0mprint\u001b[0m\u001b[1;33m(\u001b[0m\u001b[0msmall_primes\u001b[0m\u001b[1;33m)\u001b[0m\u001b[1;33m\u001b[0m\u001b[1;33m\u001b[0m\u001b[0m\n",
      "\u001b[1;31mAttributeError\u001b[0m: 'frozenset' object has no attribute 'add'"
     ]
    }
   ],
   "source": [
    "small_primes = frozenset([2, 3, 5, 7])     \n",
    "print(small_primes)\n",
    "bigger_primes = frozenset([5, 7, 11])      \n",
    "print(bigger_primes)\n",
    "\n",
    "small_primes.add(11)       # small_primes에 11을 추가\n",
    "print(small_primes)        \n",
    "# frozenset은 불가변형인 자료형으로서 값을 바꿀 수 없기 때문에 Error가 뜹니다. "
   ]
  },
  {
   "cell_type": "code",
   "execution_count": 7,
   "metadata": {},
   "outputs": [
    {
     "output_type": "error",
     "ename": "AttributeError",
     "evalue": "'frozenset' object has no attribute 'remove'",
     "traceback": [
      "\u001b[1;31m---------------------------------------------------------------------------\u001b[0m",
      "\u001b[1;31mAttributeError\u001b[0m                            Traceback (most recent call last)",
      "\u001b[1;32m<ipython-input-7-9d1883f0f2e9>\u001b[0m in \u001b[0;36m<module>\u001b[1;34m\u001b[0m\n\u001b[1;32m----> 1\u001b[1;33m \u001b[0msmall_primes\u001b[0m\u001b[1;33m.\u001b[0m\u001b[0mremove\u001b[0m\u001b[1;33m(\u001b[0m\u001b[1;36m2\u001b[0m\u001b[1;33m)\u001b[0m\u001b[1;33m\u001b[0m\u001b[1;33m\u001b[0m\u001b[0m\n\u001b[0m\u001b[0;32m      2\u001b[0m \u001b[0mprint\u001b[0m\u001b[1;33m(\u001b[0m\u001b[0msmall_primes\u001b[0m\u001b[1;33m)\u001b[0m\u001b[1;33m\u001b[0m\u001b[1;33m\u001b[0m\u001b[0m\n",
      "\u001b[1;31mAttributeError\u001b[0m: 'frozenset' object has no attribute 'remove'"
     ]
    }
   ],
   "source": [
    "# frozenset은 불변형인 자료형으로서 값을 바꿀 수 없기 때문에 Error가 뜹니다. \n",
    "small_primes.remove(2)\n",
    "print(small_primes)"
   ]
  },
  {
   "cell_type": "code",
   "execution_count": 6,
   "metadata": {},
   "outputs": [
    {
     "output_type": "stream",
     "name": "stdout",
     "text": [
      "frozenset({5, 7})\n"
     ]
    }
   ],
   "source": [
    "small_primes & bigger_primes\n",
    "print(small_primes & bigger_primes)"
   ]
  },
  {
   "source": [
    "### "
   ],
   "cell_type": "markdown",
   "metadata": {}
  }
 ]
}