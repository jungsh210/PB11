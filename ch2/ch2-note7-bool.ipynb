{
 "metadata": {
  "language_info": {
   "codemirror_mode": {
    "name": "ipython",
    "version": 3
   },
   "file_extension": ".py",
   "mimetype": "text/x-python",
   "name": "python",
   "nbconvert_exporter": "python",
   "pygments_lexer": "ipython3",
   "version": "3.8.5"
  },
  "orig_nbformat": 2,
  "kernelspec": {
   "name": "python385jvsc74a57bd026598d298f606742902e7db6923386a3ef646e73a5b0858c7991afae3a0b0a54",
   "display_name": "Python 3.8.5 64-bit ('base': conda)"
  }
 },
 "nbformat": 4,
 "nbformat_minor": 2,
 "cells": [
  {
   "source": [
    "# ch2-note7-bool.ipynb by PB11"
   ],
   "cell_type": "markdown",
   "metadata": {}
  },
  {
   "source": [
    "## 불: 불 자료형이란?\n",
    "- 불(bool) 자료형이란 참(True)과 거짓(False)을 나타내는 자료형이다.\n",
    "- 불 자료형은 다음 2가지 값을 가질 수 있다.\n",
    "- 1. True - 참\n",
    "- 2. False - 거짓\n",
    "- True나 False는 파이썬의 예약어로 true, false와 같이 사용하지 말고 첫 문자를 항상 대문자로 사용해야 한다."
   ],
   "cell_type": "markdown",
   "metadata": {}
  },
  {
   "cell_type": "code",
   "execution_count": 1,
   "metadata": {},
   "outputs": [
    {
     "output_type": "stream",
     "name": "stdout",
     "text": [
      "<class 'bool'> <class 'bool'>\n"
     ]
    }
   ],
   "source": [
    "a = True           # 동격 데이터형\n",
    "b = False          \n",
    "print(type(a), type(b))"
   ]
  },
  {
   "source": [
    "### 참과 거짓"
   ],
   "cell_type": "markdown",
   "metadata": {}
  },
  {
   "cell_type": "code",
   "execution_count": 2,
   "metadata": {},
   "outputs": [
    {
     "output_type": "stream",
     "name": "stdout",
     "text": [
      "True\nTrue\nFalse\n2\n1\n"
     ]
    }
   ],
   "source": [
    "# 참과 거짓\n",
    "\n",
    "print(1 == 1)      # 1과 1은 같다.  ->  True\n",
    "print(2 > 1)       # 2는 1보다 크다.  ->  True\n",
    "print(2 < 1)       # 2는 1보다 작다.  ->  False\n",
    "print(True + 1)    # True을 값으로 쓸 때에는 1이라는 값이 들어갑니다. \n",
    "print(False + 1)   # False를 값으로 쓸 떄에는 0이라는 값이 들어갑니다. "
   ]
  },
  {
   "cell_type": "code",
   "execution_count": 3,
   "metadata": {},
   "outputs": [
    {
     "output_type": "stream",
     "name": "stdout",
     "text": [
      "True\nFalse\n \nTrue\nTrue\nFalse\nFalse\nFalse\nTrue\nFalse\nFalse\n"
     ]
    }
   ],
   "source": [
    "# 자료형의 참과 거짓\n",
    "\n",
    "print(bool(\"python\"))     \n",
    "# \"\" 안에 python이라는 문자열이 알맞은 형태로 들어가 있기 때문에 True\n",
    "\n",
    "print(bool(\"\"))\n",
    "# \"\" 안에 아무것도 안들어있기 때문에 False\n",
    "\n",
    "print(\" \")\n",
    "# 하지만 \" \"은 공백도 문자열로 포함하기 때문에 True가 뜹니다.\n",
    "\n",
    "print(bool( [1, 2, 3] ))\n",
    "# list안에 데이터가 들어있기 때문에 True\n",
    "\n",
    "print(bool( [2, 3] ))\n",
    "# list안에 데이터가 들어있기 때문에 True\n",
    "\n",
    "print(bool( [] ))\n",
    "# list안에 데이터가 들어있지 않기 때문에 False\n",
    "\n",
    "print(bool( () ))\n",
    "# bool안에 데이터가 들어있지 않기 때문에 False\n",
    "\n",
    "print(bool( {} ))\n",
    "# 아무 값이 없는 set이나 딕셔너리도 False\n",
    "\n",
    "print(bool(1))\n",
    "# 1은 True이기 때문에 True를 출력\n",
    "\n",
    "print(bool(0))\n",
    "# 0은 False이기 때문에 False를 출력\n",
    "\n",
    "print(bool(None))\n",
    "# None은 아무것도 없는 것을 나타내기 때문에 False"
   ]
  },
  {
   "source": [
    "### 불 값을 이용한 코드 "
   ],
   "cell_type": "markdown",
   "metadata": {}
  },
  {
   "cell_type": "code",
   "execution_count": 1,
   "metadata": {},
   "outputs": [
    {
     "output_type": "stream",
     "name": "stdout",
     "text": [
      "True\n4\n3\n2\n1\n거짓\n"
     ]
    }
   ],
   "source": [
    "a = [1, 2, 3, 4]\n",
    "print(bool(a))\n",
    "\n",
    "while a:              # while a가 False가 될 때까지 반복\n",
    "    print(a.pop())    # pop() 함수: 맨 마지막 요소를 하나씩 빼는 함수\n",
    "\n",
    "if []:\n",
    "    print(\"참\")       \n",
    "else:\n",
    "    print(\"거짓\")"
   ]
  },
  {
   "source": [
    "### floating-point error"
   ],
   "cell_type": "markdown",
   "metadata": {}
  },
  {
   "cell_type": "code",
   "execution_count": 5,
   "metadata": {},
   "outputs": [
    {
     "output_type": "execute_result",
     "data": {
      "text/plain": [
       "0.09999999999999998"
      ]
     },
     "metadata": {},
     "execution_count": 5
    }
   ],
   "source": [
    "1-0.9   \n",
    "# 1은 정수이고, 0.9는 실수라서 실수 계산이 적용됩니다."
   ]
  },
  {
   "cell_type": "code",
   "execution_count": 7,
   "metadata": {},
   "outputs": [
    {
     "output_type": "execute_result",
     "data": {
      "text/plain": [
       "False"
      ]
     },
     "metadata": {},
     "execution_count": 7
    }
   ],
   "source": [
    "1-0.9 == 0.1"
   ]
  },
  {
   "source": [
    "### decimal 모듈"
   ],
   "cell_type": "markdown",
   "metadata": {}
  },
  {
   "cell_type": "code",
   "execution_count": 10,
   "metadata": {},
   "outputs": [
    {
     "output_type": "execute_result",
     "data": {
      "text/plain": [
       "(Decimal('3.140000000000000124344978758017532527446746826171875'),\n",
       " Decimal('2.7400000000000002131628207280300557613372802734375'))"
      ]
     },
     "metadata": {},
     "execution_count": 10
    }
   ],
   "source": [
    "import decimal\n",
    "x = decimal.Decimal(3.14)\n",
    "y = decimal.Decimal(2.74)\n",
    "x,y"
   ]
  },
  {
   "cell_type": "code",
   "execution_count": 11,
   "metadata": {},
   "outputs": [
    {
     "output_type": "execute_result",
     "data": {
      "text/plain": [
       "Decimal('8.603600000000001010036498883')"
      ]
     },
     "metadata": {},
     "execution_count": 11
    }
   ],
   "source": [
    "import decimal\n",
    "x = decimal.Decimal(3.14)\n",
    "y = decimal.Decimal(2.74)\n",
    "\n",
    "x*y    # 실제로는 8.6"
   ]
  },
  {
   "cell_type": "code",
   "execution_count": 12,
   "metadata": {},
   "outputs": [
    {
     "output_type": "execute_result",
     "data": {
      "text/plain": [
       "Decimal('8.604')"
      ]
     },
     "metadata": {},
     "execution_count": 12
    }
   ],
   "source": [
    "# 위처럼 실수 계산에서 오류가 발생할 수 있습니다.\n",
    "# 오류를 해결하기 위해서 decimal.getcontext()를 사용합니다.\n",
    "\n",
    "import decimal\n",
    "x = decimal.Decimal(3.14)\n",
    "y = decimal.Decimal(2.74)\n",
    "\n",
    "decimal.getcontext().prec=4     \n",
    "# 소수점 넷째자리까지 계산을 하고 다섯번째 자리에서 반올림해서 값을 구할 수 있습니다. \n",
    "\n",
    "x*y"
   ]
  },
  {
   "cell_type": "code",
   "execution_count": null,
   "metadata": {},
   "outputs": [],
   "source": []
  }
 ]
}