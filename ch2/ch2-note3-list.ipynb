{
 "metadata": {
  "language_info": {
   "codemirror_mode": {
    "name": "ipython",
    "version": 3
   },
   "file_extension": ".py",
   "mimetype": "text/x-python",
   "name": "python",
   "nbconvert_exporter": "python",
   "pygments_lexer": "ipython3",
   "version": "3.9.2"
  },
  "orig_nbformat": 2,
  "kernelspec": {
   "name": "python392jvsc74a57bd0ae4362a93a4b6452c5506c1587c1cde333989945ee5c54b6ca329f47970a8403",
   "display_name": "Python 3.9.2 64-bit"
  },
  "metadata": {
   "interpreter": {
    "hash": "ae4362a93a4b6452c5506c1587c1cde333989945ee5c54b6ca329f47970a8403"
   }
  }
 },
 "nbformat": 4,
 "nbformat_minor": 2,
 "cells": [
  {
   "source": [
    "# ch2-note3-list.ipynb by PB11\n",
    "## 리스트: list란?\""
   ],
   "cell_type": "markdown",
   "metadata": {}
  },
  {
   "cell_type": "code",
   "execution_count": 2,
   "metadata": {},
   "outputs": [
    {
     "output_type": "stream",
     "name": "stdout",
     "text": [
      "[1, 3, 5, 7, 9]\n"
     ]
    }
   ],
   "source": [
    "# 리스트란 [] 안에 데이터를 ,로 구분해서 넣는 것을 말합니다.\n",
    "\n",
    "odd = [1, 3, 5, 7, 9] \n",
    "print(odd)"
   ]
  },
  {
   "cell_type": "code",
   "execution_count": 4,
   "metadata": {},
   "outputs": [
    {
     "output_type": "stream",
     "name": "stdout",
     "text": [
      "[]\n[1, 2, 3]\n['Life', 'is', 'too', 'short']\n[1, 2, 'Life', 'is']\n[1, 2, ['Life', 'is']]\n"
     ]
    }
   ],
   "source": [
    "# 여러가지 리스트\n",
    "a = []                                # a = []에서 []만 입력하는 것은 리스트를 초기화 하는 것입니다. \n",
    "print(a)\n",
    "b = [1, 2, 3]                         #b는 정수 1,2,3을 가지고 있는 리스트입니다.\n",
    "print(b)\n",
    "c= ['Life', 'is', 'too', 'short']     # c는 문자열 'Life', 'is', 'too', 'short'를 가지고 있는 리스트입니다.\n",
    "print(c)\n",
    "d = [1, 2, 'Life', 'is']              #d는 정수 1,2와 문자열 'Life', 'is'를 가지고 있는 리스트입니다.\n",
    "print(d)\n",
    "e = [1, 2, ['Life', 'is']]            #e는 정수 1,2 list안에 문자열 'Life', 'is' 리스트를 가지고 있는 list입니다.\n",
    "print(e)\n",
    "\n",
    "#파이썬과 자바,C++/C와의 차이점: 파이썬은 list 안에 자료형이 달라도 출력이 가능합니다.\n",
    "#e list처럼 list안에 또 다른 list가 요소로 들어와 있는 형태도 가능합니다."
   ]
  },
  {
   "source": [
    "### list 초기화"
   ],
   "cell_type": "markdown",
   "metadata": {}
  },
  {
   "cell_type": "code",
   "execution_count": 46,
   "metadata": {},
   "outputs": [
    {
     "output_type": "stream",
     "name": "stdout",
     "text": [
      "[]\n"
     ]
    }
   ],
   "source": [
    "# list 초기화\n",
    "a = list()    #리스트를 초기화하는 또 다른 방법은 list()라는 함수를 이용해서 초기화하는 방법이 있습니다.\n",
    "print(a)"
   ]
  },
  {
   "source": [
    "### \"리스트: 리스트의 인덱싱과 슬라이싱\""
   ],
   "cell_type": "markdown",
   "metadata": {}
  },
  {
   "cell_type": "code",
   "execution_count": 7,
   "metadata": {},
   "outputs": [
    {
     "output_type": "stream",
     "name": "stdout",
     "text": [
      "[1, 2, 3]\n"
     ]
    }
   ],
   "source": [
    "a = [1, 2, 3]\n",
    "print(a)"
   ]
  },
  {
   "cell_type": "code",
   "execution_count": 30,
   "metadata": {},
   "outputs": [
    {
     "output_type": "stream",
     "name": "stdout",
     "text": [
      "1\n"
     ]
    },
    {
     "output_type": "error",
     "ename": "IndexError",
     "evalue": "list index out of range",
     "traceback": [
      "\u001b[1;31m---------------------------------------------------------------------------\u001b[0m",
      "\u001b[1;31mIndexError\u001b[0m                                Traceback (most recent call last)",
      "\u001b[1;32m<ipython-input-30-6d2ddfe1174a>\u001b[0m in \u001b[0;36m<module>\u001b[1;34m\u001b[0m\n\u001b[0;32m      3\u001b[0m \u001b[0ma\u001b[0m\u001b[1;33m[\u001b[0m\u001b[1;36m0\u001b[0m\u001b[1;33m]\u001b[0m\u001b[1;33m\u001b[0m\u001b[1;33m\u001b[0m\u001b[0m\n\u001b[0;32m      4\u001b[0m \u001b[0mprint\u001b[0m\u001b[1;33m(\u001b[0m\u001b[0ma\u001b[0m\u001b[1;33m[\u001b[0m\u001b[1;36m0\u001b[0m\u001b[1;33m]\u001b[0m\u001b[1;33m)\u001b[0m           \u001b[1;31m#0번째 인덱스\u001b[0m\u001b[1;33m\u001b[0m\u001b[1;33m\u001b[0m\u001b[0m\n\u001b[1;32m----> 5\u001b[1;33m \u001b[0ma\u001b[0m\u001b[1;33m[\u001b[0m\u001b[1;36m3\u001b[0m\u001b[1;33m]\u001b[0m\u001b[1;33m\u001b[0m\u001b[1;33m\u001b[0m\u001b[0m\n\u001b[0m",
      "\u001b[1;31mIndexError\u001b[0m: list index out of range"
     ]
    }
   ],
   "source": [
    "# 파이썬의 모든 인덱스는 0부터 시작합니다.   \n",
    "a = [1, 2, 3]\n",
    "a[0]  \n",
    "print(a[0])           #0번째 요소  \n",
    "\n",
    "a[3]                  #3번째 요소  #3번째 인덱스에 해당하는 요소가 없기 때문에 Error가 뜹니다."
   ]
  },
  {
   "cell_type": "code",
   "execution_count": 31,
   "metadata": {},
   "outputs": [
    {
     "output_type": "stream",
     "name": "stdout",
     "text": [
      "4\n"
     ]
    },
    {
     "output_type": "execute_result",
     "data": {
      "text/plain": [
       "3"
      ]
     },
     "metadata": {},
     "execution_count": 31
    }
   ],
   "source": [
    "a[0] + a[2]             \n",
    "print(a[0] + a[2])             #0번째 요소와 2번째 요소의 합\n",
    "a[-1]                          #맨 마지막 인덱스"
   ]
  },
  {
   "source": [
    "### 좀 더 복잡한 list"
   ],
   "cell_type": "markdown",
   "metadata": {}
  },
  {
   "cell_type": "code",
   "execution_count": 32,
   "metadata": {},
   "outputs": [
    {
     "output_type": "stream",
     "name": "stdout",
     "text": [
      "1\n['a', 'b', 'c']\n"
     ]
    },
    {
     "output_type": "execute_result",
     "data": {
      "text/plain": [
       "['a', 'b', 'c']"
      ]
     },
     "metadata": {},
     "execution_count": 32
    }
   ],
   "source": [
    "# 좀 더 복잡한 list\n",
    "a = [1, 2, 3, ['a', 'b', 'c']]\n",
    "a[0]             #0번째 요소\n",
    "print(a[0])\n",
    "\n",
    "a[3]             #3번째 요소\n",
    "print(a[3])\n",
    "#3번째 요소가 ['a', 'b', 'c']이기 때문에 a[3]을 출력하면 ['a', 'b', 'c']가 출력\n",
    "\n",
    "a[-1]            #맨 마지막 요소\n",
    "#맨 마지막 요소가 ['a, 'b', 'c']이기 때문에 a[-1]을 출력하면 ['a', 'b', 'c']가 출력"
   ]
  },
  {
   "cell_type": "code",
   "execution_count": 33,
   "metadata": {},
   "outputs": [
    {
     "output_type": "error",
     "ename": "TypeError",
     "evalue": "unsupported operand type(s) for +: 'int' and 'list'",
     "traceback": [
      "\u001b[1;31m---------------------------------------------------------------------------\u001b[0m",
      "\u001b[1;31mTypeError\u001b[0m                                 Traceback (most recent call last)",
      "\u001b[1;32m<ipython-input-33-e6f4bd56be6b>\u001b[0m in \u001b[0;36m<module>\u001b[1;34m\u001b[0m\n\u001b[1;32m----> 1\u001b[1;33m \u001b[0ma\u001b[0m\u001b[1;33m[\u001b[0m\u001b[1;36m0\u001b[0m\u001b[1;33m]\u001b[0m \u001b[1;33m+\u001b[0m \u001b[0ma\u001b[0m\u001b[1;33m[\u001b[0m\u001b[1;33m-\u001b[0m\u001b[1;36m1\u001b[0m\u001b[1;33m]\u001b[0m\u001b[1;33m\u001b[0m\u001b[1;33m\u001b[0m\u001b[0m\n\u001b[0m",
      "\u001b[1;31mTypeError\u001b[0m: unsupported operand type(s) for +: 'int' and 'list'"
     ]
    }
   ],
   "source": [
    "a[0] + a[-1]  \n",
    "# 0번째 요소: 정수 1, 맨 마지막 요소: 문자열 list => 서로 데이터 구조가 다르기 때문에 더할 수 없습니다.  "
   ]
  },
  {
   "source": [
    "### Indexing inner list"
   ],
   "cell_type": "markdown",
   "metadata": {}
  },
  {
   "cell_type": "code",
   "execution_count": 35,
   "metadata": {},
   "outputs": [
    {
     "output_type": "stream",
     "name": "stdout",
     "text": [
      "a\nc\n"
     ]
    }
   ],
   "source": [
    "# Indexing inner list\n",
    "\n",
    "a[-1][0]               #a[-1][0] : 전체 리스트의 맨 마지막 요소 => 문자열 리스트(맨 마지막 요소)에서 0번째 요소\n",
    "print(a[-1][0])\n",
    "a[-1][-1]\n",
    "print(a[-1][-1])       #a[-1][-1] =>전체 리스트의 맨 마지막 요소 => 문자열 리스트(맨 마지막 요소)에서 맨 마지막 요소"
   ]
  },
  {
   "source": [
    "## Indexing of triple list\n",
    "### 삼중 리스트에서 인뎅싱 하기"
   ],
   "cell_type": "markdown",
   "metadata": {}
  },
  {
   "cell_type": "code",
   "execution_count": 36,
   "metadata": {},
   "outputs": [
    {
     "output_type": "stream",
     "name": "stdout",
     "text": [
      "['a', 'b', ['Life', 'is']]\n['Life', 'is']\nLife\n"
     ]
    }
   ],
   "source": [
    "# Indexing of triple list\n",
    "# 삼중 리스트에서 인뎅싱 하기\n",
    "\n",
    "a = [1, 2, ['a', 'b', ['Life', 'is']]]\n",
    "\n",
    "a[2]              # 전체 리스트에서 2번째 요소 => ['a', 'b', ['Life', 'is']] 출력\n",
    "print(a[2])\n",
    "\n",
    "a[2][-1]          #a[2][-1] : 전체 리스트의 2번째 요소 ['a', 'b', ['Life', 'is']]에서 맨 마지막 요소 출력\n",
    "print(a[2][-1])\n",
    "\n",
    "a[2][-1][0]     \n",
    "print(a[2][-1][0])                 \n",
    "#a[2][-1][0] : 전체 리스트의 2번째 요소 ['a', 'b', ['Life', 'is']]에서 맨 마지막 요소 ['Life', is']에서 0번째 요소 출력"
   ]
  },
  {
   "source": [
    "### 리스트의 슬라이싱"
   ],
   "cell_type": "markdown",
   "metadata": {}
  },
  {
   "cell_type": "code",
   "execution_count": 39,
   "metadata": {},
   "outputs": [
    {
     "output_type": "stream",
     "name": "stdout",
     "text": [
      "[1, 2]\n12\n[1, 2]\n[3, 4, 5]\n[1, 3]\n"
     ]
    }
   ],
   "source": [
    "# 리스트의 슬라이싱\n",
    "\n",
    "a = [1, 2, 3, 4, 5]\n",
    "a[0:2]              #a[0:2] => 0번째 요소부터 2번째 요소 앞(1번째 요소)까지 출력\n",
    "print(a[0:2])\n",
    "\n",
    "a = \"12345\"         #문자열에서는 개개인의 문자가 각각의 요소가 됩니다.\n",
    "a[0:2]              #a[0:2] => 문자열 0번째 요소부터 2번째 요소 앞까지 출력\n",
    "print(a[0:2])       #0번째 요소: 1, 1번째 요소: 2\n",
    "\n",
    "a = [1, 2, 3, 4, 5]\n",
    "a[0:2]              #a[0:2] => 0번째 요소부터 2번째 요소 앞까지 출력\n",
    "print(a[0:2])\n",
    "\n",
    "a[2:]               #a[2:] => 2번째 요소부터 맨 마지막 요소까지 출력\n",
    "print(a[2:])\n",
    "\n",
    "a[0:4:2]           #a[start:end:step] , a[0:4:2] => 0번째 요소부터 4번째 요소 앞까지 출력하되 2개씩 뛰어넘어서 출력\n",
    "print(a[0:4:2])"
   ]
  },
  {
   "source": [
    "### 중첩된 리스트에서 슬라이싱하기"
   ],
   "cell_type": "markdown",
   "metadata": {}
  },
  {
   "cell_type": "code",
   "execution_count": 41,
   "metadata": {},
   "outputs": [
    {
     "output_type": "stream",
     "name": "stdout",
     "text": [
      "[3, ['a', 'b', 'c'], 4]\n['a', 'b']\n"
     ]
    }
   ],
   "source": [
    "# 중첩된 리스트에서 슬라이싱하기\n",
    "\n",
    "a = [1, 2, 3, ['a', 'b', 'c'], 4, 5]\n",
    "\n",
    "a[2:5]           # a[2:5] -> 2번째 요소부터 5번째 요소 앞(4번째 요소)까지 출력\n",
    "print(a[2:5])    #[3, ['a', 'b', 'c'], 4] 출력\n",
    "\n",
    " \n",
    "a[3][:2]         # a[3][:2] -> 전체 list의 3번째 요소 ['a', 'b', 'c']에서 맨 처음부터 2번째 요소 앞(1번째 요소)까지 출력\n",
    "print(a[3][:2])  #['a', 'b'] 출력"
   ]
  },
  {
   "source": [
    "### 리스트: 인덱싱, 슬라이싱 연습"
   ],
   "cell_type": "markdown",
   "metadata": {}
  },
  {
   "cell_type": "code",
   "execution_count": 2,
   "metadata": {},
   "outputs": [
    {
     "output_type": "stream",
     "name": "stdout",
     "text": [
      "[1, 2, 3]\n[4, 5, 6, 7, 8, 9]\n[1, 2, 3, 4, 5, 6]\n[1, 3, 5]\n9\n7\n[1, 2, 3, 4, 5, 6]\n[9, 8, 7, 6, 5, 4, 3, 2, 1]\n[7, 6, 5, 4, 3, 2, 1]\n"
     ]
    }
   ],
   "source": [
    "# 리스트: 인덱싱, 슬라이싱 연습\n",
    "\n",
    "x = [1, 2, 3, 4, 5, 6, 7, 8, 9]\n",
    "print(x[0:3])   # x[0:3] -> 0번째 요소부터 3번째 요소 앞(2번째 요소)까지 출력  \n",
    "                #[1,2,3] 출력\n",
    "\n",
    "print(x[3:])    # x[3:]  -> 3번째 요소부터 맨 마지막 요소까지 출력   \n",
    "                #[4,5,6,7,8,9] 출력\n",
    "\n",
    "\n",
    "print(x[:6])    # x[:6]  -> 맨 앞에 요소부터 6번째 요소 앞(5번째 요소)까지 출력\n",
    "                #[1,2,3,4,5,6] 출력\n",
    "\n",
    "\n",
    "print(x[0:6:2])  # x[0:6:2] -> 0번째 요소부터 6번째 요소 앞(5번째 요소)까지 출력하되 2개씩 뛰어넘어서 출력\n",
    "                 #[1,3,5] 출력\n",
    "\n",
    "\n",
    "print(x[-1])     # x[-1] -> 맨 마지막 요소 출력\n",
    "                 #9 출력\n",
    "\n",
    "\n",
    "print(x[-3])     # x[-3] -> 맨 마지막에서 3번째 요소 출력 \n",
    "                 #7 출력\n",
    "\n",
    "\n",
    "print(x[:-3])    # x[:-3] -> 맨 앞에 요소부터 맨 마지막에서 3번째 요소 앞(맨 마지막에서 4번째 요소) 출력\n",
    "                 #[1,2,3,4,5,6]\n",
    "\n",
    "\n",
    "print(x[::-1])   # x[::-1] -> 순서를 바꿔서 맨 마지막 요소부터 맨 앞 요소까지 출력\n",
    "                 #[9,7,8,6,5,4,3,2,1]\n",
    "\n",
    "\n",
    "print(x[-3::-1])  # x[-3::-1] -> 순서를 바꿔서 맨 마지막에서 3번째 요소부터 맨 앞 요소까지 출력\n",
    "                  #[7,6,5,4,3,2,1]"
   ]
  },
  {
   "source": [
    "### 리스트 : 리스트 연산하기"
   ],
   "cell_type": "markdown",
   "metadata": {}
  },
  {
   "cell_type": "code",
   "execution_count": 3,
   "metadata": {},
   "outputs": [
    {
     "output_type": "stream",
     "name": "stdout",
     "text": [
      "[1, 2, 3, 4, 5, 6]\n"
     ]
    }
   ],
   "source": [
    "# 리스트 더하기(+)\n",
    "\n",
    "a = [1, 2, 3]\n",
    "b = [4, 5, 6]\n",
    "print(a+b)     # 각각의 리스트를 더하면 각각의 항목들이 서로 서로 확장이 되는 구조로 리스트가 커집니다. "
   ]
  },
  {
   "cell_type": "code",
   "execution_count": 4,
   "metadata": {},
   "outputs": [
    {
     "output_type": "stream",
     "name": "stdout",
     "text": [
      "[1, 2, 3, 1, 2, 3, 1, 2, 3]\n"
     ]
    }
   ],
   "source": [
    "# 리스트 반복하기(*)\n",
    "\n",
    "a = [1, 2, 3]\n",
    "print(a*3)      # a라는 리스트가 3번 반복됩니다. "
   ]
  },
  {
   "cell_type": "code",
   "execution_count": 6,
   "metadata": {},
   "outputs": [
    {
     "output_type": "stream",
     "name": "stdout",
     "text": [
      "3\n"
     ]
    }
   ],
   "source": [
    "# 리스트의 길이 구하기\n",
    "\n",
    "a = [1, 2, 3]   # 리스트의 길이를 구하는 함수 : len()\n",
    "print(len(a))   # len() 함수는 리스트의 항목의 갯수를 출력해 줍니다."
   ]
  },
  {
   "cell_type": "code",
   "execution_count": 20,
   "metadata": {},
   "outputs": [
    {
     "output_type": "error",
     "ename": "TypeError",
     "evalue": "unsupported operand type(s) for +: 'int' and 'str'",
     "traceback": [
      "\u001b[1;31m---------------------------------------------------------------------------\u001b[0m",
      "\u001b[1;31mTypeError\u001b[0m                                 Traceback (most recent call last)",
      "\u001b[1;32m<ipython-input-20-0be058ce94ec>\u001b[0m in \u001b[0;36m<module>\u001b[1;34m\u001b[0m\n\u001b[0;32m      2\u001b[0m \u001b[1;33m\u001b[0m\u001b[0m\n\u001b[0;32m      3\u001b[0m \u001b[0ma\u001b[0m \u001b[1;33m=\u001b[0m \u001b[1;33m[\u001b[0m\u001b[1;36m1\u001b[0m\u001b[1;33m,\u001b[0m \u001b[1;36m2\u001b[0m\u001b[1;33m,\u001b[0m \u001b[1;36m3\u001b[0m\u001b[1;33m]\u001b[0m\u001b[1;33m\u001b[0m\u001b[1;33m\u001b[0m\u001b[0m\n\u001b[1;32m----> 4\u001b[1;33m \u001b[0ma\u001b[0m\u001b[1;33m[\u001b[0m\u001b[1;36m2\u001b[0m\u001b[1;33m]\u001b[0m \u001b[1;33m+\u001b[0m \u001b[1;34m\"hi\"\u001b[0m\u001b[1;33m\u001b[0m\u001b[1;33m\u001b[0m\u001b[0m\n\u001b[0m\u001b[0;32m      5\u001b[0m \u001b[1;33m\u001b[0m\u001b[0m\n\u001b[0;32m      6\u001b[0m \u001b[1;31m# a는 정수로 된 리스트이고, 'hi'는 문자열인데 더하기 연산에서는 정수와 문자열을 더할 수 없기 때문에 Error가 뜹니다.\u001b[0m\u001b[1;33m\u001b[0m\u001b[1;33m\u001b[0m\u001b[1;33m\u001b[0m\u001b[0m\n",
      "\u001b[1;31mTypeError\u001b[0m: unsupported operand type(s) for +: 'int' and 'str'"
     ]
    }
   ],
   "source": [
    "# 초보자가 범하기 쉬운 리스트 연산 오류\n",
    "\n",
    "a = [1, 2, 3]\n",
    "a[2] + \"hi\"      \n",
    "\n",
    "# a는 정수로 된 리스트이고, 'hi'는 문자열인데 더하기 연산에서는 정수와 문자열을 더할 수 없기 때문에 Error가 뜹니다."
   ]
  },
  {
   "cell_type": "code",
   "execution_count": 9,
   "metadata": {},
   "outputs": [
    {
     "output_type": "execute_result",
     "data": {
      "text/plain": [
       "'3hi'"
      ]
     },
     "metadata": {},
     "execution_count": 9
    }
   ],
   "source": [
    "# 위에서의 제대로 된 리스트 연산\n",
    "\n",
    "a = [1, 2, 3]\n",
    "str(a[2]) + \"hi\"\n",
    "\n",
    "#2번째 요소인 3을 문자열 \"hi\"와 더하려면 숫자를 문자열로 바꿔주는 str() 함수를 a[2]에 씌워서 더해줍니다. "
   ]
  },
  {
   "source": [
    "### 리스트 수정과 삭제"
   ],
   "cell_type": "markdown",
   "metadata": {}
  },
  {
   "cell_type": "code",
   "execution_count": 12,
   "metadata": {},
   "outputs": [
    {
     "output_type": "stream",
     "name": "stdout",
     "text": [
      "[1, 2, 4]\n"
     ]
    }
   ],
   "source": [
    "# 리스트 수정\n",
    "\n",
    "a = [1, 2, 3]  \n",
    "a[2] = 4        # a 리스트의 2번째 요소를 4로 수정\n",
    "print(a)        # a 리스트를 출력하면 2번째 요소가 3이 아닌 4인 것을 확인 가능"
   ]
  },
  {
   "cell_type": "code",
   "execution_count": 13,
   "metadata": {},
   "outputs": [
    {
     "output_type": "stream",
     "name": "stdout",
     "text": [
      "[1, 3]\n[1, 2]\n"
     ]
    }
   ],
   "source": [
    "# del 함수를 사용해서 리스트 요소 삭제하기\n",
    "\n",
    "a = [1, 2, 3]\n",
    "del a[1]         # 리스트의 1번째 요소 삭제 = 2를 삭제\n",
    "print(a)         # 출력하면 리스트에서 1번째 요소인 2가 삭제된 것을 확인 가능\n",
    "\n",
    "\n",
    "a = [1, 2, 3, 4, 5]  \n",
    "del a[2:]        # 리스트의 2번째 요소부터 맨 마지막 요소까지 삭제\n",
    "print(a)         #출력하면 리스트에서 2번째 요소인 3부터 맨 마지막 요소인 5까지 삭제된 것을 확인 가능 "
   ]
  },
  {
   "source": [
    "## 리스트: 내부 함수 이용"
   ],
   "cell_type": "markdown",
   "metadata": {}
  },
  {
   "source": [
    "### 리스트에 요소 추가(append)"
   ],
   "cell_type": "markdown",
   "metadata": {}
  },
  {
   "cell_type": "code",
   "execution_count": 14,
   "metadata": {},
   "outputs": [
    {
     "output_type": "stream",
     "name": "stdout",
     "text": [
      "[1, 2, 3, 4]\n"
     ]
    }
   ],
   "source": [
    "# 리스트의 요소 추가(append)\n",
    "\n",
    "a = [1, 2, 3]\n",
    "a.append(4)    # list의 요소를 추가할 때는 append 함수를 사용하여 요소를 추가할 수 있습니다.\n",
    "               # a.append(4) -> a 리스트에 4를 추가\n",
    "print(a)       #출력하면 a 리스트에 인덱스가 3(a[3])인 4가 추가된 것을 확인 가능"
   ]
  },
  {
   "cell_type": "code",
   "execution_count": 45,
   "metadata": {},
   "outputs": [
    {
     "output_type": "stream",
     "name": "stdout",
     "text": [
      "[1, 2, 3, 4, [5, 6]]\n"
     ]
    }
   ],
   "source": [
    "# 리스트 안에는 어떤 자료형도 추가할 수 있다.\n",
    "\n",
    "# 리스트에 다시 리스트를 추가한 결과\n",
    "\n",
    "a = [1, 2, 3, 4]\n",
    "a.append([5, 6])      # append 함수를 사용하여 [5, 6] 리스트를 a 리스트에 추가하면 a는 2차원 리스트가 됩니다.\n",
    "                      # a.append([5,6])  -> a 리스트에 [5,6] 리스트를 추가\n",
    "print(a)              #출력하면 a 리스트에 인덱스가 3(a[3])인 [5,6] 리스트가 추가된 것을 확인 가능"
   ]
  },
  {
   "source": [
    "### 리스트 정렬(sort)"
   ],
   "cell_type": "markdown",
   "metadata": {}
  },
  {
   "cell_type": "code",
   "execution_count": 4,
   "metadata": {},
   "outputs": [
    {
     "output_type": "stream",
     "name": "stdout",
     "text": [
      "[1, 2, 3, 4]\n['a', 'b', 'c']\n"
     ]
    }
   ],
   "source": [
    "# 리스트 정렬(sort)\n",
    "# 리스트를 정렬할 때는 sort() 함수를 사용하여 리스틑를 정렬할 수 있습니다. # 오름차순 정렬\n",
    "\n",
    "a =[1, 4, 3, 2]\n",
    "a.sort()            # a = [1, 4, 3, 2]  -> a = [1, 2, 3, 4] \n",
    "print(a)            #출력하면 작은 값부터 큰 값 순으로 리스트가 정렬이 된 것을 확인 가능\n",
    "\n",
    "s = [\"a\", \"c\", \"b\"]  \n",
    "s.sort()            # a = [\"a\", \"c\", \"b\"]  ->  a = [\"a\", \"b\", \"c\"]\n",
    "print(s)            # 출력하면 [\"a\", \"b\", \"c\"]순으로 리스트가 정렬이 된 것을 확인 가능\n"
   ]
  },
  {
   "source": [
    "### 리스트 뒤집기(reverse)"
   ],
   "cell_type": "markdown",
   "metadata": {}
  },
  {
   "cell_type": "code",
   "execution_count": 5,
   "metadata": {},
   "outputs": [
    {
     "output_type": "stream",
     "name": "stdout",
     "text": [
      "['b', 'c', 'a']\n"
     ]
    }
   ],
   "source": [
    "# 리스트 뒤집기(reverse)\n",
    "\n",
    "a = [\"a\", \"c\", \"b\"]\n",
    "a.reverse()            # reverse() 함수를 사용하면 리스트의 순서가 뒤집힙니다. \n",
    "print(a)               #출력하면 a = [\"a\", \"c\", \"b\"]  -> a = [\"b\", \"c\", \"a\"]로 순서가 뒤집힌 것을 확인 가능"
   ]
  },
  {
   "cell_type": "code",
   "execution_count": 6,
   "metadata": {},
   "outputs": [
    {
     "output_type": "stream",
     "name": "stdout",
     "text": [
      "[9, 8, 7, 6, 5, 4, 3, 2, 1]\n"
     ]
    }
   ],
   "source": [
    "# 응용하기(리스트 뒤집기)\n",
    "\n",
    "a = [1, 2, 3, 4, 5, 6, 7, 8, 9]\n",
    "a.reverse()\n",
    "print(a)"
   ]
  },
  {
   "source": [
    "### 위치 반환(index)"
   ],
   "cell_type": "markdown",
   "metadata": {}
  },
  {
   "cell_type": "code",
   "execution_count": 10,
   "metadata": {},
   "outputs": [
    {
     "output_type": "stream",
     "name": "stdout",
     "text": [
      "2\n0\n"
     ]
    },
    {
     "output_type": "error",
     "ename": "ValueError",
     "evalue": "0 is not in list",
     "traceback": [
      "\u001b[1;31m---------------------------------------------------------------------------\u001b[0m",
      "\u001b[1;31mValueError\u001b[0m                                Traceback (most recent call last)",
      "\u001b[1;32m<ipython-input-10-e09a133178bd>\u001b[0m in \u001b[0;36m<module>\u001b[1;34m\u001b[0m\n\u001b[0;32m      6\u001b[0m \u001b[0ma\u001b[0m\u001b[1;33m.\u001b[0m\u001b[0mindex\u001b[0m\u001b[1;33m(\u001b[0m\u001b[1;36m1\u001b[0m\u001b[1;33m)\u001b[0m\u001b[1;33m\u001b[0m\u001b[1;33m\u001b[0m\u001b[0m\n\u001b[0;32m      7\u001b[0m \u001b[0mprint\u001b[0m\u001b[1;33m(\u001b[0m\u001b[0ma\u001b[0m\u001b[1;33m.\u001b[0m\u001b[0mindex\u001b[0m\u001b[1;33m(\u001b[0m\u001b[1;36m1\u001b[0m\u001b[1;33m)\u001b[0m\u001b[1;33m)\u001b[0m\u001b[1;33m\u001b[0m\u001b[1;33m\u001b[0m\u001b[0m\n\u001b[1;32m----> 8\u001b[1;33m \u001b[0ma\u001b[0m\u001b[1;33m.\u001b[0m\u001b[0mindex\u001b[0m\u001b[1;33m(\u001b[0m\u001b[1;36m0\u001b[0m\u001b[1;33m)\u001b[0m\u001b[1;33m\u001b[0m\u001b[1;33m\u001b[0m\u001b[0m\n\u001b[0m\u001b[0;32m      9\u001b[0m \u001b[0mprint\u001b[0m\u001b[1;33m(\u001b[0m\u001b[0ma\u001b[0m\u001b[1;33m.\u001b[0m\u001b[0mindex\u001b[0m\u001b[1;33m(\u001b[0m\u001b[1;36m0\u001b[0m\u001b[1;33m)\u001b[0m\u001b[1;33m)\u001b[0m\u001b[1;33m\u001b[0m\u001b[1;33m\u001b[0m\u001b[0m\n",
      "\u001b[1;31mValueError\u001b[0m: 0 is not in list"
     ]
    }
   ],
   "source": [
    "# 위치 반환(index)\n",
    "# index()는 리스트에 있는 값의 인덱스를 출력 \n",
    "\n",
    "a = [1, 2, 3]\n",
    "a.index(3)      # a.index(3)은 a 리스트의 3이라는 값의 인덱스를 출력\n",
    "                # 3은 2번째 요소(인덱스 2 = a[2])\n",
    "print(a.index(3))\n",
    "\n",
    "a.index(1)      # a.index(1)은 a 리스트의 1이라는 값의 인덱스를 출력\n",
    "                # 1은 0번째 요소(인덱스 2 = a[2])\n",
    "print(a.index(1))\n",
    "\n",
    "a.index(0)      # a.index(0)은 a 리스트의 0이라는 값의 인덱스를 출력\n",
    "                # 0은 리스트에 존재하지 않기 때문에 출력하면 Error가 뜹니다. \n",
    "print(a.index(0))"
   ]
  },
  {
   "cell_type": "code",
   "execution_count": 12,
   "metadata": {},
   "outputs": [
    {
     "output_type": "error",
     "ename": "ValueError",
     "evalue": "3 is not in list",
     "traceback": [
      "\u001b[1;31m---------------------------------------------------------------------------\u001b[0m",
      "\u001b[1;31mValueError\u001b[0m                                Traceback (most recent call last)",
      "\u001b[1;32m<ipython-input-12-fbbe94c3748f>\u001b[0m in \u001b[0;36m<module>\u001b[1;34m\u001b[0m\n\u001b[0;32m      3\u001b[0m \u001b[0ms\u001b[0m \u001b[1;33m=\u001b[0m \u001b[1;33m[\u001b[0m\u001b[1;34m\"a\"\u001b[0m\u001b[1;33m,\u001b[0m \u001b[1;34m\"b\"\u001b[0m\u001b[1;33m,\u001b[0m \u001b[1;34m\"c\"\u001b[0m\u001b[1;33m]\u001b[0m\u001b[1;33m\u001b[0m\u001b[1;33m\u001b[0m\u001b[0m\n\u001b[0;32m      4\u001b[0m \u001b[1;33m\u001b[0m\u001b[0m\n\u001b[1;32m----> 5\u001b[1;33m \u001b[0ms\u001b[0m\u001b[1;33m.\u001b[0m\u001b[0mindex\u001b[0m\u001b[1;33m(\u001b[0m\u001b[1;36m3\u001b[0m\u001b[1;33m)\u001b[0m            \u001b[1;31m# s.index(3)은 s list의 3이라는 값의 인덱스를 출력\u001b[0m\u001b[1;33m\u001b[0m\u001b[1;33m\u001b[0m\u001b[0m\n\u001b[0m\u001b[0;32m      6\u001b[0m                       \u001b[1;31m# 3은 list에 존재하지 않기 때문에 출력하면 Error가 뜹니다.\u001b[0m\u001b[1;33m\u001b[0m\u001b[1;33m\u001b[0m\u001b[1;33m\u001b[0m\u001b[0m\n\u001b[0;32m      7\u001b[0m \u001b[0mprint\u001b[0m\u001b[1;33m(\u001b[0m\u001b[0ms\u001b[0m\u001b[1;33m.\u001b[0m\u001b[0mindex\u001b[0m\u001b[1;33m(\u001b[0m\u001b[1;36m3\u001b[0m\u001b[1;33m)\u001b[0m\u001b[1;33m)\u001b[0m\u001b[1;33m\u001b[0m\u001b[1;33m\u001b[0m\u001b[0m\n",
      "\u001b[1;31mValueError\u001b[0m: 3 is not in list"
     ]
    }
   ],
   "source": [
    "# 위치 반환(index)  #Error\n",
    "\n",
    "s = [\"a\", \"b\", \"c\"]\n",
    "\n",
    "s.index(3)            # s.index(3)은 s 리스트의 3이라는 값의 인덱스를 출력\n",
    "                      # 3은 리스트에 존재하지 않기 때문에 출력하면 Error가 뜹니다. \n",
    "print(s.index(3))"
   ]
  },
  {
   "cell_type": "code",
   "execution_count": 15,
   "metadata": {},
   "outputs": [
    {
     "output_type": "error",
     "ename": "ValueError",
     "evalue": "[1, 2, 3] is not in list",
     "traceback": [
      "\u001b[1;31m---------------------------------------------------------------------------\u001b[0m",
      "\u001b[1;31mValueError\u001b[0m                                Traceback (most recent call last)",
      "\u001b[1;32m<ipython-input-15-dbe3a4c80f97>\u001b[0m in \u001b[0;36m<module>\u001b[1;34m\u001b[0m\n\u001b[0;32m      1\u001b[0m \u001b[1;31m# 위치 반환(index)  #Error\u001b[0m\u001b[1;33m\u001b[0m\u001b[1;33m\u001b[0m\u001b[1;33m\u001b[0m\u001b[0m\n\u001b[0;32m      2\u001b[0m \u001b[1;33m\u001b[0m\u001b[0m\n\u001b[1;32m----> 3\u001b[1;33m \u001b[0ms\u001b[0m\u001b[1;33m.\u001b[0m\u001b[0mindex\u001b[0m\u001b[1;33m(\u001b[0m\u001b[0ma\u001b[0m\u001b[1;33m)\u001b[0m            \u001b[1;31m# s.index(a)은 s list의 a = [1, 2, 3]이라는 값의 인덱스를 출력\u001b[0m\u001b[1;33m\u001b[0m\u001b[1;33m\u001b[0m\u001b[0m\n\u001b[0m\u001b[0;32m      4\u001b[0m                       \u001b[1;31m# a는 list에 존재하지 않기 때문에 출력하면 Error가 뜹니다.\u001b[0m\u001b[1;33m\u001b[0m\u001b[1;33m\u001b[0m\u001b[1;33m\u001b[0m\u001b[0m\n\u001b[0;32m      5\u001b[0m \u001b[0mprint\u001b[0m\u001b[1;33m(\u001b[0m\u001b[0ms\u001b[0m\u001b[1;33m.\u001b[0m\u001b[0mindex\u001b[0m\u001b[1;33m(\u001b[0m\u001b[0ma\u001b[0m\u001b[1;33m)\u001b[0m\u001b[1;33m)\u001b[0m\u001b[1;33m\u001b[0m\u001b[1;33m\u001b[0m\u001b[0m\n",
      "\u001b[1;31mValueError\u001b[0m: [1, 2, 3] is not in list"
     ]
    }
   ],
   "source": [
    "# 위치 반환(index)  #Error\n",
    "\n",
    "s.index(a)            # s.index(a)은 s 리스트의 a = [1, 2, 3]이라는 값의 인덱스를 출력\n",
    "                      # a는 리스트에 존재하지 않기 때문에 출력하면 Error가 뜹니다. \n",
    "print(s.index(a))"
   ]
  },
  {
   "cell_type": "code",
   "execution_count": 16,
   "metadata": {},
   "outputs": [
    {
     "output_type": "stream",
     "name": "stdout",
     "text": [
      "0\n"
     ]
    }
   ],
   "source": [
    "# 위치 반환(index)  #문자열\n",
    "s = [\"a\", \"b\", \"c\"]\n",
    "\n",
    "s.index(\"a\")         # s.index(\"a\")는 s 리스트의 문자열 \"a\"라는 값의 인덱스를 출력\n",
    "                     # \"a\"는 0번째 요소(인덱스 0 = s[0])\n",
    "print(s.index(\"a\"))"
   ]
  },
  {
   "source": [
    "### 리스트에 요소 삽입(insert)"
   ],
   "cell_type": "markdown",
   "metadata": {}
  },
  {
   "cell_type": "code",
   "execution_count": 18,
   "metadata": {},
   "outputs": [
    {
     "output_type": "stream",
     "name": "stdout",
     "text": [
      "[4, 1, 2, 3]\n[4, 1, 2, 5, 3]\n"
     ]
    }
   ],
   "source": [
    "# 리스트에 요소 삽입(insert)\n",
    "# 리스트에 요소를 삽입할려면 insert() 함수를 사용하여 리스트에 요소를 삽입한다.\n",
    " \n",
    "a = [1, 2, 3]\n",
    "a.insert(0, 4)   # a.insert(0, 4)  ->  인덱스 0번에 4를 삽입\n",
    "print(a)         # 출력하면 a 리스트는 a = [4, 1, 2, 3]으로 바뀐 것을 확인 가능\n",
    "\n",
    "a.insert(3, 5)   # a.insert(3, 5)   -> 인덱스 3번에 5를 삽입\n",
    "print(a)         # 출력하면 a 리스트는 a = [4, 1, 2, 5, 3]으로 바뀐 것을 확인 가능"
   ]
  },
  {
   "source": [
    "### 리스트 요소 제거(remove)"
   ],
   "cell_type": "markdown",
   "metadata": {}
  },
  {
   "cell_type": "code",
   "execution_count": 22,
   "metadata": {},
   "outputs": [
    {
     "output_type": "stream",
     "name": "stdout",
     "text": [
      "[1, 2, 1, 2, 3]\n[1, 2, 1, 2]\n"
     ]
    },
    {
     "output_type": "error",
     "ename": "ValueError",
     "evalue": "list.remove(x): x not in list",
     "traceback": [
      "\u001b[1;31m---------------------------------------------------------------------------\u001b[0m",
      "\u001b[1;31mValueError\u001b[0m                                Traceback (most recent call last)",
      "\u001b[1;32m<ipython-input-22-7ff210f80f29>\u001b[0m in \u001b[0;36m<module>\u001b[1;34m\u001b[0m\n\u001b[0;32m     11\u001b[0m \u001b[1;33m\u001b[0m\u001b[0m\n\u001b[0;32m     12\u001b[0m \u001b[1;31m#Error\u001b[0m\u001b[1;33m\u001b[0m\u001b[1;33m\u001b[0m\u001b[1;33m\u001b[0m\u001b[0m\n\u001b[1;32m---> 13\u001b[1;33m \u001b[0ma\u001b[0m\u001b[1;33m.\u001b[0m\u001b[0mremove\u001b[0m\u001b[1;33m(\u001b[0m\u001b[1;36m3\u001b[0m\u001b[1;33m)\u001b[0m\u001b[1;33m\u001b[0m\u001b[1;33m\u001b[0m\u001b[0m\n\u001b[0m\u001b[0;32m     14\u001b[0m \u001b[0mprint\u001b[0m\u001b[1;33m(\u001b[0m\u001b[0ma\u001b[0m\u001b[1;33m)\u001b[0m\u001b[1;33m\u001b[0m\u001b[1;33m\u001b[0m\u001b[0m\n",
      "\u001b[1;31mValueError\u001b[0m: list.remove(x): x not in list"
     ]
    }
   ],
   "source": [
    "# 리스트 요소 제거(remove)\n",
    "#\n",
    "a = [1, 2, 3, 1, 2, 3]\n",
    "a.remove(3)        # a 리스트에서 먼저 나온 3을 제거\n",
    "print(a)           #출력하면 먼저 나와있던 3이 제거된 것을 확인 가능\n",
    "                   \n",
    "                   \n",
    "#3을 리스트 a에서 완전히 제거\n",
    "a.remove(3)         # a 리스트에서 맨 마지막에 있는 3을 제거\n",
    "print(a)            #출력하면 맨 마지막에 있던 3이 제거된 것을 확인 가능\n",
    "\n",
    "#Error\n",
    "a.remove(3)         # a 리스트에는 더 이상 제거할 3이 없기 때문에 Error가 뜹니다. \n",
    "print(a)"
   ]
  },
  {
   "source": [
    "### pop() 함수"
   ],
   "cell_type": "markdown",
   "metadata": {}
  },
  {
   "cell_type": "code",
   "execution_count": 29,
   "metadata": {},
   "outputs": [
    {
     "output_type": "stream",
     "name": "stdout",
     "text": [
      "3\n[1, 2]\n"
     ]
    }
   ],
   "source": [
    "# pop()은 리스트의 맨 마지막 요소를 돌려주고 그 요소는 삭제한다.\n",
    "\n",
    "a = [1, 2, 3]\n",
    "print(a.pop())      # a.pop()  -> 맨 마지막 요소인 3을 출력\n",
    "print(a)            # a 리스트에는 맨 마지막 요소인 3이 제거된 a = [1,2]가 출력"
   ]
  },
  {
   "cell_type": "code",
   "execution_count": 35,
   "metadata": {},
   "outputs": [
    {
     "output_type": "stream",
     "name": "stdout",
     "text": [
      "2\n[1, 3]\n"
     ]
    }
   ],
   "source": [
    "# pop(x)는 리스트의 index가 x인 요소를 돌려주고 그 요소는 삭제한다.\n",
    "\n",
    "a = [1, 2, 3]\n",
    "print(a.pop(1))     # a.pop(1)  -> 1번째 요소인 2를 출력\n",
    "print(a)            # a 리스트에는 1번째 요소인 2가 제거된 a = [1,3]이 출력"
   ]
  },
  {
   "cell_type": "code",
   "execution_count": 36,
   "metadata": {},
   "outputs": [
    {
     "output_type": "error",
     "ename": "IndexError",
     "evalue": "pop index out of range",
     "traceback": [
      "\u001b[1;31m---------------------------------------------------------------------------\u001b[0m",
      "\u001b[1;31mIndexError\u001b[0m                                Traceback (most recent call last)",
      "\u001b[1;32m<ipython-input-36-d356183500b1>\u001b[0m in \u001b[0;36m<module>\u001b[1;34m\u001b[0m\n\u001b[0;32m      1\u001b[0m \u001b[1;31m# pop(x)는 리스트의 index가 x인 요소를 돌려주고 그 요소는 삭제한다.  #Error\u001b[0m\u001b[1;33m\u001b[0m\u001b[1;33m\u001b[0m\u001b[1;33m\u001b[0m\u001b[0m\n\u001b[0;32m      2\u001b[0m \u001b[0ma\u001b[0m \u001b[1;33m=\u001b[0m \u001b[1;33m[\u001b[0m\u001b[1;36m1\u001b[0m\u001b[1;33m,\u001b[0m \u001b[1;36m3\u001b[0m\u001b[1;33m]\u001b[0m\u001b[1;33m\u001b[0m\u001b[1;33m\u001b[0m\u001b[0m\n\u001b[1;32m----> 3\u001b[1;33m \u001b[0mprint\u001b[0m\u001b[1;33m(\u001b[0m\u001b[0ma\u001b[0m\u001b[1;33m.\u001b[0m\u001b[0mpop\u001b[0m\u001b[1;33m(\u001b[0m\u001b[1;36m2\u001b[0m\u001b[1;33m)\u001b[0m\u001b[1;33m)\u001b[0m\u001b[1;33m\u001b[0m\u001b[1;33m\u001b[0m\u001b[0m\n\u001b[0m\u001b[0;32m      4\u001b[0m \u001b[0mprint\u001b[0m\u001b[1;33m(\u001b[0m\u001b[0ma\u001b[0m\u001b[1;33m)\u001b[0m\u001b[1;33m\u001b[0m\u001b[1;33m\u001b[0m\u001b[0m\n",
      "\u001b[1;31mIndexError\u001b[0m: pop index out of range"
     ]
    }
   ],
   "source": [
    "# pop(x)는 리스트의 index가 x인 요소를 돌려주고 그 요소는 삭제한다.  #Error\n",
    "a = [1, 3]\n",
    "print(a.pop(2))     # a.pop(2)  -> 2번째 요소가 리스트에 없기 때문에 Error가 뜹니다.\n",
    "print(a)            "
   ]
  },
  {
   "source": [
    "### 리스트에 포함된 요소 x의 개수 세기(count)"
   ],
   "cell_type": "markdown",
   "metadata": {}
  },
  {
   "cell_type": "code",
   "execution_count": 37,
   "metadata": {},
   "outputs": [
    {
     "output_type": "execute_result",
     "data": {
      "text/plain": [
       "2"
      ]
     },
     "metadata": {},
     "execution_count": 37
    }
   ],
   "source": [
    "# 리스트에 포함된 요소 x의 개수 세기(count)\n",
    "#() 안에는 데이터 형에 맞게 값을 넣어줘야 합니다.\n",
    "\n",
    "a = [1, 2, 3, 1]\n",
    "a.count(1)          #a 리스트에는 1이 2개 있기 때문에 2가 출력되는 것을 확인 가능"
   ]
  },
  {
   "cell_type": "code",
   "execution_count": 41,
   "metadata": {},
   "outputs": [
    {
     "output_type": "stream",
     "name": "stdout",
     "text": [
      "0\n3\n"
     ]
    }
   ],
   "source": [
    "# 리스트에 포함된 요소 x의 개수 세기(count)  #응용하기\n",
    "\n",
    "s = ['a', 'b', 'c', 'd','e', 'a', 'c', 'a']\n",
    "\n",
    "print(s.count(a))       \n",
    "#a = [1, 2, 3, 1]이고, s 리스트 안에는 [1, 2, 3, 1]이 들어있지 않기 때문에 0이 출력되는 것을 확인 가능 \n",
    "\n",
    "print(s.count('a'))   \n",
    "# s 리스트에는 문자열 'a'가 3개 있기 때문에 3이 출력되는 것을 확인 가능 "
   ]
  },
  {
   "source": [
    "### 리스트 확장(extend)"
   ],
   "cell_type": "markdown",
   "metadata": {}
  },
  {
   "cell_type": "code",
   "execution_count": 43,
   "metadata": {},
   "outputs": [
    {
     "output_type": "stream",
     "name": "stdout",
     "text": [
      "[1, 2, 3, 4, 5]\n[1, 2, 3, 4, 5, 6, 7]\n"
     ]
    }
   ],
   "source": [
    "# 리스트 확장(extend)\n",
    "\n",
    "a = [1, 2, 3]\n",
    "a.extend([4, 5])   #a가 5개 요소를 가진 리스트로 확장\n",
    "print(a)           #출력하면 a = [1, 2, 3, 4, 5]가 출력이 되는 것을 확인 가능\n",
    "\n",
    "b = [6, 7]\n",
    "a.extend(b)        #b가 리스트임에도 불구하고 요소별로 따로 떼어내서 확장\n",
    "print(a)           #출력하면 a = [1, 2, 3, 4, 5, 6, 7]가 출력이 되는 것을 확인 가능"
   ]
  }
 ]
}