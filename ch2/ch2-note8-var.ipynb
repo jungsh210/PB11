{
 "metadata": {
  "language_info": {
   "codemirror_mode": {
    "name": "ipython",
    "version": 3
   },
   "file_extension": ".py",
   "mimetype": "text/x-python",
   "name": "python",
   "nbconvert_exporter": "python",
   "pygments_lexer": "ipython3",
   "version": "3.8.5"
  },
  "orig_nbformat": 2,
  "kernelspec": {
   "name": "python385jvsc74a57bd026598d298f606742902e7db6923386a3ef646e73a5b0858c7991afae3a0b0a54",
   "display_name": "Python 3.8.5 64-bit ('base': conda)"
  }
 },
 "nbformat": 4,
 "nbformat_minor": 2,
 "cells": [
  {
   "source": [
    "# ch2-note8-variable.ipynb by PB11"
   ],
   "cell_type": "markdown",
   "metadata": {}
  },
  {
   "source": [
    "## 변수: 변수란?\n",
    "- 변수는 자료(값)을 저장하는 공간이다.\n",
    "- 변수 종류\n",
    "- 1) 정수, 실수(numeric)\n",
    "- 2) 문자열(string)\n",
    "- 3) 리스트(list)\n",
    "- 4) 튜플(tuple)\n",
    "- 5) 딕셔너리(dictionary)\n",
    "- 6) set\n",
    "- 7) bool"
   ],
   "cell_type": "markdown",
   "metadata": {}
  },
  {
   "cell_type": "code",
   "execution_count": 2,
   "metadata": {},
   "outputs": [
    {
     "output_type": "stream",
     "name": "stdout",
     "text": [
      "<class 'list'>\n1475159503872\n"
     ]
    }
   ],
   "source": [
    "# a라는 변수에 어떤 값이 들어갈 때 a의 데이터타입이 결정이 되는 동격 데이터 지정 구조로 파이썬은 동작합니다.\n",
    "\n",
    "a = [1, 2, 3]   \n",
    "print(type(a))\n",
    "print(id(a))     # a 변수가 가리키는 메모리의 주소(사용자마다 다름)"
   ]
  },
  {
   "cell_type": "code",
   "execution_count": 5,
   "metadata": {},
   "outputs": [
    {
     "output_type": "stream",
     "name": "stdout",
     "text": [
      "1475159256576\n1475159261312\nTrue\n"
     ]
    },
    {
     "output_type": "execute_result",
     "data": {
      "text/plain": [
       "(1475159256576, 1475159256576)"
      ]
     },
     "metadata": {},
     "execution_count": 5
    }
   ],
   "source": [
    "# list\n",
    "a = [1, 2, 3]    # 똑같은 값을 a 변수에 넣어도 주소는 달라집니다. \n",
    "print(id(a))\n",
    "\n",
    "b = [1, 2, 3]\n",
    "print(id(b))\n",
    "\n",
    "print(a == b) \n",
    "# 주소는 달라도 변수 안에 들어있는 값은 똑같기 때문에 True\n",
    "\n",
    "b = a            # b에 a를 대입하면 같은 주소를 공유합니다.\n",
    "print(id(a), id(b))"
   ]
  },
  {
   "cell_type": "code",
   "execution_count": 6,
   "metadata": {},
   "outputs": [
    {
     "output_type": "stream",
     "name": "stdout",
     "text": [
      "True\n"
     ]
    },
    {
     "output_type": "execute_result",
     "data": {
      "text/plain": [
       "([1, 4, 3], [1, 4, 3])"
      ]
     },
     "metadata": {},
     "execution_count": 6
    }
   ],
   "source": [
    "print(a is b)  # is: a와 b에 주소가 같은지를 확인\n",
    "\n",
    "a[1] = 4       \n",
    "# 주소가 같이 공유되기 때문에 a의 값을 바꾸면 b의 값도 바뀝니다. \n",
    "\n",
    "print(a,b)"
   ]
  },
  {
   "cell_type": "code",
   "execution_count": 7,
   "metadata": {},
   "outputs": [
    {
     "output_type": "stream",
     "name": "stdout",
     "text": [
      "True\n1475161389056\nFalse\n"
     ]
    }
   ],
   "source": [
    "print(a is b)          # a is b를 하더라고 여전히 True가 나옵니다.\n",
    "\n",
    "b = [1, 2, 3]          # 이름은 b로 같지만 다른 변수가 됩니다. \n",
    "print(id(b))\n",
    "print(a is b) \n",
    "# 위에 있던 a와 새로 정의된 b는 다른 주소를 가지게 됩니다. "
   ]
  },
  {
   "source": [
    "### b 변수를 생성할 때 a 변수의 값을 가져오면서 a와는 다른 주소를 가르키도록 만들 수는 없을까?\n",
    "다음 두 가지 방법이 있습니다.\n",
    "- 1. [ : ] 이용\n",
    "- 2. copy 모듈 이용"
   ],
   "cell_type": "markdown",
   "metadata": {}
  },
  {
   "cell_type": "code",
   "execution_count": 11,
   "metadata": {},
   "outputs": [
    {
     "output_type": "stream",
     "name": "stdout",
     "text": [
      "[1, 2, 3]\nTrue\nFalse\n"
     ]
    },
    {
     "output_type": "execute_result",
     "data": {
      "text/plain": [
       "([1, 4, 3], [1, 2, 3])"
      ]
     },
     "metadata": {},
     "execution_count": 11
    }
   ],
   "source": [
    "# 1. [ : ] 이용\n",
    "\n",
    "a =[1, 2, 3]\n",
    "\n",
    "b = a[:]\n",
    "print(a[:])\n",
    "print(b == a)     # [ : ]를 사용하면 b와 a는 같은 값을 가지지만\n",
    "print(b is a)     # 주소가 서로 달라집니다. \n",
    "\n",
    "a[1]=4            # 주소가 다르기 때문에 a의 값만 바뀝니다. \n",
    "a, b"
   ]
  },
  {
   "source": [
    "### 2. copy 모듈 이용"
   ],
   "cell_type": "markdown",
   "metadata": {}
  },
  {
   "cell_type": "code",
   "execution_count": 16,
   "metadata": {},
   "outputs": [
    {
     "output_type": "stream",
     "name": "stdout",
     "text": [
      "[1, 2, 3]\nTrue\n"
     ]
    },
    {
     "output_type": "execute_result",
     "data": {
      "text/plain": [
       "(False, False)"
      ]
     },
     "metadata": {},
     "execution_count": 16
    }
   ],
   "source": [
    "a = [1, 2, 3]\n",
    "from copy import copy   # copy 모듈을 쓸 때 꼭 넣어야 합니다. \n",
    "b = copy(a)\n",
    "print(b)\n",
    "\n",
    "print(a == b)  # a와 b에는 같은 값이 들어갔지만 \n",
    "\n",
    "b is a, a is b  # 주소는 다릅니다. "
   ]
  },
  {
   "source": [
    "### 변수를 만드는 여러 가지 방법"
   ],
   "cell_type": "markdown",
   "metadata": {}
  },
  {
   "cell_type": "code",
   "execution_count": 19,
   "metadata": {},
   "outputs": [
    {
     "output_type": "stream",
     "name": "stdout",
     "text": [
      "python\nlife\n"
     ]
    },
    {
     "output_type": "execute_result",
     "data": {
      "text/plain": [
       "('python', 'life')"
      ]
     },
     "metadata": {},
     "execution_count": 19
    }
   ],
   "source": [
    "a , b = (\"python\", \"life\")\n",
    "# (,) -> 튜플로 지정\n",
    "print(a)\n",
    "print(b)\n",
    "a, b "
   ]
  },
  {
   "cell_type": "code",
   "execution_count": 20,
   "metadata": {},
   "outputs": [
    {
     "output_type": "stream",
     "name": "stdout",
     "text": [
      "python\nlife\n"
     ]
    }
   ],
   "source": [
    "[a, b] = [\"python\", \"life\"]\n",
    "print(a)\n",
    "print(b)\n",
    "# [] -> 리스트로 지정"
   ]
  },
  {
   "source": [
    "### swaping(값을 동시에 바꿀 수 있습니다.)"
   ],
   "cell_type": "markdown",
   "metadata": {}
  },
  {
   "cell_type": "code",
   "execution_count": 22,
   "metadata": {},
   "outputs": [
    {
     "output_type": "stream",
     "name": "stdout",
     "text": [
      "5\n3\n"
     ]
    }
   ],
   "source": [
    "a =3\n",
    "b =5\n",
    "a, b = b, a  #swaping\n",
    "print(a)\n",
    "print(b)"
   ]
  }
 ]
}