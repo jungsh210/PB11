{
 "metadata": {
  "language_info": {
   "codemirror_mode": {
    "name": "ipython",
    "version": 3
   },
   "file_extension": ".py",
   "mimetype": "text/x-python",
   "name": "python",
   "nbconvert_exporter": "python",
   "pygments_lexer": "ipython3",
   "version": "3.8.5"
  },
  "orig_nbformat": 2,
  "kernelspec": {
   "name": "python385jvsc74a57bd026598d298f606742902e7db6923386a3ef646e73a5b0858c7991afae3a0b0a54",
   "display_name": "Python 3.8.5 64-bit ('base': conda)"
  }
 },
 "nbformat": 4,
 "nbformat_minor": 2,
 "cells": [
  {
   "source": [
    "# ch2_06_tuple.py by PB11\n",
    "### 튜플: tuple 이란?\n",
    "- 리스트는 []으로 둘러싸지만 튜플은 ()으로 둘러싼다.\n",
    "- 리스트는 그 값의 생성, 삭제, 수정이 가능하지만 튜플은 그 값을 바꿀 수 없다."
   ],
   "cell_type": "markdown",
   "metadata": {}
  },
  {
   "cell_type": "code",
   "execution_count": 2,
   "metadata": {},
   "outputs": [
    {
     "output_type": "stream",
     "name": "stdout",
     "text": [
      "(2, 4, 6, 8)\n<class 'tuple'>\n(2, 4, 6, 8)\n"
     ]
    }
   ],
   "source": [
    "even = (2, 4, 6, 8)\n",
    "print(even)\n",
    "\n",
    "print(type(even))       \n",
    "# even은 'touple'이라는 클래스의 객체라는 것을 알 수 있습니다.\n",
    "\n",
    "\n",
    "# 소괄호() 없이 데이터를 , 로 구분하여 나열해도 콤마(,)로 구분된 데이터 구조는 자동으로 튜플로 처리됩니다.\n",
    "even = 2, 4, 6, 8      \n",
    "print(even)         #출력하면 even은 튜플 변수라는 것을 확인 가능"
   ]
  },
  {
   "source": [
    "### 여러 가지 튜플"
   ],
   "cell_type": "markdown",
   "metadata": {}
  },
  {
   "cell_type": "code",
   "execution_count": 1,
   "metadata": {},
   "outputs": [
    {
     "output_type": "stream",
     "name": "stdout",
     "text": [
      "()\n<class 'tuple'>\n(1,)\n<class 'tuple'>\n(1, 2, 3)\n<class 'tuple'>\n(1, 2, 3)\n<class 'tuple'>\n('a', 'b', ('ab', 'cd'))\n<class 'tuple'>\n"
     ]
    }
   ],
   "source": [
    "# 여러 가지 튜플\n",
    "\n",
    "t1 = ()           #튜플 초기화\n",
    "print(t1)         #튜플 구조로 저장\n",
    "print(type(t1))   #t1은 튜플 클래스의 객체\n",
    "\n",
    "\n",
    "t2 = (1,)         \n",
    "print(t2)          #튜플 구조로 저장\n",
    "print(type(t2))    # t2는 튜플 클래스의 객체\n",
    "#튜플은 한 개의 요소를 가질 때도 콤마(,)를 붙여야 합니다. 안 붙이면 1은 정수 클래스의 객체라고 결과가 나옵니다.\n",
    "\n",
    "\n",
    "t3 = (1, 2, 3)      \n",
    "print(t3)           #튜플 구조로 저장\n",
    "print(type(t3))     #t3는 튜플 클래스의 객체\n",
    "\n",
    "\n",
    "t4 = 1, 2, 3       # 소괄호가 없어도 상관없습니다. \n",
    "print(t4)          #튜플 구조로 저장\n",
    "print(type(t4))    #t4는 튜플 클래스의 객체\n",
    "\n",
    "\n",
    "t5 = (\"a\", \"b\", (\"ab\", \"cd\"))    #튜플도 이중 튜플, 삼중 튜플, 4차원 튜플로 확장 가능\n",
    "print(t5)            #튜플 구조로 저장\n",
    "print(type(t5))      #t5는 튜플 클래스의 객체"
   ]
  },
  {
   "source": [
    "- t2 = (1,)처럼 단지 1개의 요소만을 가질 때는 요소 뒤에 콤마(,)를 반드시 붙여야 튜플로 지정이 됩니다.\n",
    "- t4 = 1, 2, 3처럼 괄호()를 생략해도 무방하다."
   ],
   "cell_type": "markdown",
   "metadata": {}
  },
  {
   "source": [
    "### 튜플의 요소값을 변경하려 할 때"
   ],
   "cell_type": "markdown",
   "metadata": {}
  },
  {
   "cell_type": "code",
   "execution_count": 2,
   "metadata": {},
   "outputs": [
    {
     "output_type": "error",
     "ename": "TypeError",
     "evalue": "'tuple' object doesn't support item deletion",
     "traceback": [
      "\u001b[1;31m---------------------------------------------------------------------------\u001b[0m",
      "\u001b[1;31mTypeError\u001b[0m                                 Traceback (most recent call last)",
      "\u001b[1;32m<ipython-input-2-c327678d8c73>\u001b[0m in \u001b[0;36m<module>\u001b[1;34m\u001b[0m\n\u001b[0;32m      2\u001b[0m \u001b[1;33m\u001b[0m\u001b[0m\n\u001b[0;32m      3\u001b[0m \u001b[0mt1\u001b[0m \u001b[1;33m=\u001b[0m \u001b[1;33m(\u001b[0m\u001b[1;36m1\u001b[0m\u001b[1;33m,\u001b[0m \u001b[1;36m2\u001b[0m\u001b[1;33m,\u001b[0m \u001b[1;34m\"a\"\u001b[0m\u001b[1;33m,\u001b[0m \u001b[1;34m\"b\"\u001b[0m\u001b[1;33m)\u001b[0m\u001b[1;33m\u001b[0m\u001b[1;33m\u001b[0m\u001b[0m\n\u001b[1;32m----> 4\u001b[1;33m \u001b[1;32mdel\u001b[0m \u001b[0mt1\u001b[0m\u001b[1;33m[\u001b[0m\u001b[1;36m0\u001b[0m\u001b[1;33m]\u001b[0m\u001b[1;33m\u001b[0m\u001b[1;33m\u001b[0m\u001b[0m\n\u001b[0m",
      "\u001b[1;31mTypeError\u001b[0m: 'tuple' object doesn't support item deletion"
     ]
    }
   ],
   "source": [
    "# 1. 튜플의 요소값을 삭제하려 할 때\n",
    "\n",
    "t1 = (1, 2, \"a\", \"b\")\n",
    "del t1[0]            \n",
    "\n",
    "# 튜플은 불변형 데이터 구조이기 때문에 특정한 값을 삭제할 수 없으므로 Error가 뜹니다."
   ]
  },
  {
   "cell_type": "code",
   "execution_count": 3,
   "metadata": {},
   "outputs": [
    {
     "output_type": "error",
     "ename": "TypeError",
     "evalue": "'tuple' object does not support item assignment",
     "traceback": [
      "\u001b[1;31m---------------------------------------------------------------------------\u001b[0m",
      "\u001b[1;31mTypeError\u001b[0m                                 Traceback (most recent call last)",
      "\u001b[1;32m<ipython-input-3-d84142118630>\u001b[0m in \u001b[0;36m<module>\u001b[1;34m\u001b[0m\n\u001b[0;32m      1\u001b[0m \u001b[1;31m# 2. 튜플 요솟값을 변경하려 할 때\u001b[0m\u001b[1;33m\u001b[0m\u001b[1;33m\u001b[0m\u001b[1;33m\u001b[0m\u001b[0m\n\u001b[0;32m      2\u001b[0m \u001b[1;33m\u001b[0m\u001b[0m\n\u001b[1;32m----> 3\u001b[1;33m \u001b[0mt1\u001b[0m\u001b[1;33m[\u001b[0m\u001b[1;36m0\u001b[0m\u001b[1;33m]\u001b[0m \u001b[1;33m=\u001b[0m \u001b[1;34m\"c\"\u001b[0m\u001b[1;33m\u001b[0m\u001b[1;33m\u001b[0m\u001b[0m\n\u001b[0m\u001b[0;32m      4\u001b[0m \u001b[0mprint\u001b[0m\u001b[1;33m(\u001b[0m\u001b[0mt1\u001b[0m\u001b[1;33m)\u001b[0m\u001b[1;33m\u001b[0m\u001b[1;33m\u001b[0m\u001b[0m\n",
      "\u001b[1;31mTypeError\u001b[0m: 'tuple' object does not support item assignment"
     ]
    }
   ],
   "source": [
    "# 2. 튜플 요솟값을 변경하려 할 때\n",
    "\n",
    "t1[0] = \"c\"\n",
    "print(t1)\n",
    "\n",
    "# 튜플은 불변형 데이터 구조이기 때문에 특정한 값을 변경할 수 없으므로 Error가 뜹니다."
   ]
  },
  {
   "source": [
    "## 튜플 사용법"
   ],
   "cell_type": "markdown",
   "metadata": {}
  },
  {
   "cell_type": "code",
   "execution_count": 6,
   "metadata": {},
   "outputs": [
    {
     "output_type": "stream",
     "name": "stdout",
     "text": [
      "1\nb\n"
     ]
    }
   ],
   "source": [
    "# 인덱싱하기\n",
    "#튜플도 리스트와 같이 여러 가지 형태의 데이터 타입으로 튜플을 정의할 수 있습니다.\n",
    "\n",
    "t1 = (1, 2, \"a\", \"b\")\n",
    "print(t1[0])      #0번째 요소인 1을 출력\n",
    "print(t1[3])      #3번째 요소인 문자열 b를 출력"
   ]
  },
  {
   "cell_type": "code",
   "execution_count": 7,
   "metadata": {},
   "outputs": [
    {
     "output_type": "stream",
     "name": "stdout",
     "text": [
      "(2, 'a', 'b')\n('a',)\n('a', 'b')\n"
     ]
    }
   ],
   "source": [
    "# 슬라이싱하기\n",
    "\n",
    "t1 = (1, 2, \"a\", \"b\")\n",
    "print(t1[1:])      #1번째 요소부터 맨 마지막 요소까지 출력\n",
    "                   #t1[1:] = (2, 'a', 'b') 출력 확인 가능 \n",
    "\n",
    "print(t1[2:-1])    #2번째 요소부터 맨 마지막 요소 앞(\"a\")까지 출력\n",
    "                #주의!! 한 개의 요소를 가지기 때문에 (\"a\",)를 출력\n",
    "                   #t1[2:-1] = ('a',) 출력 확인 가능\n",
    "\n",
    "print(t1[2:])      #2번째 요소부터 맨 마지막 요소까지 출력\n",
    "                   #t1[2:] = ('a', 'b') 출력 확인 가능"
   ]
  },
  {
   "cell_type": "code",
   "execution_count": 8,
   "metadata": {},
   "outputs": [
    {
     "output_type": "stream",
     "name": "stdout",
     "text": [
      "(1, 2, 'a', 'b', 3, 4)\n"
     ]
    }
   ],
   "source": [
    "# 튜플 더하기\n",
    "t1 = (1, 2, \"a\", \"b\")\n",
    "t2 = (3, 4)\n",
    "print(t1 + t2)    # 튜플이 확장이 됩니다. "
   ]
  },
  {
   "cell_type": "code",
   "execution_count": 4,
   "metadata": {},
   "outputs": [
    {
     "output_type": "stream",
     "name": "stdout",
     "text": [
      "2434575815040\n2434575815040\n(3, 4, 3, 4, 3, 4)\n2434579368832\n(3, 4, 3, 4, 3, 4)\n"
     ]
    }
   ],
   "source": [
    "# 튜플 곱하기\n",
    "#id() 함수는 특정 변수의 메모리 상에서의 주소를 가져오는 역할을 합니다. \n",
    "t2 = (3, 4)\n",
    "print(id(t2))       #t2의 주소를 확인 가능          \n",
    "\n",
    "t2 * 3\n",
    "print(id(t2))       #앞의 t2의 주소와 똑같은 주소 -> 주소가 변하지 않음 \n",
    "print(t2*3)         #t2를 3번 곱한 결과가 출력  \n",
    "                    #(3, 4, 3, 4, 3, 4)\n",
    "\n",
    "\n",
    "t2 = t2 * 3         #t2에 t2*3을 대입\n",
    "print(id(t2))       #새로운 메모리에 새로운 변수 t2가 저장이 되기 때문에 앞의 t2의 주소와 달라집니다.\n",
    "print(t2)           #t2안에는 t2를 3번 곱한 값이 들어가 있습니다. \n",
    "                    #(3, 4, 3, 4, 3, 4)"
   ]
  },
  {
   "cell_type": "code",
   "execution_count": 11,
   "metadata": {},
   "outputs": [
    {
     "output_type": "execute_result",
     "data": {
      "text/plain": [
       "4"
      ]
     },
     "metadata": {},
     "execution_count": 11
    }
   ],
   "source": [
    "# 튜플 길이 구하기 -> len()함수 이용\n",
    "# 튜플의 길이를 구하는 것 = 리스트의 길이 구하기 \n",
    "\n",
    "t1 = (1, 2, \"a\", \"b\")\n",
    "len(t1)"
   ]
  }
 ]
}