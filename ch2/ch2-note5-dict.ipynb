{
 "metadata": {
  "language_info": {
   "codemirror_mode": {
    "name": "ipython",
    "version": 3
   },
   "file_extension": ".py",
   "mimetype": "text/x-python",
   "name": "python",
   "nbconvert_exporter": "python",
   "pygments_lexer": "ipython3",
   "version": "3.8.5"
  },
  "orig_nbformat": 2,
  "kernelspec": {
   "name": "python385jvsc74a57bd026598d298f606742902e7db6923386a3ef646e73a5b0858c7991afae3a0b0a54",
   "display_name": "Python 3.8.5 64-bit ('base': conda)"
  }
 },
 "nbformat": 4,
 "nbformat_minor": 2,
 "cells": [
  {
   "source": [
    "## ch2-note5-dict.ipynb by PB11\n",
    "### 딕셔너리: 딕셔너리(Dictionary)란?\n",
    "- 딕셔너리란 대응 관계를 나타내는 자료형.\n",
    "- 연관 배열(Associative array) 또는 해시(Hash)\n",
    "- 딕셔너리는 Key와 Value를 한 쌍으로 갖는 자료형\n",
    "\n",
    " 기본 딕셔너리의 모습\n",
    "- {Key1:Value1, Key2:Value2, Key3:Value3, ...}\n",
    "- Key와 Value의 쌍 여러 개가 { }로 둘러싸여 있다.\n",
    "- 각각의 요소는 Key : Value 형태로 이루어져 있고 쉼표(,)로 구분\n",
    "### dic = {\"name\": \"pey\", \"phone\": \"0119993323\", \"birth\": \"1118\"}\n",
    "- Key는 각각 'name', 'phone', 'birth'\n",
    "- 각 Key에 해당하는 Value는 'pey', '0119993323', '1118'"
   ],
   "cell_type": "markdown",
   "metadata": {}
  },
  {
   "cell_type": "code",
   "execution_count": 31,
   "metadata": {},
   "outputs": [
    {
     "output_type": "stream",
     "name": "stdout",
     "text": [
      "<class 'dict'>\n"
     ]
    }
   ],
   "source": [
    "dic = {\"name\": \"pey\", \"phone\": \"0119993323\", \"birth\": \"1118\"}\n",
    "print(type(dic))"
   ]
  },
  {
   "source": [
    "### 여러 가지 딕셔너리"
   ],
   "cell_type": "markdown",
   "metadata": {}
  },
  {
   "cell_type": "code",
   "execution_count": 33,
   "metadata": {},
   "outputs": [
    {
     "output_type": "stream",
     "name": "stdout",
     "text": [
      "{1: 'hi'}\nhi\n"
     ]
    },
    {
     "output_type": "error",
     "ename": "KeyError",
     "evalue": "0",
     "traceback": [
      "\u001b[1;31m---------------------------------------------------------------------------\u001b[0m",
      "\u001b[1;31mKeyError\u001b[0m                                  Traceback (most recent call last)",
      "\u001b[1;32m<ipython-input-33-03ffe1ec97db>\u001b[0m in \u001b[0;36m<module>\u001b[1;34m\u001b[0m\n\u001b[0;32m      8\u001b[0m \u001b[0mprint\u001b[0m\u001b[1;33m(\u001b[0m\u001b[0ma\u001b[0m\u001b[1;33m[\u001b[0m\u001b[1;36m1\u001b[0m\u001b[1;33m]\u001b[0m\u001b[1;33m)\u001b[0m            \u001b[1;31m# a 딕셔너리에 있는 1번째 요소 출력\u001b[0m\u001b[1;33m\u001b[0m\u001b[1;33m\u001b[0m\u001b[0m\n\u001b[0;32m      9\u001b[0m                        \u001b[1;31m# a[1] = 1\u001b[0m\u001b[1;33m\u001b[0m\u001b[1;33m\u001b[0m\u001b[1;33m\u001b[0m\u001b[0m\n\u001b[1;32m---> 10\u001b[1;33m \u001b[0mprint\u001b[0m\u001b[1;33m(\u001b[0m\u001b[0ma\u001b[0m\u001b[1;33m[\u001b[0m\u001b[1;36m0\u001b[0m\u001b[1;33m]\u001b[0m\u001b[1;33m)\u001b[0m\u001b[1;33m\u001b[0m\u001b[1;33m\u001b[0m\u001b[0m\n\u001b[0m\u001b[0;32m     11\u001b[0m \u001b[1;33m\u001b[0m\u001b[0m\n\u001b[0;32m     12\u001b[0m \u001b[0ma\u001b[0m \u001b[1;33m=\u001b[0m \u001b[1;33m{\u001b[0m\u001b[1;34m\"a\"\u001b[0m \u001b[1;33m:\u001b[0m \u001b[1;33m[\u001b[0m\u001b[1;36m1\u001b[0m\u001b[1;33m,\u001b[0m \u001b[1;36m2\u001b[0m\u001b[1;33m,\u001b[0m \u001b[1;36m3\u001b[0m\u001b[1;33m]\u001b[0m\u001b[1;33m}\u001b[0m\u001b[1;33m\u001b[0m\u001b[1;33m\u001b[0m\u001b[0m\n",
      "\u001b[1;31mKeyError\u001b[0m: 0"
     ]
    }
   ],
   "source": [
    "# 여러 가지 딕셔너리\n",
    "# 딕셔너리는 {}에 담겨있는 형태로 출력\n",
    "# 딕셔너리 -> {key:value}\n",
    "#key값은 숫자나 문자열 모두 가능\n",
    "\n",
    "a = {1: \"hi\"}          #key값: 1, value값: \"hi\"\n",
    "print(a)\n",
    "print(a[1])            # a 딕셔너리에 있는 1번째 요소 출력 \n",
    "                       # a[1] = 1\n",
    "\n",
    "#딕셔너리는 인덱싱을 할 때 key값으로 합니다.\n",
    "print(a[0])            # a 딕셔너리에는 0이라는 key값이 없기 때문에 Error가 뜹니다."
   ]
  },
  {
   "cell_type": "code",
   "execution_count": 34,
   "metadata": {},
   "outputs": [
    {
     "output_type": "stream",
     "name": "stdout",
     "text": [
      "1\n"
     ]
    },
    {
     "output_type": "error",
     "ename": "TypeError",
     "evalue": "unhashable type: 'dict'",
     "traceback": [
      "\u001b[1;31m---------------------------------------------------------------------------\u001b[0m",
      "\u001b[1;31mTypeError\u001b[0m                                 Traceback (most recent call last)",
      "\u001b[1;32m<ipython-input-34-08fee25f1a23>\u001b[0m in \u001b[0;36m<module>\u001b[1;34m\u001b[0m\n\u001b[0;32m      2\u001b[0m \u001b[0mprint\u001b[0m\u001b[1;33m(\u001b[0m\u001b[0mlen\u001b[0m\u001b[1;33m(\u001b[0m\u001b[0ma\u001b[0m\u001b[1;33m)\u001b[0m\u001b[1;33m)\u001b[0m   \u001b[1;31m# key, value는 하나로 묶어서 하나의 항목으로 보기 때문에 a 딕셔너리의 길이는 1이 됩니다.\u001b[0m\u001b[1;33m\u001b[0m\u001b[1;33m\u001b[0m\u001b[0m\n\u001b[0;32m      3\u001b[0m \u001b[1;33m\u001b[0m\u001b[0m\n\u001b[1;32m----> 4\u001b[1;33m \u001b[0mprint\u001b[0m\u001b[1;33m(\u001b[0m\u001b[0ma\u001b[0m\u001b[1;33m[\u001b[0m\u001b[0ma\u001b[0m\u001b[1;33m]\u001b[0m\u001b[1;33m)\u001b[0m     \u001b[1;31m#\u001b[0m\u001b[1;33m\u001b[0m\u001b[1;33m\u001b[0m\u001b[0m\n\u001b[0m\u001b[0;32m      5\u001b[0m \u001b[1;33m\u001b[0m\u001b[0m\n\u001b[0;32m      6\u001b[0m \u001b[0mprint\u001b[0m\u001b[1;33m(\u001b[0m\u001b[0ma\u001b[0m\u001b[1;33m[\u001b[0m\u001b[1;34m\"a\"\u001b[0m\u001b[1;33m]\u001b[0m\u001b[1;33m)\u001b[0m\u001b[1;33m\u001b[0m\u001b[1;33m\u001b[0m\u001b[0m\n",
      "\u001b[1;31mTypeError\u001b[0m: unhashable type: 'dict'"
     ]
    }
   ],
   "source": [
    "\n",
    "a = {\"a\" : [1, 2, 3]}     # value에는 복합 자료형도 사용될 수 있습니다. \n",
    "print(len(a))   # key, value는 하나로 묶어서 하나의 항목으로 보기 때문에 a 딕셔너리의 길이는 1이 됩니다.\n",
    "\n",
    "print(a[a])     # a라는 문자는 있지만, a라는 변수는 key값에 없기 때문에 Error가 뜹니다."
   ]
  },
  {
   "cell_type": "code",
   "execution_count": 35,
   "metadata": {},
   "outputs": [
    {
     "output_type": "stream",
     "name": "stdout",
     "text": [
      "[1, 2, 3]\n"
     ]
    }
   ],
   "source": [
    "# print(a[a])에서 Error가 나지 않는 방법\n",
    "\n",
    "print(a[\"a\"])   # 딕셔너리에 존재하는 key값으로 인덱싱을 해야 값이 출력됩니다. "
   ]
  },
  {
   "source": [
    "### 딕셔너리 쌍 추가하기"
   ],
   "cell_type": "markdown",
   "metadata": {}
  },
  {
   "cell_type": "code",
   "execution_count": 36,
   "metadata": {},
   "outputs": [
    {
     "output_type": "stream",
     "name": "stdout",
     "text": [
      "{1: 'a', 2: 'b'}\n{1: 'a', 2: 'b', 'name': 'pey'}\n{1: 'a', 2: 'b', 'name': 'pey', 3: [1, 2, 3]}\n"
     ]
    }
   ],
   "source": [
    "a = {1: \"a\"}\n",
    "a[2] = \"b\"        \n",
    "# a 딕셔너리의 key 값 2를 지정한 후 value값 \"b\"를 지정해 줍니다. \n",
    "print(a)\n",
    "\n",
    "a[\"name\"] = \"pey\" \n",
    " # a 딕셔너리의 key 값 name을 지정한 후 value값 \"pey\"를 지정해 줍니다. \n",
    "print(a)\n",
    "\n",
    "a[3] = [1, 2, 3]  \n",
    " # a 딕셔너리의 key 값 3을 지정한 후 value값 [1,2,3]을 지정해 줍니다. \n",
    "print(a)"
   ]
  },
  {
   "source": [
    "### 딕셔너리 쌍 삭제하기"
   ],
   "cell_type": "markdown",
   "metadata": {}
  },
  {
   "cell_type": "code",
   "execution_count": 8,
   "metadata": {},
   "outputs": [
    {
     "output_type": "stream",
     "name": "stdout",
     "text": [
      "{2: 'b', 'name': 'pey', 3: [1, 2, 3]}\n"
     ]
    }
   ],
   "source": [
    "# 딕셔너리 쌍 삭제하기\n",
    "\n",
    "del a[1]       # key 1에 해당하는 값을 삭제\n",
    "print(a)"
   ]
  },
  {
   "source": [
    "## 딕셔너리: 사용 방법"
   ],
   "cell_type": "markdown",
   "metadata": {}
  },
  {
   "cell_type": "code",
   "execution_count": 9,
   "metadata": {},
   "outputs": [
    {
     "output_type": "stream",
     "name": "stdout",
     "text": [
      "{'김연아': '피겨스케이팅', '류현진': '야구', '손흥민': '축구', '귀도': '파이썬'}\n축구\n"
     ]
    }
   ],
   "source": [
    "# 딕셔너리: 사용 방법\n",
    "\n",
    "d = {\"김연아\": \"피겨스케이팅\", \"류현진\": \"야구\", \"손흥민\": \"축구\", \"귀도\": \"파이썬\"}\n",
    "print(d)"
   ]
  },
  {
   "cell_type": "code",
   "execution_count": 37,
   "metadata": {},
   "outputs": [
    {
     "output_type": "stream",
     "name": "stdout",
     "text": [
      "축구\n"
     ]
    }
   ],
   "source": [
    "print(d[\"손흥민\"])    # key 손흥민에 해댱하는 값인 축구를 출력"
   ]
  },
  {
   "source": [
    "### 딕셔너리에서 key 사용해 value 얻기"
   ],
   "cell_type": "markdown",
   "metadata": {}
  },
  {
   "cell_type": "code",
   "execution_count": 12,
   "metadata": {},
   "outputs": [
    {
     "output_type": "stream",
     "name": "stdout",
     "text": [
      "10\n99\na\n2\n"
     ]
    },
    {
     "output_type": "error",
     "ename": "NameError",
     "evalue": "name 'b' is not defined",
     "traceback": [
      "\u001b[1;31m---------------------------------------------------------------------------\u001b[0m",
      "\u001b[1;31mNameError\u001b[0m                                 Traceback (most recent call last)",
      "\u001b[1;32m<ipython-input-12-49ed16b69a16>\u001b[0m in \u001b[0;36m<module>\u001b[1;34m\u001b[0m\n\u001b[0;32m     10\u001b[0m \u001b[0ma\u001b[0m \u001b[1;33m=\u001b[0m \u001b[1;33m{\u001b[0m\u001b[1;34m\"a\"\u001b[0m\u001b[1;33m:\u001b[0m \u001b[1;36m1\u001b[0m\u001b[1;33m,\u001b[0m \u001b[1;34m\"b\"\u001b[0m\u001b[1;33m:\u001b[0m \u001b[1;36m2\u001b[0m\u001b[1;33m}\u001b[0m\u001b[1;33m\u001b[0m\u001b[1;33m\u001b[0m\u001b[0m\n\u001b[0;32m     11\u001b[0m \u001b[0mprint\u001b[0m\u001b[1;33m(\u001b[0m\u001b[0ma\u001b[0m\u001b[1;33m[\u001b[0m\u001b[1;34m\"b\"\u001b[0m\u001b[1;33m]\u001b[0m\u001b[1;33m)\u001b[0m\u001b[1;33m\u001b[0m\u001b[1;33m\u001b[0m\u001b[0m\n\u001b[1;32m---> 12\u001b[1;33m \u001b[0mprint\u001b[0m\u001b[1;33m(\u001b[0m\u001b[0ma\u001b[0m\u001b[1;33m[\u001b[0m\u001b[0mb\u001b[0m\u001b[1;33m]\u001b[0m\u001b[1;33m)\u001b[0m\u001b[1;33m\u001b[0m\u001b[1;33m\u001b[0m\u001b[0m\n\u001b[0m",
      "\u001b[1;31mNameError\u001b[0m: name 'b' is not defined"
     ]
    }
   ],
   "source": [
    "# 딕셔너리에서 key 사용해 value 얻기\n",
    "\n",
    "grade = {\"pey\": 10, \"julliet\": 99}\n",
    "print(grade[\"pey\"])       #key 값 \"pey\"에 해당하는 값인 10을 출력\n",
    "print(grade[\"julliet\"])   #key 값 \"julliet\"에 해당하는 값인 99를 출력\n",
    "\n",
    "a = {1: \"a\", 2: \"b\"}   \n",
    "print(a[1])               #key 값 1에 해당하는 값인 a를 출력\n",
    "\n",
    "a = {\"a\": 1, \"b\": 2}\n",
    "print(a[\"b\"])             #key 값 \"b\"에 해당하는 값인 2를출력\n",
    "\n",
    "print(a[b])               \n",
    "#b라는 변수는 key값에 존재하지 않기 때문에 Error가 뜹니다."
   ]
  },
  {
   "cell_type": "code",
   "execution_count": 14,
   "metadata": {},
   "outputs": [
    {
     "output_type": "stream",
     "name": "stdout",
     "text": [
      "1118\n0109993323\n"
     ]
    }
   ],
   "source": [
    "dic = {\"name\": \"pey\", \"phone\": \"0109993323\", \"birth\": \"1118\"}\n",
    "print(dic[\"birth\"])     #key 값 \"birth\"에 해당하는 값인 1118을 출력\n",
    "print(dic[\"phone\"])     #key 값 \"phone\"에 해당하는 값인 0109993323을 출력"
   ]
  },
  {
   "source": [
    "### 딕셔너리를 만들 때 주의할 사항\n",
    "- 딕셔너리에서 key는 고유한 값이므로 중복되는 key의 값을 설정해 놓으면 하나를 제외한 나머지 것들이 모두 무시된다."
   ],
   "cell_type": "markdown",
   "metadata": {}
  },
  {
   "cell_type": "code",
   "execution_count": 38,
   "metadata": {},
   "outputs": [
    {
     "output_type": "stream",
     "name": "stdout",
     "text": [
      "{1: 'b'}\nb\n"
     ]
    }
   ],
   "source": [
    "# 위의 예시\n",
    "# key 값이 중복이 되면 맨 마지막에 정의된 key 값이 출력됩니다. \n",
    "a = {1: \"a\", 1: \"b\"}\n",
    "print(a)\n",
    "print(a[1])        "
   ]
  },
  {
   "source": [
    "## 딕셔너리: 관련 내장 함수들"
   ],
   "cell_type": "markdown",
   "metadata": {}
  },
  {
   "cell_type": "code",
   "execution_count": 39,
   "metadata": {},
   "outputs": [
    {
     "output_type": "stream",
     "name": "stdout",
     "text": [
      "dict_keys(['name', 'phone', 'birth'])\n['name', 'phone', 'birth']\n"
     ]
    }
   ],
   "source": [
    "# key 리스트 만들기(keys)\n",
    "# key 값만 뽑아서 리스트를 만들 때는 keys() 함수를 사용합니다\n",
    "\n",
    "a = {\"name\": \"pey\", \"phone\": \"0109993323\", \"birth\": \"1118\"}\n",
    "\n",
    "print(a.keys())\n",
    "\n",
    "print(list(a.keys()))    # 확실하게 key 리스트가 만들어졌는지 확인 가능"
   ]
  },
  {
   "cell_type": "code",
   "execution_count": 40,
   "metadata": {},
   "outputs": [
    {
     "output_type": "stream",
     "name": "stdout",
     "text": [
      "name\nphone\nbirth\n"
     ]
    }
   ],
   "source": [
    "# 기본적인 반복(iterate) 구문 (예: for문)을 실행\n",
    "# for문을 이용하면 순서대로 key를 출력해줍니다. \n",
    "for k in a.keys():\n",
    "    print(k)"
   ]
  },
  {
   "cell_type": "code",
   "execution_count": 42,
   "metadata": {},
   "outputs": [
    {
     "output_type": "stream",
     "name": "stdout",
     "text": [
      "dict_values(['pey', '0109993323', '1118'])\n['pey', '0109993323', '1118']\n"
     ]
    }
   ],
   "source": [
    "# value 리스트 만들기(values)\n",
    "# value 값만 뽑아서 리스트를 만들 때는 values() 함수를 사용합니다\n",
    "print(a.values())\n",
    "\n",
    "print(list(a.values()))      # 확실하게 value 리스트가 만들어졌는지 확인 가능"
   ]
  },
  {
   "cell_type": "code",
   "execution_count": 43,
   "metadata": {},
   "outputs": [
    {
     "output_type": "stream",
     "name": "stdout",
     "text": [
      "dict_items([('name', 'pey'), ('phone', '0109993323'), ('birth', '1118')])\n[('name', 'pey'), ('phone', '0109993323'), ('birth', '1118')]\n"
     ]
    }
   ],
   "source": [
    "# key, value 쌍 얻기(items)\n",
    "# key, value 쌍을 얻을 때는 items() 함수를 사용합니다.\n",
    "\n",
    "print(a.items())        # key, value 쌍을 튜플에 넣어서 출력\n",
    "\n",
    "print(list(a.items()))  # 확실하게 key, value 쌍이 튜플에 만들어졌는지 확인 가능"
   ]
  },
  {
   "cell_type": "code",
   "execution_count": 25,
   "metadata": {},
   "outputs": [
    {
     "output_type": "stream",
     "name": "stdout",
     "text": [
      "{}\n"
     ]
    }
   ],
   "source": [
    "# key: value 쌍 모두 지우기(clear)\n",
    "\n",
    "a.clear()\n",
    "print(a)"
   ]
  },
  {
   "cell_type": "code",
   "execution_count": 45,
   "metadata": {},
   "outputs": [
    {
     "output_type": "stream",
     "name": "stdout",
     "text": [
      "pey\n0119993323\nNone\nNone\n"
     ]
    }
   ],
   "source": [
    "# key로 value 얻기(get)\n",
    "#인덱싱을 하지않고 key 값으로 value 값을 얻을 때에는 get() 함수를 사용합니다.\n",
    "\n",
    "a = {\"name\": \"pey\", \"phone\": \"0119993323\", \"birth\": \"1118\"}\n",
    "\n",
    "print(a.get(\"name\"))\n",
    "\n",
    "print(a.get(\"phone\"))\n",
    "\n",
    "print(a.get(\"hcit\"))       # key 값이 없을 때는 None이 출력됩니다.\n",
    "\n",
    "print(a.get(\"nokey\"))      # key 값이 없을 때는 None이 출력됩니다."
   ]
  },
  {
   "source": [
    "### get(x, '디폴트 값')\n",
    "- 딕셔너리 안에 찾으려는 Key 값이 없을 경우 미리 정해 둔 디폴트 값을 대신 가져오게 설정."
   ],
   "cell_type": "markdown",
   "metadata": {}
  },
  {
   "cell_type": "code",
   "execution_count": 46,
   "metadata": {},
   "outputs": [
    {
     "output_type": "stream",
     "name": "stdout",
     "text": [
      "bar\npey\n"
     ]
    }
   ],
   "source": [
    "#없는 key 값을 출력할 때는 get()\n",
    "print(a.get(\"foo\", \"bar\"))    # key 값이 없는 경우에는 디폴트 값이 출력\n",
    "print(a.get(\"name\", \"bar\"))   # key 값이 있는 경우에는 value 값이 출력"
   ]
  },
  {
   "source": [
    "### 해당 Key가 딕셔너리 안에 있는지 조사하기(in)"
   ],
   "cell_type": "markdown",
   "metadata": {}
  },
  {
   "cell_type": "code",
   "execution_count": 47,
   "metadata": {},
   "outputs": [
    {
     "output_type": "stream",
     "name": "stdout",
     "text": [
      "True\nFalse\n"
     ]
    }
   ],
   "source": [
    "a = {\"name\": \"pey\", \"phone\": \"0119993323\", \"birth\": \"1118\"}\n",
    "\n",
    "print(\"name\" in a)\n",
    "print(\"foo\" in a)\n",
    "\n",
    "# key 값이 있으면 True, key 값이 없으면 False가 출력"
   ]
  },
  {
   "cell_type": "code",
   "execution_count": null,
   "metadata": {},
   "outputs": [],
   "source": []
  }
 ]
}